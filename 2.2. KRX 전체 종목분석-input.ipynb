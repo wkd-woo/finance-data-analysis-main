{
 "cells": [
  {
   "cell_type": "markdown",
   "metadata": {
    "id": "HWKVTvP7v9xb"
   },
   "source": [
    "[![Open In Colab](https://colab.research.google.com/assets/colab-badge.svg)](https://colab.research.google.com/github/corazzon/finance-data-analysis/blob/main/2.2.%20KRX%20%EC%A0%84%EC%B2%B4%20%EC%A2%85%EB%AA%A9%EB%B6%84%EC%84%9D-input.ipynb)\n",
    "\n",
    "## 한국거래소(KRX) 전체 종목 분석\n",
    "* Pandas cheat sheet 를 함께 보세요! : [Pandas_Cheat_Sheet.pdf](https://pandas.pydata.org/Pandas_Cheat_Sheet.pdf)\n",
    "\n",
    "* FinanceDataReader를 통한 KRX 전체 종목 수집\n",
    "    * to_csv(\"파일명\", index=False) : csv 파일로 저장하기\n",
    "    * read_csv(\"파일명\") : csv 파일 불러오기\n",
    "    \n",
    "* Pandas를 통한 파일 저장과 불러오기\n",
    "    * shape를 통한 행과 열의 수 보기\n",
    "    * head, tail, sample 을 통한 일부 데이터 가져오기\n",
    "    \n",
    "* DataFrame의 info(), describe() 등을 통한 요약과 기술통계 값 구하기\n",
    "    * info()\n",
    "    * describe()\n",
    "    * nunique()\n",
    "    * index\n",
    "    * columns\n",
    "    * values\n",
    "    \n",
    "* Pandas의  DataFrame과 Series의 이해\n",
    "    * Series : 1차원 벡터구조\n",
    "    * DataFrame : 2차원 행렬구조\n",
    "    \n",
    "* 색인하기\n",
    "    * [컬럼]\n",
    "    * .loc[행]\n",
    "    * .loc[행, 열]\n",
    "    * .loc[조건식, 열]\n",
    "    \n",
    "* DataFrame의 데이터 타입 이해하기\n",
    "    * 날짜 데이터의 변환\n",
    "    \n",
    "* DataFrame 다루기\n",
    "    * 열(column) 인덱싱\n",
    "    * 행(index) 인덱싱\n",
    "    * 행, 열 인덱싱\n",
    "    * 정렬하기 : sort_values 사용하기\n",
    "    * 조건식 사용하기\n",
    "\n",
    "* 빈도수 구하기\n",
    "    * 한 개의 변수 : series.value_counts()\n",
    "    * 두 개의 변수 : pd.crosstab()\n",
    "\n",
    "* groupby 와 pivot_table\n",
    "    * 다양한 연산식의 사용\n",
    "\n",
    "\n",
    "## ⚠️ 주의할 점 ⚠️ \n",
    "* 강좌의 분석내용과 여러분의 실습 결과는 시점의 차이로 빈도수 등의 결과값이 다르게 나옵니다.\n",
    "\n",
    "\n",
    "\n",
    "## 라이브러리 불러오기"
   ]
  },
  {
   "cell_type": "code",
   "execution_count": 3,
   "metadata": {
    "id": "OGQuQOfmv9xb"
   },
   "outputs": [],
   "source": [
    "# 데이터 분석을 위해 pandas, 시각화를 위해 seaborn 불러오기\n",
    "import pandas as pd\n",
    "import seaborn as sns"
   ]
  },
  {
   "cell_type": "markdown",
   "metadata": {
    "id": "NZrikuL1v9xa"
   },
   "source": [
    "## FinanceDataReader 로 수집한 전체 종목 불러오기\n",
    "\n",
    "* 한국 주식 가격, 미국주식 가격, 지수, 환율, 암호화폐 가격, 종목 리스팅 등 금융 데이터 수집 라이브러리\n",
    "\n",
    "* [FinanceDataReader 사용자 안내서 | FinanceData](https://financedata.github.io/posts/finance-data-reader-users-guide.html)\n",
    "* https://pandas-datareader.readthedocs.io/en/latest/readers/index.html\n",
    "\n",
    "<img src=\"https://pandas.pydata.org/docs/_images/02_io_readwrite.svg\">"
   ]
  },
  {
   "cell_type": "markdown",
   "metadata": {},
   "source": [
    "## <font color=\"red\">종목명이 영문으로 표기될 때</font>\n",
    "\n",
    "해당 수업은 실시간으로 한국거래소에서 FinanceDataReader 라는 라이브러리를 통해 데이터를 받아오고 있습니다.\n",
    "아래 링크에 있는 라이브러리의 소스코드가 KRX 전체 종목을 가져오는 소스코드입니다.\n",
    "\n",
    "[FinanceDataReader/listing.py at master · FinanceData/FinanceDataReader](https://github.com/FinanceData/FinanceDataReader/blob/master/krx/listing.py)\n",
    "\n",
    "이 때, 전체 상장종목과 거래할 수 있는 ETF 등의 종목도 함께 가져오게 되는데,\n",
    "FinanceDataReader 에서는 코스피, 코스닥, 코넥스 정보가 있는 엑셀파일과 금융상품 정보가 있는 JSON 데이터를 가져와서 병합하는 형태로 데이터를 제공하고 있습니다.\n",
    "그런데 최근 JSON 데이터의 종목명이 영문으로 변경되어 제공되고 있음을 확인했습니다.\n",
    "그래서 아래의 엑셀 데이터를 read_html 로 읽어오게 되면 한글로 된 종목명을 받아서 분석해 보실 수 있습니다."
   ]
  },
  {
   "cell_type": "code",
   "execution_count": 4,
   "metadata": {},
   "outputs": [],
   "source": [
    "# # 종목명이 영문으로 표기 될 때 아래의 주석을 풀고 데이터를 받아서 분석해 보세요!\n",
    "# url = 'http://kind.krx.co.kr/corpgeneral/corpList.do?method=download&searchType=13'\n",
    "# df_listing = pd.read_html(url, header=0)[0]\n",
    "# cols_ren = {'회사명':'Name', '종목코드':'Symbol', '업종':'Sector', '주요제품':'Industry', \n",
    "#                     '상장일':'ListingDate', '결산월':'SettleMonth',  '대표자명':'Representative', \n",
    "#                     '홈페이지':'HomePage', '지역':'Region', }\n",
    "# df = df_listing.rename(columns = cols_ren)\n",
    "# df['Symbol'] = df['Symbol'].apply(lambda x: '{:06d}'.format(x))\n",
    "# df['ListingDate'] = pd.to_datetime(df['ListingDate'])\n",
    "# df"
   ]
  },
  {
   "cell_type": "code",
   "execution_count": 5,
   "metadata": {
    "id": "Rz9eJjDsv9xc"
   },
   "outputs": [
    {
     "data": {
      "text/plain": [
       "(6603, 10)"
      ]
     },
     "execution_count": 5,
     "metadata": {},
     "output_type": "execute_result"
    }
   ],
   "source": [
    "# 이전 강좌에서 to_csv로 저장해둔 krx.csv 파일을 pd.read_csv 로 불러옵니다.\n",
    "df = pd.read_csv(\"krx.csv\", dtype={\"Symbol\":object})\n",
    "df.shape"
   ]
  },
  {
   "cell_type": "markdown",
   "metadata": {},
   "source": [
    "### 일부 데이터만 가져오기\n",
    "\n",
    "{'회사명':'Name', '종목코드':'Symbol', '업종':'Sector', '주요제품':'Industry', \n",
    "                            '상장일':'ListingDate', '결산월':'SettleMonth',  '대표자명':'Representative', \n",
    "                            '홈페이지':'HomePage', '지역':'Region', }"
   ]
  },
  {
   "cell_type": "code",
   "execution_count": 6,
   "metadata": {},
   "outputs": [
    {
     "data": {
      "text/html": [
       "<div>\n",
       "<style scoped>\n",
       "    .dataframe tbody tr th:only-of-type {\n",
       "        vertical-align: middle;\n",
       "    }\n",
       "\n",
       "    .dataframe tbody tr th {\n",
       "        vertical-align: top;\n",
       "    }\n",
       "\n",
       "    .dataframe thead th {\n",
       "        text-align: right;\n",
       "    }\n",
       "</style>\n",
       "<table border=\"1\" class=\"dataframe\">\n",
       "  <thead>\n",
       "    <tr style=\"text-align: right;\">\n",
       "      <th></th>\n",
       "      <th>Symbol</th>\n",
       "      <th>Market</th>\n",
       "      <th>Name</th>\n",
       "      <th>Sector</th>\n",
       "      <th>Industry</th>\n",
       "      <th>ListingDate</th>\n",
       "      <th>SettleMonth</th>\n",
       "      <th>Representative</th>\n",
       "      <th>HomePage</th>\n",
       "      <th>Region</th>\n",
       "    </tr>\n",
       "  </thead>\n",
       "  <tbody>\n",
       "    <tr>\n",
       "      <th>0</th>\n",
       "      <td>060310</td>\n",
       "      <td>KOSDAQ</td>\n",
       "      <td>3S</td>\n",
       "      <td>전자부품 제조업</td>\n",
       "      <td>반도체 웨이퍼 캐리어</td>\n",
       "      <td>2002-04-23</td>\n",
       "      <td>03월</td>\n",
       "      <td>박종익, 김세완 (각자 대표이사)</td>\n",
       "      <td>http://www.3sref.com</td>\n",
       "      <td>서울특별시</td>\n",
       "    </tr>\n",
       "    <tr>\n",
       "      <th>1</th>\n",
       "      <td>095570</td>\n",
       "      <td>KOSPI</td>\n",
       "      <td>AJ네트웍스</td>\n",
       "      <td>산업용 기계 및 장비 임대업</td>\n",
       "      <td>렌탈(파렛트, OA장비, 건설장비)</td>\n",
       "      <td>2015-08-21</td>\n",
       "      <td>12월</td>\n",
       "      <td>박대현</td>\n",
       "      <td>http://www.ajnet.co.kr</td>\n",
       "      <td>서울특별시</td>\n",
       "    </tr>\n",
       "    <tr>\n",
       "      <th>2</th>\n",
       "      <td>006840</td>\n",
       "      <td>KOSPI</td>\n",
       "      <td>AK홀딩스</td>\n",
       "      <td>기타 금융업</td>\n",
       "      <td>지주사업</td>\n",
       "      <td>1999-08-11</td>\n",
       "      <td>12월</td>\n",
       "      <td>채형석, 이석주(각자 대표이사)</td>\n",
       "      <td>http://www.aekyunggroup.co.kr</td>\n",
       "      <td>서울특별시</td>\n",
       "    </tr>\n",
       "    <tr>\n",
       "      <th>3</th>\n",
       "      <td>054620</td>\n",
       "      <td>KOSDAQ</td>\n",
       "      <td>APS홀딩스</td>\n",
       "      <td>기타 금융업</td>\n",
       "      <td>인터넷 트래픽 솔루션</td>\n",
       "      <td>2001-12-04</td>\n",
       "      <td>12월</td>\n",
       "      <td>정기로</td>\n",
       "      <td>http://www.apsholdings.co.kr</td>\n",
       "      <td>경기도</td>\n",
       "    </tr>\n",
       "    <tr>\n",
       "      <th>4</th>\n",
       "      <td>265520</td>\n",
       "      <td>KOSDAQ</td>\n",
       "      <td>AP시스템</td>\n",
       "      <td>특수 목적용 기계 제조업</td>\n",
       "      <td>디스플레이 제조 장비</td>\n",
       "      <td>2017-04-07</td>\n",
       "      <td>12월</td>\n",
       "      <td>김영주</td>\n",
       "      <td>http://www.apsystems.co.kr</td>\n",
       "      <td>경기도</td>\n",
       "    </tr>\n",
       "  </tbody>\n",
       "</table>\n",
       "</div>"
      ],
      "text/plain": [
       "   Symbol  Market    Name           Sector             Industry ListingDate  \\\n",
       "0  060310  KOSDAQ      3S         전자부품 제조업          반도체 웨이퍼 캐리어  2002-04-23   \n",
       "1  095570   KOSPI  AJ네트웍스  산업용 기계 및 장비 임대업  렌탈(파렛트, OA장비, 건설장비)  2015-08-21   \n",
       "2  006840   KOSPI   AK홀딩스           기타 금융업                 지주사업  1999-08-11   \n",
       "3  054620  KOSDAQ  APS홀딩스           기타 금융업          인터넷 트래픽 솔루션  2001-12-04   \n",
       "4  265520  KOSDAQ   AP시스템    특수 목적용 기계 제조업          디스플레이 제조 장비  2017-04-07   \n",
       "\n",
       "  SettleMonth      Representative                       HomePage Region  \n",
       "0         03월  박종익, 김세완 (각자 대표이사)           http://www.3sref.com  서울특별시  \n",
       "1         12월                 박대현         http://www.ajnet.co.kr  서울특별시  \n",
       "2         12월   채형석, 이석주(각자 대표이사)  http://www.aekyunggroup.co.kr  서울특별시  \n",
       "3         12월                 정기로   http://www.apsholdings.co.kr    경기도  \n",
       "4         12월                 김영주     http://www.apsystems.co.kr    경기도  "
      ]
     },
     "execution_count": 6,
     "metadata": {},
     "output_type": "execute_result"
    }
   ],
   "source": [
    "# head 로 위에 있는 데이터 일부만 가져옵니다.\n",
    "df.head()"
   ]
  },
  {
   "cell_type": "code",
   "execution_count": 7,
   "metadata": {},
   "outputs": [
    {
     "data": {
      "text/html": [
       "<div>\n",
       "<style scoped>\n",
       "    .dataframe tbody tr th:only-of-type {\n",
       "        vertical-align: middle;\n",
       "    }\n",
       "\n",
       "    .dataframe tbody tr th {\n",
       "        vertical-align: top;\n",
       "    }\n",
       "\n",
       "    .dataframe thead th {\n",
       "        text-align: right;\n",
       "    }\n",
       "</style>\n",
       "<table border=\"1\" class=\"dataframe\">\n",
       "  <thead>\n",
       "    <tr style=\"text-align: right;\">\n",
       "      <th></th>\n",
       "      <th>Symbol</th>\n",
       "      <th>Market</th>\n",
       "      <th>Name</th>\n",
       "      <th>Sector</th>\n",
       "      <th>Industry</th>\n",
       "      <th>ListingDate</th>\n",
       "      <th>SettleMonth</th>\n",
       "      <th>Representative</th>\n",
       "      <th>HomePage</th>\n",
       "      <th>Region</th>\n",
       "    </tr>\n",
       "  </thead>\n",
       "  <tbody>\n",
       "    <tr>\n",
       "      <th>6598</th>\n",
       "      <td>000547</td>\n",
       "      <td>KOSPI</td>\n",
       "      <td>흥국화재2우B</td>\n",
       "      <td>NaN</td>\n",
       "      <td>NaN</td>\n",
       "      <td>NaN</td>\n",
       "      <td>NaN</td>\n",
       "      <td>NaN</td>\n",
       "      <td>NaN</td>\n",
       "      <td>NaN</td>\n",
       "    </tr>\n",
       "    <tr>\n",
       "      <th>6599</th>\n",
       "      <td>000545</td>\n",
       "      <td>KOSPI</td>\n",
       "      <td>흥국화재우</td>\n",
       "      <td>NaN</td>\n",
       "      <td>NaN</td>\n",
       "      <td>NaN</td>\n",
       "      <td>NaN</td>\n",
       "      <td>NaN</td>\n",
       "      <td>NaN</td>\n",
       "      <td>NaN</td>\n",
       "    </tr>\n",
       "    <tr>\n",
       "      <th>6600</th>\n",
       "      <td>003280</td>\n",
       "      <td>KOSPI</td>\n",
       "      <td>흥아해운</td>\n",
       "      <td>해상 운송업</td>\n",
       "      <td>외항화물운송업(케미컬탱커)</td>\n",
       "      <td>1976-06-29</td>\n",
       "      <td>12월</td>\n",
       "      <td>이환구</td>\n",
       "      <td>http://www.heung-a.com</td>\n",
       "      <td>서울특별시</td>\n",
       "    </tr>\n",
       "    <tr>\n",
       "      <th>6601</th>\n",
       "      <td>037440</td>\n",
       "      <td>KOSDAQ</td>\n",
       "      <td>희림</td>\n",
       "      <td>건축기술, 엔지니어링 및 관련 기술 서비스업</td>\n",
       "      <td>설계 및 감리용역</td>\n",
       "      <td>2000-02-03</td>\n",
       "      <td>12월</td>\n",
       "      <td>정영균, 이목운, 허철호 (각자대표)</td>\n",
       "      <td>http://www.heerim.com</td>\n",
       "      <td>서울특별시</td>\n",
       "    </tr>\n",
       "    <tr>\n",
       "      <th>6602</th>\n",
       "      <td>238490</td>\n",
       "      <td>KOSDAQ</td>\n",
       "      <td>힘스</td>\n",
       "      <td>특수 목적용 기계 제조업</td>\n",
       "      <td>OLED Mask 인장기, OLED Mask 검사기 등</td>\n",
       "      <td>2017-07-20</td>\n",
       "      <td>12월</td>\n",
       "      <td>김주환</td>\n",
       "      <td>http://www.hims.co.kr</td>\n",
       "      <td>인천광역시</td>\n",
       "    </tr>\n",
       "  </tbody>\n",
       "</table>\n",
       "</div>"
      ],
      "text/plain": [
       "      Symbol  Market     Name                    Sector  \\\n",
       "6598  000547   KOSPI  흥국화재2우B                       NaN   \n",
       "6599  000545   KOSPI    흥국화재우                       NaN   \n",
       "6600  003280   KOSPI     흥아해운                    해상 운송업   \n",
       "6601  037440  KOSDAQ       희림  건축기술, 엔지니어링 및 관련 기술 서비스업   \n",
       "6602  238490  KOSDAQ       힘스             특수 목적용 기계 제조업   \n",
       "\n",
       "                            Industry ListingDate SettleMonth  \\\n",
       "6598                             NaN         NaN         NaN   \n",
       "6599                             NaN         NaN         NaN   \n",
       "6600                  외항화물운송업(케미컬탱커)  1976-06-29         12월   \n",
       "6601                       설계 및 감리용역  2000-02-03         12월   \n",
       "6602  OLED Mask 인장기, OLED Mask 검사기 등  2017-07-20         12월   \n",
       "\n",
       "            Representative                HomePage Region  \n",
       "6598                   NaN                     NaN    NaN  \n",
       "6599                   NaN                     NaN    NaN  \n",
       "6600                   이환구  http://www.heung-a.com  서울특별시  \n",
       "6601  정영균, 이목운, 허철호 (각자대표)   http://www.heerim.com  서울특별시  \n",
       "6602                   김주환   http://www.hims.co.kr  인천광역시  "
      ]
     },
     "execution_count": 7,
     "metadata": {},
     "output_type": "execute_result"
    }
   ],
   "source": [
    "# tail 로 아래 있는 데이터 일부만 가져옵니다.\n",
    "df.tail()"
   ]
  },
  {
   "cell_type": "code",
   "execution_count": 8,
   "metadata": {},
   "outputs": [
    {
     "data": {
      "text/html": [
       "<div>\n",
       "<style scoped>\n",
       "    .dataframe tbody tr th:only-of-type {\n",
       "        vertical-align: middle;\n",
       "    }\n",
       "\n",
       "    .dataframe tbody tr th {\n",
       "        vertical-align: top;\n",
       "    }\n",
       "\n",
       "    .dataframe thead th {\n",
       "        text-align: right;\n",
       "    }\n",
       "</style>\n",
       "<table border=\"1\" class=\"dataframe\">\n",
       "  <thead>\n",
       "    <tr style=\"text-align: right;\">\n",
       "      <th></th>\n",
       "      <th>Symbol</th>\n",
       "      <th>Market</th>\n",
       "      <th>Name</th>\n",
       "      <th>Sector</th>\n",
       "      <th>Industry</th>\n",
       "      <th>ListingDate</th>\n",
       "      <th>SettleMonth</th>\n",
       "      <th>Representative</th>\n",
       "      <th>HomePage</th>\n",
       "      <th>Region</th>\n",
       "    </tr>\n",
       "  </thead>\n",
       "  <tbody>\n",
       "    <tr>\n",
       "      <th>3117</th>\n",
       "      <td>52GQ85</td>\n",
       "      <td>KOSPI</td>\n",
       "      <td>미래GQ85LG화학콜</td>\n",
       "      <td>NaN</td>\n",
       "      <td>NaN</td>\n",
       "      <td>NaN</td>\n",
       "      <td>NaN</td>\n",
       "      <td>NaN</td>\n",
       "      <td>NaN</td>\n",
       "      <td>NaN</td>\n",
       "    </tr>\n",
       "  </tbody>\n",
       "</table>\n",
       "</div>"
      ],
      "text/plain": [
       "      Symbol Market         Name Sector Industry ListingDate SettleMonth  \\\n",
       "3117  52GQ85  KOSPI  미래GQ85LG화학콜    NaN      NaN         NaN         NaN   \n",
       "\n",
       "     Representative HomePage Region  \n",
       "3117            NaN      NaN    NaN  "
      ]
     },
     "execution_count": 8,
     "metadata": {},
     "output_type": "execute_result"
    }
   ],
   "source": [
    "# sample을 사용하면 랜덤하게 ()안의 갯수만큼 가져옵니다. \n",
    "# ()안에 값을 써주지 않으면 한 개만 가져옵니다.\n",
    "df.sample()"
   ]
  },
  {
   "cell_type": "markdown",
   "metadata": {},
   "source": [
    "## 데이터 요약하기"
   ]
  },
  {
   "cell_type": "code",
   "execution_count": 9,
   "metadata": {},
   "outputs": [
    {
     "name": "stdout",
     "output_type": "stream",
     "text": [
      "<class 'pandas.core.frame.DataFrame'>\n",
      "RangeIndex: 6603 entries, 0 to 6602\n",
      "Data columns (total 10 columns):\n",
      " #   Column          Non-Null Count  Dtype \n",
      "---  ------          --------------  ----- \n",
      " 0   Symbol          6603 non-null   object\n",
      " 1   Market          6603 non-null   object\n",
      " 2   Name            6603 non-null   object\n",
      " 3   Sector          2485 non-null   object\n",
      " 4   Industry        2467 non-null   object\n",
      " 5   ListingDate     2485 non-null   object\n",
      " 6   SettleMonth     2485 non-null   object\n",
      " 7   Representative  2485 non-null   object\n",
      " 8   HomePage        2336 non-null   object\n",
      " 9   Region          2485 non-null   object\n",
      "dtypes: object(10)\n",
      "memory usage: 516.0+ KB\n"
     ]
    }
   ],
   "source": [
    "# info 로 요약 데이터를 봅니다.\n",
    "df.info()"
   ]
  },
  {
   "cell_type": "code",
   "execution_count": 10,
   "metadata": {},
   "outputs": [
    {
     "data": {
      "text/html": [
       "<div>\n",
       "<style scoped>\n",
       "    .dataframe tbody tr th:only-of-type {\n",
       "        vertical-align: middle;\n",
       "    }\n",
       "\n",
       "    .dataframe tbody tr th {\n",
       "        vertical-align: top;\n",
       "    }\n",
       "\n",
       "    .dataframe thead th {\n",
       "        text-align: right;\n",
       "    }\n",
       "</style>\n",
       "<table border=\"1\" class=\"dataframe\">\n",
       "  <thead>\n",
       "    <tr style=\"text-align: right;\">\n",
       "      <th></th>\n",
       "      <th>Symbol</th>\n",
       "      <th>Market</th>\n",
       "      <th>Name</th>\n",
       "      <th>Sector</th>\n",
       "      <th>Industry</th>\n",
       "      <th>ListingDate</th>\n",
       "      <th>SettleMonth</th>\n",
       "      <th>Representative</th>\n",
       "      <th>HomePage</th>\n",
       "      <th>Region</th>\n",
       "    </tr>\n",
       "  </thead>\n",
       "  <tbody>\n",
       "    <tr>\n",
       "      <th>count</th>\n",
       "      <td>6603</td>\n",
       "      <td>6603</td>\n",
       "      <td>6603</td>\n",
       "      <td>2485</td>\n",
       "      <td>2467</td>\n",
       "      <td>2485</td>\n",
       "      <td>2485</td>\n",
       "      <td>2485</td>\n",
       "      <td>2336</td>\n",
       "      <td>2485</td>\n",
       "    </tr>\n",
       "    <tr>\n",
       "      <th>unique</th>\n",
       "      <td>6603</td>\n",
       "      <td>3</td>\n",
       "      <td>6603</td>\n",
       "      <td>161</td>\n",
       "      <td>2314</td>\n",
       "      <td>1840</td>\n",
       "      <td>9</td>\n",
       "      <td>2360</td>\n",
       "      <td>2314</td>\n",
       "      <td>22</td>\n",
       "    </tr>\n",
       "    <tr>\n",
       "      <th>top</th>\n",
       "      <td>060310</td>\n",
       "      <td>KOSPI</td>\n",
       "      <td>3S</td>\n",
       "      <td>소프트웨어 개발 및 공급업</td>\n",
       "      <td>기업인수합병</td>\n",
       "      <td>1976-06-30</td>\n",
       "      <td>12월</td>\n",
       "      <td>-</td>\n",
       "      <td>http://www.nhreits.com</td>\n",
       "      <td>서울특별시</td>\n",
       "    </tr>\n",
       "    <tr>\n",
       "      <th>freq</th>\n",
       "      <td>1</td>\n",
       "      <td>4920</td>\n",
       "      <td>1</td>\n",
       "      <td>152</td>\n",
       "      <td>26</td>\n",
       "      <td>8</td>\n",
       "      <td>2423</td>\n",
       "      <td>5</td>\n",
       "      <td>2</td>\n",
       "      <td>1011</td>\n",
       "    </tr>\n",
       "  </tbody>\n",
       "</table>\n",
       "</div>"
      ],
      "text/plain": [
       "        Symbol Market  Name          Sector Industry ListingDate SettleMonth  \\\n",
       "count     6603   6603  6603            2485     2467        2485        2485   \n",
       "unique    6603      3  6603             161     2314        1840           9   \n",
       "top     060310  KOSPI    3S  소프트웨어 개발 및 공급업   기업인수합병  1976-06-30         12월   \n",
       "freq         1   4920     1             152       26           8        2423   \n",
       "\n",
       "       Representative                HomePage Region  \n",
       "count            2485                    2336   2485  \n",
       "unique           2360                    2314     22  \n",
       "top                 -  http://www.nhreits.com  서울특별시  \n",
       "freq                5                       2   1011  "
      ]
     },
     "execution_count": 10,
     "metadata": {},
     "output_type": "execute_result"
    }
   ],
   "source": [
    "# describe 로 기술통계값을 봅니다.\n",
    "df.describe()"
   ]
  },
  {
   "cell_type": "code",
   "execution_count": 11,
   "metadata": {},
   "outputs": [
    {
     "data": {
      "text/plain": [
       "Symbol            6603\n",
       "Market               3\n",
       "Name              6603\n",
       "Sector             161\n",
       "Industry          2314\n",
       "ListingDate       1840\n",
       "SettleMonth          9\n",
       "Representative    2360\n",
       "HomePage          2314\n",
       "Region              22\n",
       "dtype: int64"
      ]
     },
     "execution_count": 11,
     "metadata": {},
     "output_type": "execute_result"
    }
   ],
   "source": [
    "# 중복을 제외한 unique 값의 갯수를 봅니다.\n",
    "df.nunique()"
   ]
  },
  {
   "cell_type": "code",
   "execution_count": 12,
   "metadata": {
    "scrolled": true
   },
   "outputs": [
    {
     "data": {
      "text/plain": [
       "RangeIndex(start=0, stop=6603, step=1)"
      ]
     },
     "execution_count": 12,
     "metadata": {},
     "output_type": "execute_result"
    }
   ],
   "source": [
    "# index 값 보기\n",
    "df.index"
   ]
  },
  {
   "cell_type": "code",
   "execution_count": 13,
   "metadata": {},
   "outputs": [
    {
     "data": {
      "text/plain": [
       "Index(['Symbol', 'Market', 'Name', 'Sector', 'Industry', 'ListingDate',\n",
       "       'SettleMonth', 'Representative', 'HomePage', 'Region'],\n",
       "      dtype='object')"
      ]
     },
     "execution_count": 13,
     "metadata": {},
     "output_type": "execute_result"
    }
   ],
   "source": [
    "# 컬럼값 보기\n",
    "df.columns"
   ]
  },
  {
   "cell_type": "code",
   "execution_count": 14,
   "metadata": {},
   "outputs": [
    {
     "data": {
      "text/plain": [
       "array([['060310', 'KOSDAQ', '3S', ..., '박종익, 김세완 (각자 대표이사)',\n",
       "        'http://www.3sref.com', '서울특별시'],\n",
       "       ['095570', 'KOSPI', 'AJ네트웍스', ..., '박대현',\n",
       "        'http://www.ajnet.co.kr', '서울특별시'],\n",
       "       ['006840', 'KOSPI', 'AK홀딩스', ..., '채형석, 이석주(각자 대표이사)',\n",
       "        'http://www.aekyunggroup.co.kr', '서울특별시'],\n",
       "       ...,\n",
       "       ['003280', 'KOSPI', '흥아해운', ..., '이환구', 'http://www.heung-a.com',\n",
       "        '서울특별시'],\n",
       "       ['037440', 'KOSDAQ', '희림', ..., '정영균, 이목운, 허철호 (각자대표)',\n",
       "        'http://www.heerim.com', '서울특별시'],\n",
       "       ['238490', 'KOSDAQ', '힘스', ..., '김주환', 'http://www.hims.co.kr',\n",
       "        '인천광역시']], dtype=object)"
      ]
     },
     "execution_count": 14,
     "metadata": {},
     "output_type": "execute_result"
    }
   ],
   "source": [
    "# 값만 보기\n",
    "df.values"
   ]
  },
  {
   "cell_type": "markdown",
   "metadata": {},
   "source": [
    "## 데이터 색인하기\n",
    "\n",
    "### Series\n",
    "<img src=\"https://pandas.pydata.org/docs/_images/01_table_series.svg\">"
   ]
  },
  {
   "cell_type": "code",
   "execution_count": 15,
   "metadata": {},
   "outputs": [
    {
     "data": {
      "text/plain": [
       "0            3S\n",
       "1        AJ네트웍스\n",
       "2         AK홀딩스\n",
       "3        APS홀딩스\n",
       "4         AP시스템\n",
       "         ...   \n",
       "6598    흥국화재2우B\n",
       "6599      흥국화재우\n",
       "6600       흥아해운\n",
       "6601         희림\n",
       "6602         힘스\n",
       "Name: Name, Length: 6603, dtype: object"
      ]
     },
     "execution_count": 15,
     "metadata": {},
     "output_type": "execute_result"
    }
   ],
   "source": [
    "# Name 컬럼 하나만 가져옵니다.\n",
    "df[\"Name\"]"
   ]
  },
  {
   "cell_type": "code",
   "execution_count": 16,
   "metadata": {},
   "outputs": [
    {
     "data": {
      "text/plain": [
       "pandas.core.series.Series"
      ]
     },
     "execution_count": 16,
     "metadata": {},
     "output_type": "execute_result"
    }
   ],
   "source": [
    "# df[\"Name\"] 의 type을 봅니다.\n",
    "type(df[\"Name\"])"
   ]
  },
  {
   "cell_type": "code",
   "execution_count": 17,
   "metadata": {},
   "outputs": [
    {
     "data": {
      "text/plain": [
       "Symbol                          060310\n",
       "Market                          KOSDAQ\n",
       "Name                                3S\n",
       "Sector                        전자부품 제조업\n",
       "Industry                   반도체 웨이퍼 캐리어\n",
       "ListingDate                 2002-04-23\n",
       "SettleMonth                        03월\n",
       "Representative      박종익, 김세완 (각자 대표이사)\n",
       "HomePage          http://www.3sref.com\n",
       "Region                           서울특별시\n",
       "Name: 0, dtype: object"
      ]
     },
     "execution_count": 17,
     "metadata": {},
     "output_type": "execute_result"
    }
   ],
   "source": [
    "# 0번째 행만 가져옵니다. 행인덱스를 가져올때는 .loc를 사용합니다.\n",
    "# loc는 위치(locate)를 의미합니다.\n",
    "df.loc[0]"
   ]
  },
  {
   "cell_type": "code",
   "execution_count": 18,
   "metadata": {},
   "outputs": [
    {
     "data": {
      "text/plain": [
       "pandas.core.series.Series"
      ]
     },
     "execution_count": 18,
     "metadata": {},
     "output_type": "execute_result"
    }
   ],
   "source": [
    "# df.loc[0] 의 type을 봅니다.\n",
    "type(df.loc[0])"
   ]
  },
  {
   "cell_type": "markdown",
   "metadata": {},
   "source": [
    "### DataFrame\n",
    "<img src=\"https://pandas.pydata.org/docs/_images/01_table_dataframe.svg\">"
   ]
  },
  {
   "cell_type": "code",
   "execution_count": 19,
   "metadata": {},
   "outputs": [
    {
     "data": {
      "text/plain": [
       "pandas.core.frame.DataFrame"
      ]
     },
     "execution_count": 19,
     "metadata": {},
     "output_type": "execute_result"
    }
   ],
   "source": [
    "# df 변수의 타입을 봅니다.\n",
    "type(df)"
   ]
  },
  {
   "cell_type": "code",
   "execution_count": 20,
   "metadata": {},
   "outputs": [
    {
     "data": {
      "text/html": [
       "<div>\n",
       "<style scoped>\n",
       "    .dataframe tbody tr th:only-of-type {\n",
       "        vertical-align: middle;\n",
       "    }\n",
       "\n",
       "    .dataframe tbody tr th {\n",
       "        vertical-align: top;\n",
       "    }\n",
       "\n",
       "    .dataframe thead th {\n",
       "        text-align: right;\n",
       "    }\n",
       "</style>\n",
       "<table border=\"1\" class=\"dataframe\">\n",
       "  <thead>\n",
       "    <tr style=\"text-align: right;\">\n",
       "      <th></th>\n",
       "      <th>Symbol</th>\n",
       "      <th>Name</th>\n",
       "    </tr>\n",
       "  </thead>\n",
       "  <tbody>\n",
       "    <tr>\n",
       "      <th>0</th>\n",
       "      <td>060310</td>\n",
       "      <td>3S</td>\n",
       "    </tr>\n",
       "    <tr>\n",
       "      <th>1</th>\n",
       "      <td>095570</td>\n",
       "      <td>AJ네트웍스</td>\n",
       "    </tr>\n",
       "    <tr>\n",
       "      <th>2</th>\n",
       "      <td>006840</td>\n",
       "      <td>AK홀딩스</td>\n",
       "    </tr>\n",
       "    <tr>\n",
       "      <th>3</th>\n",
       "      <td>054620</td>\n",
       "      <td>APS홀딩스</td>\n",
       "    </tr>\n",
       "    <tr>\n",
       "      <th>4</th>\n",
       "      <td>265520</td>\n",
       "      <td>AP시스템</td>\n",
       "    </tr>\n",
       "    <tr>\n",
       "      <th>...</th>\n",
       "      <td>...</td>\n",
       "      <td>...</td>\n",
       "    </tr>\n",
       "    <tr>\n",
       "      <th>6598</th>\n",
       "      <td>000547</td>\n",
       "      <td>흥국화재2우B</td>\n",
       "    </tr>\n",
       "    <tr>\n",
       "      <th>6599</th>\n",
       "      <td>000545</td>\n",
       "      <td>흥국화재우</td>\n",
       "    </tr>\n",
       "    <tr>\n",
       "      <th>6600</th>\n",
       "      <td>003280</td>\n",
       "      <td>흥아해운</td>\n",
       "    </tr>\n",
       "    <tr>\n",
       "      <th>6601</th>\n",
       "      <td>037440</td>\n",
       "      <td>희림</td>\n",
       "    </tr>\n",
       "    <tr>\n",
       "      <th>6602</th>\n",
       "      <td>238490</td>\n",
       "      <td>힘스</td>\n",
       "    </tr>\n",
       "  </tbody>\n",
       "</table>\n",
       "<p>6603 rows × 2 columns</p>\n",
       "</div>"
      ],
      "text/plain": [
       "      Symbol     Name\n",
       "0     060310       3S\n",
       "1     095570   AJ네트웍스\n",
       "2     006840    AK홀딩스\n",
       "3     054620   APS홀딩스\n",
       "4     265520    AP시스템\n",
       "...      ...      ...\n",
       "6598  000547  흥국화재2우B\n",
       "6599  000545    흥국화재우\n",
       "6600  003280     흥아해운\n",
       "6601  037440       희림\n",
       "6602  238490       힘스\n",
       "\n",
       "[6603 rows x 2 columns]"
      ]
     },
     "execution_count": 20,
     "metadata": {},
     "output_type": "execute_result"
    }
   ],
   "source": [
    "# 여러 컬럼을 지정할 때는 리스트 형태로 묶어주어야 합니다. \n",
    "# 2차원 행렬은 대괄호가 [] 2개가 있다는 것을 기억해 주세요. \n",
    "df[[\"Symbol\",\"Name\"]]"
   ]
  },
  {
   "cell_type": "code",
   "execution_count": 21,
   "metadata": {},
   "outputs": [
    {
     "data": {
      "text/html": [
       "<div>\n",
       "<style scoped>\n",
       "    .dataframe tbody tr th:only-of-type {\n",
       "        vertical-align: middle;\n",
       "    }\n",
       "\n",
       "    .dataframe tbody tr th {\n",
       "        vertical-align: top;\n",
       "    }\n",
       "\n",
       "    .dataframe thead th {\n",
       "        text-align: right;\n",
       "    }\n",
       "</style>\n",
       "<table border=\"1\" class=\"dataframe\">\n",
       "  <thead>\n",
       "    <tr style=\"text-align: right;\">\n",
       "      <th></th>\n",
       "      <th>Symbol</th>\n",
       "      <th>Market</th>\n",
       "      <th>Name</th>\n",
       "      <th>Sector</th>\n",
       "      <th>Industry</th>\n",
       "      <th>ListingDate</th>\n",
       "      <th>SettleMonth</th>\n",
       "      <th>Representative</th>\n",
       "      <th>HomePage</th>\n",
       "      <th>Region</th>\n",
       "    </tr>\n",
       "  </thead>\n",
       "  <tbody>\n",
       "    <tr>\n",
       "      <th>0</th>\n",
       "      <td>060310</td>\n",
       "      <td>KOSDAQ</td>\n",
       "      <td>3S</td>\n",
       "      <td>전자부품 제조업</td>\n",
       "      <td>반도체 웨이퍼 캐리어</td>\n",
       "      <td>2002-04-23</td>\n",
       "      <td>03월</td>\n",
       "      <td>박종익, 김세완 (각자 대표이사)</td>\n",
       "      <td>http://www.3sref.com</td>\n",
       "      <td>서울특별시</td>\n",
       "    </tr>\n",
       "    <tr>\n",
       "      <th>1</th>\n",
       "      <td>095570</td>\n",
       "      <td>KOSPI</td>\n",
       "      <td>AJ네트웍스</td>\n",
       "      <td>산업용 기계 및 장비 임대업</td>\n",
       "      <td>렌탈(파렛트, OA장비, 건설장비)</td>\n",
       "      <td>2015-08-21</td>\n",
       "      <td>12월</td>\n",
       "      <td>박대현</td>\n",
       "      <td>http://www.ajnet.co.kr</td>\n",
       "      <td>서울특별시</td>\n",
       "    </tr>\n",
       "    <tr>\n",
       "      <th>2</th>\n",
       "      <td>006840</td>\n",
       "      <td>KOSPI</td>\n",
       "      <td>AK홀딩스</td>\n",
       "      <td>기타 금융업</td>\n",
       "      <td>지주사업</td>\n",
       "      <td>1999-08-11</td>\n",
       "      <td>12월</td>\n",
       "      <td>채형석, 이석주(각자 대표이사)</td>\n",
       "      <td>http://www.aekyunggroup.co.kr</td>\n",
       "      <td>서울특별시</td>\n",
       "    </tr>\n",
       "    <tr>\n",
       "      <th>5</th>\n",
       "      <td>211270</td>\n",
       "      <td>KOSDAQ</td>\n",
       "      <td>AP위성</td>\n",
       "      <td>통신 및 방송 장비 제조업</td>\n",
       "      <td>위성통신 단말기</td>\n",
       "      <td>2016-03-04</td>\n",
       "      <td>12월</td>\n",
       "      <td>류장수</td>\n",
       "      <td>http://www.apsi.co.kr</td>\n",
       "      <td>서울특별시</td>\n",
       "    </tr>\n",
       "  </tbody>\n",
       "</table>\n",
       "</div>"
      ],
      "text/plain": [
       "   Symbol  Market    Name           Sector             Industry ListingDate  \\\n",
       "0  060310  KOSDAQ      3S         전자부품 제조업          반도체 웨이퍼 캐리어  2002-04-23   \n",
       "1  095570   KOSPI  AJ네트웍스  산업용 기계 및 장비 임대업  렌탈(파렛트, OA장비, 건설장비)  2015-08-21   \n",
       "2  006840   KOSPI   AK홀딩스           기타 금융업                 지주사업  1999-08-11   \n",
       "5  211270  KOSDAQ    AP위성   통신 및 방송 장비 제조업             위성통신 단말기  2016-03-04   \n",
       "\n",
       "  SettleMonth      Representative                       HomePage Region  \n",
       "0         03월  박종익, 김세완 (각자 대표이사)           http://www.3sref.com  서울특별시  \n",
       "1         12월                 박대현         http://www.ajnet.co.kr  서울특별시  \n",
       "2         12월   채형석, 이석주(각자 대표이사)  http://www.aekyunggroup.co.kr  서울특별시  \n",
       "5         12월                 류장수          http://www.apsi.co.kr  서울특별시  "
      ]
     },
     "execution_count": 21,
     "metadata": {},
     "output_type": "execute_result"
    }
   ],
   "source": [
    "# 여러 개의 행을 가져올 때도 [] 대괄호를 통해 리스트 형태로 묶어줍니다.\n",
    "df.loc[[0, 1, 2, 5]]"
   ]
  },
  {
   "cell_type": "code",
   "execution_count": 22,
   "metadata": {},
   "outputs": [
    {
     "data": {
      "text/html": [
       "<div>\n",
       "<style scoped>\n",
       "    .dataframe tbody tr th:only-of-type {\n",
       "        vertical-align: middle;\n",
       "    }\n",
       "\n",
       "    .dataframe tbody tr th {\n",
       "        vertical-align: top;\n",
       "    }\n",
       "\n",
       "    .dataframe thead th {\n",
       "        text-align: right;\n",
       "    }\n",
       "</style>\n",
       "<table border=\"1\" class=\"dataframe\">\n",
       "  <thead>\n",
       "    <tr style=\"text-align: right;\">\n",
       "      <th></th>\n",
       "      <th>Name</th>\n",
       "    </tr>\n",
       "  </thead>\n",
       "  <tbody>\n",
       "    <tr>\n",
       "      <th>0</th>\n",
       "      <td>3S</td>\n",
       "    </tr>\n",
       "    <tr>\n",
       "      <th>1</th>\n",
       "      <td>AJ네트웍스</td>\n",
       "    </tr>\n",
       "    <tr>\n",
       "      <th>2</th>\n",
       "      <td>AK홀딩스</td>\n",
       "    </tr>\n",
       "    <tr>\n",
       "      <th>3</th>\n",
       "      <td>APS홀딩스</td>\n",
       "    </tr>\n",
       "    <tr>\n",
       "      <th>4</th>\n",
       "      <td>AP시스템</td>\n",
       "    </tr>\n",
       "    <tr>\n",
       "      <th>...</th>\n",
       "      <td>...</td>\n",
       "    </tr>\n",
       "    <tr>\n",
       "      <th>6598</th>\n",
       "      <td>흥국화재2우B</td>\n",
       "    </tr>\n",
       "    <tr>\n",
       "      <th>6599</th>\n",
       "      <td>흥국화재우</td>\n",
       "    </tr>\n",
       "    <tr>\n",
       "      <th>6600</th>\n",
       "      <td>흥아해운</td>\n",
       "    </tr>\n",
       "    <tr>\n",
       "      <th>6601</th>\n",
       "      <td>희림</td>\n",
       "    </tr>\n",
       "    <tr>\n",
       "      <th>6602</th>\n",
       "      <td>힘스</td>\n",
       "    </tr>\n",
       "  </tbody>\n",
       "</table>\n",
       "<p>6603 rows × 1 columns</p>\n",
       "</div>"
      ],
      "text/plain": [
       "         Name\n",
       "0          3S\n",
       "1      AJ네트웍스\n",
       "2       AK홀딩스\n",
       "3      APS홀딩스\n",
       "4       AP시스템\n",
       "...       ...\n",
       "6598  흥국화재2우B\n",
       "6599    흥국화재우\n",
       "6600     흥아해운\n",
       "6601       희림\n",
       "6602       힘스\n",
       "\n",
       "[6603 rows x 1 columns]"
      ]
     },
     "execution_count": 22,
     "metadata": {},
     "output_type": "execute_result"
    }
   ],
   "source": [
    "# 1개의 컬럼을 가져올 때도 대괄호[] 2개를 써서 리스트 형태로 묶어주게 되면 데이터프레임 형태로 반환됩니다.\n",
    "# \"Name\" 을 데이터프레임으로 가져옵니다.\n",
    "df[[\"Name\"]]"
   ]
  },
  {
   "cell_type": "markdown",
   "metadata": {},
   "source": [
    "### loc를 통한 서브셋 가져오기\n",
    "<img src=\"https://pandas.pydata.org/pandas-docs/stable/_images/03_subset_columns_rows.svg\">"
   ]
  },
  {
   "cell_type": "code",
   "execution_count": 23,
   "metadata": {},
   "outputs": [
    {
     "data": {
      "text/plain": [
       "'APS홀딩스'"
      ]
     },
     "execution_count": 23,
     "metadata": {},
     "output_type": "execute_result"
    }
   ],
   "source": [
    "# 행과 열 함께 가져오기\n",
    "# .loc[행, 열]\n",
    "df.loc[3, \"Name\"]"
   ]
  },
  {
   "cell_type": "code",
   "execution_count": 24,
   "metadata": {},
   "outputs": [
    {
     "data": {
      "text/plain": [
       "'AJ네트웍스'"
      ]
     },
     "execution_count": 24,
     "metadata": {},
     "output_type": "execute_result"
    }
   ],
   "source": [
    "# .loc[행, 열]\n",
    "df.loc[1][\"Name\"]"
   ]
  },
  {
   "cell_type": "code",
   "execution_count": 25,
   "metadata": {},
   "outputs": [
    {
     "name": "stdout",
     "output_type": "stream",
     "text": [
      "9.33 µs ± 742 ns per loop (mean ± std. dev. of 7 runs, 100000 loops each)\n"
     ]
    }
   ],
   "source": [
    "# %timeit\n",
    "%timeit df.loc[3, \"Name\"]"
   ]
  },
  {
   "cell_type": "code",
   "execution_count": 26,
   "metadata": {},
   "outputs": [
    {
     "name": "stdout",
     "output_type": "stream",
     "text": [
      "61.8 µs ± 5.49 µs per loop (mean ± std. dev. of 7 runs, 10000 loops each)\n"
     ]
    }
   ],
   "source": [
    "# %timeit\n",
    "%timeit df.loc[3][\"Name\"]"
   ]
  },
  {
   "cell_type": "code",
   "execution_count": 27,
   "metadata": {},
   "outputs": [
    {
     "data": {
      "text/plain": [
       "0        3S\n",
       "1    AJ네트웍스\n",
       "2     AK홀딩스\n",
       "Name: Name, dtype: object"
      ]
     },
     "execution_count": 27,
     "metadata": {},
     "output_type": "execute_result"
    }
   ],
   "source": [
    "# 여러 개의 행과 하나의 컬럼 가져오기\n",
    "# .loc[행, 열]\n",
    "df.loc[[0, 1, 2], \"Name\"]"
   ]
  },
  {
   "cell_type": "code",
   "execution_count": 28,
   "metadata": {},
   "outputs": [
    {
     "data": {
      "text/html": [
       "<div>\n",
       "<style scoped>\n",
       "    .dataframe tbody tr th:only-of-type {\n",
       "        vertical-align: middle;\n",
       "    }\n",
       "\n",
       "    .dataframe tbody tr th {\n",
       "        vertical-align: top;\n",
       "    }\n",
       "\n",
       "    .dataframe thead th {\n",
       "        text-align: right;\n",
       "    }\n",
       "</style>\n",
       "<table border=\"1\" class=\"dataframe\">\n",
       "  <thead>\n",
       "    <tr style=\"text-align: right;\">\n",
       "      <th></th>\n",
       "      <th>Name</th>\n",
       "      <th>Symbol</th>\n",
       "    </tr>\n",
       "  </thead>\n",
       "  <tbody>\n",
       "    <tr>\n",
       "      <th>0</th>\n",
       "      <td>3S</td>\n",
       "      <td>060310</td>\n",
       "    </tr>\n",
       "    <tr>\n",
       "      <th>1</th>\n",
       "      <td>AJ네트웍스</td>\n",
       "      <td>095570</td>\n",
       "    </tr>\n",
       "    <tr>\n",
       "      <th>2</th>\n",
       "      <td>AK홀딩스</td>\n",
       "      <td>006840</td>\n",
       "    </tr>\n",
       "  </tbody>\n",
       "</table>\n",
       "</div>"
      ],
      "text/plain": [
       "     Name  Symbol\n",
       "0      3S  060310\n",
       "1  AJ네트웍스  095570\n",
       "2   AK홀딩스  006840"
      ]
     },
     "execution_count": 28,
     "metadata": {},
     "output_type": "execute_result"
    }
   ],
   "source": [
    "# 여러개의 행과 여러 개의 컬럼 가져오기\n",
    "# .loc[행, 열]\n",
    "df.loc[[0, 1, 2], [\"Name\", \"Symbol\"]]"
   ]
  },
  {
   "cell_type": "markdown",
   "metadata": {},
   "source": [
    "### Boolean Indexing\n",
    "* 결과값이 True, False bool 형태로 반환되기 때문에 boolean indexing 이라고 부릅니다.\n",
    "* boolean indexing 을 사용해 특정 조건식을 만족하는 데이터를 서브셋으로 가져옵니다.\n",
    "\n",
    "<img src=\"https://pandas.pydata.org/docs/_images/03_subset_rows.svg\">"
   ]
  },
  {
   "cell_type": "code",
   "execution_count": 29,
   "metadata": {},
   "outputs": [
    {
     "data": {
      "text/html": [
       "<div>\n",
       "<style scoped>\n",
       "    .dataframe tbody tr th:only-of-type {\n",
       "        vertical-align: middle;\n",
       "    }\n",
       "\n",
       "    .dataframe tbody tr th {\n",
       "        vertical-align: top;\n",
       "    }\n",
       "\n",
       "    .dataframe thead th {\n",
       "        text-align: right;\n",
       "    }\n",
       "</style>\n",
       "<table border=\"1\" class=\"dataframe\">\n",
       "  <thead>\n",
       "    <tr style=\"text-align: right;\">\n",
       "      <th></th>\n",
       "      <th>Symbol</th>\n",
       "      <th>Market</th>\n",
       "      <th>Name</th>\n",
       "      <th>Sector</th>\n",
       "      <th>Industry</th>\n",
       "      <th>ListingDate</th>\n",
       "      <th>SettleMonth</th>\n",
       "      <th>Representative</th>\n",
       "      <th>HomePage</th>\n",
       "      <th>Region</th>\n",
       "    </tr>\n",
       "  </thead>\n",
       "  <tbody>\n",
       "    <tr>\n",
       "      <th>4825</th>\n",
       "      <td>035720</td>\n",
       "      <td>KOSPI</td>\n",
       "      <td>카카오</td>\n",
       "      <td>자료처리, 호스팅, 포털 및 기타 인터넷 정보매개 서비스업</td>\n",
       "      <td>인터넷 서비스(인터넷 광고)</td>\n",
       "      <td>2017-07-10</td>\n",
       "      <td>12월</td>\n",
       "      <td>여민수, 조수용</td>\n",
       "      <td>http://www.kakaocorp.com</td>\n",
       "      <td>제주특별자치도</td>\n",
       "    </tr>\n",
       "  </tbody>\n",
       "</table>\n",
       "</div>"
      ],
      "text/plain": [
       "      Symbol Market Name                            Sector         Industry  \\\n",
       "4825  035720  KOSPI  카카오  자료처리, 호스팅, 포털 및 기타 인터넷 정보매개 서비스업  인터넷 서비스(인터넷 광고)   \n",
       "\n",
       "     ListingDate SettleMonth Representative                  HomePage   Region  \n",
       "4825  2017-07-10         12월       여민수, 조수용  http://www.kakaocorp.com  제주특별자치도  "
      ]
     },
     "execution_count": 29,
     "metadata": {},
     "output_type": "execute_result"
    }
   ],
   "source": [
    "# 카카오를 찾습니다.\n",
    "df[df[\"Name\"] == \"카카오\"]"
   ]
  },
  {
   "cell_type": "markdown",
   "metadata": {},
   "source": [
    "<img src=\"https://pandas.pydata.org/pandas-docs/stable/_images/03_subset_columns_rows.svg\">"
   ]
  },
  {
   "cell_type": "code",
   "execution_count": 30,
   "metadata": {},
   "outputs": [
    {
     "data": {
      "text/plain": [
       "False"
      ]
     },
     "execution_count": 30,
     "metadata": {},
     "output_type": "execute_result"
    }
   ],
   "source": [
    "# and => &\n",
    "# or => |\n",
    "True and False"
   ]
  },
  {
   "cell_type": "code",
   "execution_count": 31,
   "metadata": {},
   "outputs": [
    {
     "data": {
      "text/html": [
       "<div>\n",
       "<style scoped>\n",
       "    .dataframe tbody tr th:only-of-type {\n",
       "        vertical-align: middle;\n",
       "    }\n",
       "\n",
       "    .dataframe tbody tr th {\n",
       "        vertical-align: top;\n",
       "    }\n",
       "\n",
       "    .dataframe thead th {\n",
       "        text-align: right;\n",
       "    }\n",
       "</style>\n",
       "<table border=\"1\" class=\"dataframe\">\n",
       "  <thead>\n",
       "    <tr style=\"text-align: right;\">\n",
       "      <th></th>\n",
       "      <th>Symbol</th>\n",
       "      <th>Name</th>\n",
       "    </tr>\n",
       "  </thead>\n",
       "  <tbody>\n",
       "    <tr>\n",
       "      <th>1</th>\n",
       "      <td>095570</td>\n",
       "      <td>AJ네트웍스</td>\n",
       "    </tr>\n",
       "    <tr>\n",
       "      <th>2</th>\n",
       "      <td>006840</td>\n",
       "      <td>AK홀딩스</td>\n",
       "    </tr>\n",
       "    <tr>\n",
       "      <th>48</th>\n",
       "      <td>027410</td>\n",
       "      <td>BGF</td>\n",
       "    </tr>\n",
       "    <tr>\n",
       "      <th>49</th>\n",
       "      <td>282330</td>\n",
       "      <td>BGF리테일</td>\n",
       "    </tr>\n",
       "    <tr>\n",
       "      <th>52</th>\n",
       "      <td>001460</td>\n",
       "      <td>BYC</td>\n",
       "    </tr>\n",
       "    <tr>\n",
       "      <th>...</th>\n",
       "      <td>...</td>\n",
       "      <td>...</td>\n",
       "    </tr>\n",
       "    <tr>\n",
       "      <th>6585</th>\n",
       "      <td>079980</td>\n",
       "      <td>휴비스</td>\n",
       "    </tr>\n",
       "    <tr>\n",
       "      <th>6588</th>\n",
       "      <td>005010</td>\n",
       "      <td>휴스틸</td>\n",
       "    </tr>\n",
       "    <tr>\n",
       "      <th>6593</th>\n",
       "      <td>069260</td>\n",
       "      <td>휴켐스</td>\n",
       "    </tr>\n",
       "    <tr>\n",
       "      <th>6597</th>\n",
       "      <td>000540</td>\n",
       "      <td>흥국화재</td>\n",
       "    </tr>\n",
       "    <tr>\n",
       "      <th>6600</th>\n",
       "      <td>003280</td>\n",
       "      <td>흥아해운</td>\n",
       "    </tr>\n",
       "  </tbody>\n",
       "</table>\n",
       "<p>421 rows × 2 columns</p>\n",
       "</div>"
      ],
      "text/plain": [
       "      Symbol    Name\n",
       "1     095570  AJ네트웍스\n",
       "2     006840   AK홀딩스\n",
       "48    027410     BGF\n",
       "49    282330  BGF리테일\n",
       "52    001460     BYC\n",
       "...      ...     ...\n",
       "6585  079980     휴비스\n",
       "6588  005010     휴스틸\n",
       "6593  069260     휴켐스\n",
       "6597  000540    흥국화재\n",
       "6600  003280    흥아해운\n",
       "\n",
       "[421 rows x 2 columns]"
      ]
     },
     "execution_count": 31,
     "metadata": {},
     "output_type": "execute_result"
    }
   ],
   "source": [
    "# 서울특별시에 소재지를 두고 있는 KOSPI 종목의 종목명과 심볼을 가져옵니다.\n",
    "# .loc[행, 열]\n",
    "# .loc[조건식, 열]\n",
    "# df.loc[(df[\"Region\"] == \"서울특별시\") & (df[\"Market\"] == \"KOSPI\"), [\"Symbol\", \"Name\"]]\n",
    "\n",
    "seoul = df[\"Region\"] == \"서울특별시\"\n",
    "kospi = df[\"Market\"] == \"KOSPI\"\n",
    " \n",
    "df.loc[(seoul & kospi), [\"Symbol\", \"Name\"]]"
   ]
  },
  {
   "cell_type": "markdown",
   "metadata": {},
   "source": [
    "## 파생변수 만들기"
   ]
  },
  {
   "cell_type": "code",
   "execution_count": 32,
   "metadata": {},
   "outputs": [
    {
     "data": {
      "text/plain": [
       "0   2002-04-23\n",
       "Name: ListingDate, dtype: datetime64[ns]"
      ]
     },
     "execution_count": 32,
     "metadata": {},
     "output_type": "execute_result"
    }
   ],
   "source": [
    "# pd.to_datetime 을 통해 데이터의 타입을 변환합니다.\n",
    "df[\"ListingDate\"] = pd.to_datetime(df[\"ListingDate\"])\n",
    "df[\"ListingDate\"].head(1)"
   ]
  },
  {
   "cell_type": "code",
   "execution_count": 33,
   "metadata": {},
   "outputs": [
    {
     "data": {
      "text/plain": [
       "6598       NaN\n",
       "6599       NaN\n",
       "6600    1976.0\n",
       "6601    2000.0\n",
       "6602    2017.0\n",
       "Name: ListingYear, dtype: float64"
      ]
     },
     "execution_count": 33,
     "metadata": {},
     "output_type": "execute_result"
    }
   ],
   "source": [
    "# ListingYear 파생변수 만들기\n",
    "df[\"ListingYear\"] = df[\"ListingDate\"].dt.year\n",
    "df[\"ListingYear\"].tail(5)"
   ]
  },
  {
   "cell_type": "code",
   "execution_count": 34,
   "metadata": {},
   "outputs": [
    {
     "data": {
      "text/plain": [
       "float"
      ]
     },
     "execution_count": 34,
     "metadata": {},
     "output_type": "execute_result"
    }
   ],
   "source": [
    "# nan은 not a number의 약자로 결측치를 의미합니다.\n",
    "import numpy as np\n",
    "type(np.nan)"
   ]
  },
  {
   "cell_type": "code",
   "execution_count": 35,
   "metadata": {},
   "outputs": [
    {
     "data": {
      "text/plain": [
       "ListingDate    datetime64[ns]\n",
       "ListingYear           float64\n",
       "dtype: object"
      ]
     },
     "execution_count": 35,
     "metadata": {},
     "output_type": "execute_result"
    }
   ],
   "source": [
    "df[[\"ListingDate\", \"ListingYear\"]].dtypes"
   ]
  },
  {
   "cell_type": "markdown",
   "metadata": {},
   "source": [
    "## 데이터 시각화 툴 소개\n",
    "\n",
    "### matplotlib\n",
    "* [Anatomy of a figure — Matplotlib documentation](https://matplotlib.org/3.1.1/gallery/showcase/anatomy.html)\n",
    "\n",
    "### seaborn\n",
    "* [seaborn: statistical data visualization — seaborn documentation](https://seaborn.pydata.org/index.html)\n",
    "\n",
    "### pandas\n",
    "* [Visualization — pandas documentation](https://pandas.pydata.org/pandas-docs/stable/user_guide/visualization.html)"
   ]
  },
  {
   "cell_type": "markdown",
   "metadata": {},
   "source": [
    "## 데이터 시각화를 위한 폰트설정"
   ]
  },
  {
   "cell_type": "code",
   "execution_count": 36,
   "metadata": {},
   "outputs": [],
   "source": [
    "def get_font_family():\n",
    "    \"\"\"\n",
    "    시스템 환경에 따른 기본 폰트명을 반환하는 함수\n",
    "    \"\"\"\n",
    "    import platform\n",
    "    system_name = platform.system()\n",
    "    # colab 사용자는 system_name이 'Linux'로 확인\n",
    "\n",
    "    if system_name == \"Darwin\" :\n",
    "        font_family = \"AppleGothic\"\n",
    "    elif system_name == \"Windows\":\n",
    "        font_family = \"Malgun Gothic\"\n",
    "    else:\n",
    "        !apt-get install fonts-nanum -qq  > /dev/null\n",
    "        !fc-cache -fv\n",
    "\n",
    "        import matplotlib as mpl\n",
    "        mpl.font_manager._rebuild()\n",
    "        findfont = mpl.font_manager.fontManager.findfont\n",
    "        mpl.font_manager.findfont = findfont\n",
    "        mpl.backends.backend_agg.findfont = findfont\n",
    "        \n",
    "        font_family = \"NanumBarunGothic\"\n",
    "    return font_family"
   ]
  },
  {
   "cell_type": "code",
   "execution_count": 37,
   "metadata": {},
   "outputs": [
    {
     "data": {
      "text/plain": [
       "'Malgun Gothic'"
      ]
     },
     "execution_count": 37,
     "metadata": {},
     "output_type": "execute_result"
    }
   ],
   "source": [
    "# 위에서 만든 함수를 통해 시스템 폰트를 불러옵니다.\n",
    "get_font_family()"
   ]
  },
  {
   "cell_type": "code",
   "execution_count": 38,
   "metadata": {},
   "outputs": [],
   "source": [
    "# 시각화를 위한 폰트설정\n",
    "# 위에서 만든 함수를 통해 시스템 폰트를 불러와서 font_family 라는 변수에 할당합니다.\n",
    "import matplotlib.pyplot as plt\n",
    "\n",
    "font_family = get_font_family()\n",
    "# 폰트설정\n",
    "plt.rc(\"font\", family=font_family)\n",
    "# 마이너스폰트 설정\n",
    "plt.rc(\"axes\", unicode_minus=False)\n",
    "\n",
    "# ggplot으로 그래프 스타일 설정\n",
    "plt.style.use(\"ggplot\")\n",
    "# 그래프에 retina display 적용\n"
   ]
  },
  {
   "cell_type": "markdown",
   "metadata": {},
   "source": [
    "### 폰트 설정 확인하기"
   ]
  },
  {
   "cell_type": "code",
   "execution_count": 39,
   "metadata": {
    "scrolled": false
   },
   "outputs": [
    {
     "data": {
      "text/plain": [
       "<AxesSubplot:title={'center':'한글폰트'}>"
      ]
     },
     "execution_count": 39,
     "metadata": {},
     "output_type": "execute_result"
    },
    {
     "data": {
      "image/png": "[encoded data removed]",
      "text/plain": [
       "<Figure size 432x288 with 1 Axes>"
      ]
     },
     "metadata": {},
     "output_type": "display_data"
    }
   ],
   "source": [
    "# 한글폰트 확인하기\n",
    "pd.Series([1, 3, 5, -7, 9]).plot(title=\"한글폰트\")"
   ]
  },
  {
   "cell_type": "markdown",
   "metadata": {},
   "source": [
    "## 한 개의 변수 빈도수 구하고 시각화 하기\n",
    "* Keyword\n",
    "\n",
    "    * Series.value_counts()\n",
    "    * Series.value_counts().plot()\n",
    "    * Series.value_counts().plot.bar()\n",
    "    * Series.value_counts().plot.barh()\n",
    "    * sns.countplot()\n",
    "\n",
    "### Market\n",
    "\n",
    "* KOSPI (Korea Composite Stock Price Index) \n",
    "    * 우리나라의 종합주가지수(KOSPI)는 증권거래소가 1964.1.4일을 기준시점으로 다우존스식 주가평균을 지수화한 수정주가 평균지수를 산출, 발표하기 시작하였다. 다우존스식 주가지수는 주가지수를 구성하는 상장종목 중 일부 우량주만을 선정하여 산출하는 방식이다. 시가총액식 주가지수는 일정시점의 시가총액과 현재시점의 시가총액을 대비, 현재의 주가수준을 판단하는 방식이다. 즉, 지난 1980년 1월 4일 기준 상장종목 전체의 시가총액을 100으로 보고 현재 상장종목들의 시가총액이 어느 수준에 놓여 있는지를 보여주는 시스템이다.\n",
    "    * 종합주가지수 = (비교시점의 시가총액 ÷ 기준시점의 시가총액) × 100\n",
    "    * 출처 : [네이버 지식백과] 종합주가지수 (시사상식사전, pmg 지식엔진연구소) https://terms.naver.com/entry.nhn?docId=72147&cid=43667&categoryId=43667\n",
    "\n",
    "\n",
    "* KOSDAQ (Korea Securities Dealers Automated Quotation) \n",
    "    * 미국의 나스닥(NASDAQ)을 한국식으로 합성한 용어로 1996년 7월 1일 증권업협회와 증권사들이 설립한 코스닥증권(주)에 의하여 개설되었다. 코스닥의 개장으로 단순히 증권거래소 상장을 위한 예비적 단계였던 장외시장이 미국의 나스닥(NASDAQ)과 같이 자금조달 및 투자시장으로 독립적인 역할을 수행하게 되었다. 이후 2005년 1월 유가증권시장, 코스닥시장, 선물시장이 증권선물거래소(현 한국거래소)로 통합됨에 따라 코스닥시장도 거래소가 개설한 정규시장으로 편입되었다. 코스닥은 유가증권시장에 비해 진입요건이 상대적으로 덜 까다롭기 때문에 주로 중소벤처기업들이 상장되어 있다.\n",
    "    * 출처 : [네이버 지식백과] KOSDAQ (매일경제, 매경닷컴) https://terms.naver.com/entry.nhn?docId=18639&cid=43659&categoryId=43659\n",
    "\n",
    "\n",
    "* KONEX(Korea New Exchange) : \n",
    "    * 일정 요건을 갖춘 비상장 기업에 문호를 개방하기 위해 개설하는 유가증권시장, 코스닥시장에 이은 제3의 주식시장을 일컫는다. 코넥스시장은 우수한 기술력을 보유하고 있음에도 불구하고, 짧은 경력 등을 이유로 자금 조달에 어려움을 겪는 초기 중소기업과 벤처기업이 자금을 원활하게 조달할 수 있도록 하기 위해 설립된 자본시장으로, 2013년 7월 1일 개장되었다. \n",
    "    * 출처 : [네이버 지식백과] 코넥스 (시사상식사전, pmg 지식엔진연구소) https://terms.naver.com/entry.nhn?docId=1006691&cid=43667&categoryId=43667"
   ]
  },
  {
   "cell_type": "code",
   "execution_count": 40,
   "metadata": {
    "scrolled": false
   },
   "outputs": [
    {
     "data": {
      "text/plain": [
       "array(['KOSDAQ', 'KOSPI', 'KONEX'], dtype=object)"
      ]
     },
     "execution_count": 40,
     "metadata": {},
     "output_type": "execute_result"
    }
   ],
   "source": [
    "# Market column에 어떤 데이터들이 있는지 unique로 확인합니다.\n",
    "df[\"Market\"].unique()"
   ]
  },
  {
   "cell_type": "code",
   "execution_count": 41,
   "metadata": {},
   "outputs": [
    {
     "data": {
      "text/plain": [
       "KOSPI     4920\n",
       "KOSDAQ    1552\n",
       "KONEX      131\n",
       "Name: Market, dtype: int64"
      ]
     },
     "execution_count": 41,
     "metadata": {},
     "output_type": "execute_result"
    }
   ],
   "source": [
    "# value_counts()로 빈도수를 구합니다.\n",
    "df[\"Market\"].value_counts()"
   ]
  },
  {
   "cell_type": "code",
   "execution_count": 42,
   "metadata": {},
   "outputs": [
    {
     "data": {
      "text/plain": [
       "<AxesSubplot:>"
      ]
     },
     "execution_count": 42,
     "metadata": {},
     "output_type": "execute_result"
    },
    {
     "data": {
      "image/png": "[encoded data removed]",
      "text/plain": [
       "<Figure size 432x288 with 1 Axes>"
      ]
     },
     "metadata": {},
     "output_type": "display_data"
    }
   ],
   "source": [
    "# 빈도수를 시각화 합니다.\n",
    "df[\"Market\"].value_counts().plot.barh()"
   ]
  },
  {
   "cell_type": "code",
   "execution_count": 43,
   "metadata": {},
   "outputs": [
    {
     "data": {
      "text/plain": [
       "<AxesSubplot:xlabel='count', ylabel='Market'>"
      ]
     },
     "execution_count": 43,
     "metadata": {},
     "output_type": "execute_result"
    },
    {
     "data": {
      "image/png": "[encoded data removed]",
      "text/plain": [
       "<Figure size 432x288 with 1 Axes>"
      ]
     },
     "metadata": {},
     "output_type": "display_data"
    }
   ],
   "source": [
    "# Seaborn countplot 활용하여 빈도수를 표현합니다.\n",
    "sns.countplot(data=df, y=\"Market\")"
   ]
  },
  {
   "cell_type": "markdown",
   "metadata": {},
   "source": [
    "### Sector"
   ]
  },
  {
   "cell_type": "code",
   "execution_count": 44,
   "metadata": {},
   "outputs": [],
   "source": [
    "# 섹터의 빈도수를 구합니다.\n",
    "# 상위 30개 섹터의 빈도수를 sector_count_top 변수에 할당합니다.\n",
    "# sector_count_top\n",
    "sector_count_top = df[\"Sector\"].value_counts().head(30)"
   ]
  },
  {
   "cell_type": "code",
   "execution_count": 45,
   "metadata": {},
   "outputs": [],
   "source": [
    "# df_sector_30\n",
    "df_sector_30 = df[df[\"Sector\"].isin(sector_count_top.index)]"
   ]
  },
  {
   "cell_type": "code",
   "execution_count": 46,
   "metadata": {
    "scrolled": false
   },
   "outputs": [
    {
     "data": {
      "text/plain": [
       "<AxesSubplot:xlabel='count', ylabel='Sector'>"
      ]
     },
     "execution_count": 46,
     "metadata": {},
     "output_type": "execute_result"
    },
    {
     "data": {
      "image/png": "[encoded data removed]",
      "text/plain": [
       "<Figure size 720x576 with 1 Axes>"
      ]
     },
     "metadata": {},
     "output_type": "display_data"
    }
   ],
   "source": [
    "# Seaborn countplot 활용하여 빈도수를 표현합니다.\n",
    "plt.figure(figsize=(10,8))\n",
    "sns.countplot(data=df_sector_30, y=\"Sector\")"
   ]
  },
  {
   "cell_type": "code",
   "execution_count": 47,
   "metadata": {},
   "outputs": [
    {
     "name": "stdout",
     "output_type": "stream",
     "text": [
      "['Accent', 'Accent_r', 'Blues', 'Blues_r', 'BrBG', 'BrBG_r', 'BuGn', 'BuGn_r', 'BuPu', 'BuPu_r', 'CMRmap', 'CMRmap_r', 'Dark2', 'Dark2_r', 'GnBu', 'GnBu_r', 'Greens', 'Greens_r', 'Greys', 'Greys_r', 'OrRd', 'OrRd_r', 'Oranges', 'Oranges_r', 'PRGn', 'PRGn_r', 'Paired', 'Paired_r', 'Pastel1', 'Pastel1_r', 'Pastel2', 'Pastel2_r', 'PiYG', 'PiYG_r', 'PuBu', 'PuBuGn', 'PuBuGn_r', 'PuBu_r', 'PuOr', 'PuOr_r', 'PuRd', 'PuRd_r', 'Purples', 'Purples_r', 'RdBu', 'RdBu_r', 'RdGy', 'RdGy_r', 'RdPu', 'RdPu_r', 'RdYlBu', 'RdYlBu_r', 'RdYlGn', 'RdYlGn_r', 'Reds', 'Reds_r', 'Set1', 'Set1_r', 'Set2', 'Set2_r', 'Set3', 'Set3_r', 'Spectral', 'Spectral_r', 'Wistia', 'Wistia_r', 'YlGn', 'YlGnBu', 'YlGnBu_r', 'YlGn_r', 'YlOrBr', 'YlOrBr_r', 'YlOrRd', 'YlOrRd_r', 'afmhot', 'afmhot_r', 'autumn', 'autumn_r', 'binary', 'binary_r', 'bone', 'bone_r', 'brg', 'brg_r', 'bwr', 'bwr_r', 'cividis', 'cividis_r', 'cool', 'cool_r', 'coolwarm', 'coolwarm_r', 'copper', 'copper_r', 'crest', 'crest_r', 'cubehelix', 'cubehelix_r', 'flag', 'flag_r', 'flare', 'flare_r', 'gist_earth', 'gist_earth_r', 'gist_gray', 'gist_gray_r', 'gist_heat', 'gist_heat_r', 'gist_ncar', 'gist_ncar_r', 'gist_rainbow', 'gist_rainbow_r', 'gist_stern', 'gist_stern_r', 'gist_yarg', 'gist_yarg_r', 'gnuplot', 'gnuplot2', 'gnuplot2_r', 'gnuplot_r', 'gray', 'gray_r', 'hot', 'hot_r', 'hsv', 'hsv_r', 'icefire', 'icefire_r', 'inferno', 'inferno_r', 'jet', 'jet_r', 'magma', 'magma_r', 'mako', 'mako_r', 'nipy_spectral', 'nipy_spectral_r', 'ocean', 'ocean_r', 'pink', 'pink_r', 'plasma', 'plasma_r', 'prism', 'prism_r', 'rainbow', 'rainbow_r', 'rocket', 'rocket_r', 'seismic', 'seismic_r', 'spring', 'spring_r', 'summer', 'summer_r', 'tab10', 'tab10_r', 'tab20', 'tab20_r', 'tab20b', 'tab20b_r', 'tab20c', 'tab20c_r', 'terrain', 'terrain_r', 'turbo', 'turbo_r', 'twilight', 'twilight_r', 'twilight_shifted', 'twilight_shifted_r', 'viridis', 'viridis_r', 'vlag', 'vlag_r', 'winter', 'winter_r']\n"
     ]
    }
   ],
   "source": [
    "print(plt.colormaps())"
   ]
  },
  {
   "cell_type": "code",
   "execution_count": 48,
   "metadata": {},
   "outputs": [
    {
     "data": {
      "text/plain": [
       "Text(0.5, 1.0, '섹터별 빈도수')"
      ]
     },
     "execution_count": 48,
     "metadata": {},
     "output_type": "execute_result"
    },
    {
     "data": {
      "image/png": "[encoded data removed]",
      "text/plain": [
       "<Figure size 720x576 with 1 Axes>"
      ]
     },
     "metadata": {},
     "output_type": "display_data"
    }
   ],
   "source": [
    "# 빈도수가 가장 많은 데이터 색인하기\n",
    "plt.figure(figsize=(10,8))\n",
    "sns.countplot(data=df_sector_30, y=\"Sector\", palette=\"Blues_r\",\n",
    "              order=sector_count_top.index).set_title(\"섹터별 빈도수\")"
   ]
  },
  {
   "cell_type": "markdown",
   "metadata": {},
   "source": [
    "### Industry"
   ]
  },
  {
   "cell_type": "code",
   "execution_count": 51,
   "metadata": {},
   "outputs": [
    {
     "data": {
      "text/plain": [
       "Index(['기업인수합병', '지주회사', '지주사업', '모바일게임', '화장품', '기업인수 및 합병', '기업 인수 및 합병',\n",
       "       '합병', '부동산투자', '-', '금융 지원 서비스', '건강기능식품', '도급공사', '의약품', '금융 지원 서비스업',\n",
       "       '증권업', '벤처캐피탈', '자동차부품', '셋톱박스', '금융지원 서비스', '금융지원서비스', '금융지주회사', '주정',\n",
       "       '기업인수목적', '의료정보시스템', '디지털셋톱박스', '부동산 임대업', '부동산 투자 및 관리', '화장품 유통',\n",
       "       '관이음쇠'],\n",
       "      dtype='object')"
      ]
     },
     "execution_count": 51,
     "metadata": {},
     "output_type": "execute_result"
    }
   ],
   "source": [
    "# Industry 의 빈도수를 구합니다.\n",
    "# industry_top30\n",
    "industry_count_top = df[\"Industry\"].value_counts().head(30)\n",
    "industry_count_top.index"
   ]
  },
  {
   "cell_type": "code",
   "execution_count": 52,
   "metadata": {},
   "outputs": [],
   "source": [
    "df_industry_30 = df[df[\"Industry\"].isin(industry_count_top.index)]"
   ]
  },
  {
   "cell_type": "code",
   "execution_count": 128,
   "metadata": {
    "scrolled": false
   },
   "outputs": [
    {
     "data": {
      "text/plain": [
       "<AxesSubplot:xlabel='count', ylabel='Industry'>"
      ]
     },
     "execution_count": 128,
     "metadata": {},
     "output_type": "execute_result"
    },
    {
     "data": {
      "image/png": "[encoded data removed]",
      "text/plain": [
       "<Figure size 720x576 with 1 Axes>"
      ]
     },
     "metadata": {},
     "output_type": "display_data"
    }
   ],
   "source": [
    "# Industry 빈도수를 pandas 의 plot 기능을 사용해 시각화 합니다.\n",
    "plt.figure(figsize=(10,8))\n",
    "sns.countplot(data=df_industry_30, y=\"Industry\")"
   ]
  },
  {
   "cell_type": "code",
   "execution_count": 51,
   "metadata": {},
   "outputs": [],
   "source": [
    "# df[df[\"Industry\"].isin(industry_top30.index)]"
   ]
  },
  {
   "cell_type": "code",
   "execution_count": 53,
   "metadata": {},
   "outputs": [
    {
     "data": {
      "text/plain": [
       "Text(0.5, 1.0, '인더스트리 빈도수')"
      ]
     },
     "execution_count": 53,
     "metadata": {},
     "output_type": "execute_result"
    },
    {
     "data": {
      "image/png": "[encoded data removed]",
      "text/plain": [
       "<Figure size 720x576 with 1 Axes>"
      ]
     },
     "metadata": {},
     "output_type": "display_data"
    }
   ],
   "source": [
    "# seaborn\n",
    "plt.figure(figsize=(10,8))\n",
    "sns.countplot(data=df_industry_30, y=\"Industry\", palette=\"Greens_r\", order=industry_count_top.index).set_title(\"인더스트리 빈도수\")"
   ]
  },
  {
   "cell_type": "markdown",
   "metadata": {},
   "source": [
    "### Region "
   ]
  },
  {
   "cell_type": "code",
   "execution_count": 54,
   "metadata": {},
   "outputs": [
    {
     "data": {
      "text/plain": [
       "서울특별시      1011\n",
       "경기도         699\n",
       "충청남도         98\n",
       "경상남도         90\n",
       "인천광역시        87\n",
       "충청북도         86\n",
       "부산광역시        77\n",
       "경상북도         65\n",
       "대구광역시        53\n",
       "대전광역시        52\n",
       "전라북도         28\n",
       "강원도          27\n",
       "울산광역시        26\n",
       "전라남도         22\n",
       "광주광역시        22\n",
       "세종특별자치시      10\n",
       "제주특별자치도       9\n",
       "홍콩            8\n",
       "미국            6\n",
       "케이맨 제도        5\n",
       "일본            3\n",
       "싱가포르          1\n",
       "Name: Region, dtype: int64"
      ]
     },
     "execution_count": 54,
     "metadata": {},
     "output_type": "execute_result"
    }
   ],
   "source": [
    "# Region 의 빈도수를 구합니다.\n",
    "# value_counts()통해 지역별 상장회사의 빈도수를 봅니다.\n",
    "df[\"Region\"].value_counts()"
   ]
  },
  {
   "cell_type": "code",
   "execution_count": 57,
   "metadata": {},
   "outputs": [
    {
     "data": {
      "text/plain": [
       "<AxesSubplot:>"
      ]
     },
     "execution_count": 57,
     "metadata": {},
     "output_type": "execute_result"
    },
    {
     "data": {
      "image/png": "[encoded data removed]",
      "text/plain": [
       "<Figure size 720x432 with 1 Axes>"
      ]
     },
     "metadata": {},
     "output_type": "display_data"
    }
   ],
   "source": [
    "# df[\"Region\"]\n",
    "df[\"Region\"].value_counts().sort_values().plot.barh(\n",
    "    figsize=(10,6))"
   ]
  },
  {
   "cell_type": "code",
   "execution_count": 58,
   "metadata": {},
   "outputs": [
    {
     "data": {
      "text/plain": [
       "<AxesSubplot:xlabel='count', ylabel='Region'>"
      ]
     },
     "execution_count": 58,
     "metadata": {},
     "output_type": "execute_result"
    },
    {
     "data": {
      "image/png": "[encoded data removed]",
      "text/plain": [
       "<Figure size 432x288 with 1 Axes>"
      ]
     },
     "metadata": {},
     "output_type": "display_data"
    }
   ],
   "source": [
    "# Region 의 빈도수를 seaborn 의 countplot 으로 그립니다.\n",
    "sns.countplot(data=df, y=\"Region\")"
   ]
  },
  {
   "cell_type": "code",
   "execution_count": 60,
   "metadata": {},
   "outputs": [
    {
     "data": {
      "text/plain": [
       "Text(0.5, 1.0, '지역별 상장 종목 수')"
      ]
     },
     "execution_count": 60,
     "metadata": {},
     "output_type": "execute_result"
    },
    {
     "data": {
      "image/png": "[encoded data removed]",
      "text/plain": [
       "<Figure size 432x288 with 1 Axes>"
      ]
     },
     "metadata": {},
     "output_type": "display_data"
    }
   ],
   "source": [
    "# order 기능을 통해 빈도수를 정렬합니다.\n",
    "# df[\"Region\"].value_counts().index 로 Region 의 순서를 가져와서 지정합니다.\n",
    "sns.countplot(data=df, y=\"Region\", order=df[\"Region\"].value_counts().index).set_title(\"지역별 상장 종목 수\")"
   ]
  },
  {
   "cell_type": "code",
   "execution_count": 61,
   "metadata": {},
   "outputs": [
    {
     "data": {
      "text/plain": [
       "Text(0.5, 1.0, '지역별 상장 종목 수')"
      ]
     },
     "execution_count": 61,
     "metadata": {},
     "output_type": "execute_result"
    },
    {
     "data": {
      "image/png": "[encoded data removed]",
      "text/plain": [
       "<Figure size 576x432 with 1 Axes>"
      ]
     },
     "metadata": {},
     "output_type": "display_data"
    }
   ],
   "source": [
    "# Region 을 기준으로 정렬합니다.\n",
    "plt.figure(figsize=(8,6))\n",
    "sns.countplot(data=df.sort_values(\"Region\"), y=\"Region\").set_title(\"지역별 상장 종목 수\")"
   ]
  },
  {
   "cell_type": "markdown",
   "metadata": {},
   "source": [
    "## 두 개의 변수 빈도수 구하고 시각화 하기\n",
    "* crosstab 으로 빈도수 구하기\n",
    "* seaborn의 countplot 으로 빈도수 시각화\n",
    "* pandas의 plot 기능으로 시각화\n",
    "    * lineplot : 연속된 데이터(숫자, 기간)\n",
    "    * barplot : 비연속 데이터(범주형)\n",
    "    * hist : 연속된 수치 데이터의 범주화"
   ]
  },
  {
   "cell_type": "markdown",
   "metadata": {},
   "source": [
    "### 지역별 상장 시장 종목 빈도수 구하기\n",
    "* pd.crosstab 을 통한 2개의 변수에 대한 빈도수 구하기"
   ]
  },
  {
   "cell_type": "code",
   "execution_count": 63,
   "metadata": {},
   "outputs": [
    {
     "data": {
      "text/html": [
       "<div>\n",
       "<style scoped>\n",
       "    .dataframe tbody tr th:only-of-type {\n",
       "        vertical-align: middle;\n",
       "    }\n",
       "\n",
       "    .dataframe tbody tr th {\n",
       "        vertical-align: top;\n",
       "    }\n",
       "\n",
       "    .dataframe thead th {\n",
       "        text-align: right;\n",
       "    }\n",
       "</style>\n",
       "<table border=\"1\" class=\"dataframe\">\n",
       "  <thead>\n",
       "    <tr style=\"text-align: right;\">\n",
       "      <th>Region</th>\n",
       "      <th>강원도</th>\n",
       "      <th>경기도</th>\n",
       "      <th>경상남도</th>\n",
       "      <th>경상북도</th>\n",
       "      <th>광주광역시</th>\n",
       "      <th>대구광역시</th>\n",
       "      <th>대전광역시</th>\n",
       "      <th>미국</th>\n",
       "      <th>부산광역시</th>\n",
       "      <th>서울특별시</th>\n",
       "      <th>...</th>\n",
       "      <th>울산광역시</th>\n",
       "      <th>인천광역시</th>\n",
       "      <th>일본</th>\n",
       "      <th>전라남도</th>\n",
       "      <th>전라북도</th>\n",
       "      <th>제주특별자치도</th>\n",
       "      <th>충청남도</th>\n",
       "      <th>충청북도</th>\n",
       "      <th>케이맨 제도</th>\n",
       "      <th>홍콩</th>\n",
       "    </tr>\n",
       "    <tr>\n",
       "      <th>Market</th>\n",
       "      <th></th>\n",
       "      <th></th>\n",
       "      <th></th>\n",
       "      <th></th>\n",
       "      <th></th>\n",
       "      <th></th>\n",
       "      <th></th>\n",
       "      <th></th>\n",
       "      <th></th>\n",
       "      <th></th>\n",
       "      <th></th>\n",
       "      <th></th>\n",
       "      <th></th>\n",
       "      <th></th>\n",
       "      <th></th>\n",
       "      <th></th>\n",
       "      <th></th>\n",
       "      <th></th>\n",
       "      <th></th>\n",
       "      <th></th>\n",
       "      <th></th>\n",
       "    </tr>\n",
       "  </thead>\n",
       "  <tbody>\n",
       "    <tr>\n",
       "      <th>KONEX</th>\n",
       "      <td>7</td>\n",
       "      <td>32</td>\n",
       "      <td>1</td>\n",
       "      <td>5</td>\n",
       "      <td>4</td>\n",
       "      <td>1</td>\n",
       "      <td>7</td>\n",
       "      <td>0</td>\n",
       "      <td>2</td>\n",
       "      <td>49</td>\n",
       "      <td>...</td>\n",
       "      <td>0</td>\n",
       "      <td>4</td>\n",
       "      <td>0</td>\n",
       "      <td>3</td>\n",
       "      <td>1</td>\n",
       "      <td>1</td>\n",
       "      <td>4</td>\n",
       "      <td>9</td>\n",
       "      <td>0</td>\n",
       "      <td>0</td>\n",
       "    </tr>\n",
       "    <tr>\n",
       "      <th>KOSDAQ</th>\n",
       "      <td>16</td>\n",
       "      <td>517</td>\n",
       "      <td>47</td>\n",
       "      <td>40</td>\n",
       "      <td>9</td>\n",
       "      <td>31</td>\n",
       "      <td>38</td>\n",
       "      <td>6</td>\n",
       "      <td>39</td>\n",
       "      <td>541</td>\n",
       "      <td>...</td>\n",
       "      <td>9</td>\n",
       "      <td>58</td>\n",
       "      <td>3</td>\n",
       "      <td>12</td>\n",
       "      <td>15</td>\n",
       "      <td>2</td>\n",
       "      <td>68</td>\n",
       "      <td>62</td>\n",
       "      <td>4</td>\n",
       "      <td>8</td>\n",
       "    </tr>\n",
       "    <tr>\n",
       "      <th>KOSPI</th>\n",
       "      <td>4</td>\n",
       "      <td>150</td>\n",
       "      <td>42</td>\n",
       "      <td>20</td>\n",
       "      <td>9</td>\n",
       "      <td>21</td>\n",
       "      <td>7</td>\n",
       "      <td>0</td>\n",
       "      <td>36</td>\n",
       "      <td>421</td>\n",
       "      <td>...</td>\n",
       "      <td>17</td>\n",
       "      <td>25</td>\n",
       "      <td>0</td>\n",
       "      <td>7</td>\n",
       "      <td>12</td>\n",
       "      <td>6</td>\n",
       "      <td>26</td>\n",
       "      <td>15</td>\n",
       "      <td>1</td>\n",
       "      <td>0</td>\n",
       "    </tr>\n",
       "  </tbody>\n",
       "</table>\n",
       "<p>3 rows × 22 columns</p>\n",
       "</div>"
      ],
      "text/plain": [
       "Region  강원도  경기도  경상남도  경상북도  광주광역시  대구광역시  대전광역시  미국  부산광역시  서울특별시  ...  \\\n",
       "Market                                                               ...   \n",
       "KONEX     7   32     1     5      4      1      7   0      2     49  ...   \n",
       "KOSDAQ   16  517    47    40      9     31     38   6     39    541  ...   \n",
       "KOSPI     4  150    42    20      9     21      7   0     36    421  ...   \n",
       "\n",
       "Region  울산광역시  인천광역시  일본  전라남도  전라북도  제주특별자치도  충청남도  충청북도  케이맨 제도  홍콩  \n",
       "Market                                                                 \n",
       "KONEX       0      4   0     3     1        1     4     9       0   0  \n",
       "KOSDAQ      9     58   3    12    15        2    68    62       4   8  \n",
       "KOSPI      17     25   0     7    12        6    26    15       1   0  \n",
       "\n",
       "[3 rows x 22 columns]"
      ]
     },
     "execution_count": 63,
     "metadata": {},
     "output_type": "execute_result"
    }
   ],
   "source": [
    "# pd.crosstab 을 통한 2개의 변수에 대한 빈도수 구하기\n",
    "# Market 과 Region 으로 빈도수 구하기\n",
    "pd.crosstab(df[\"Market\"], df[\"Region\"])"
   ]
  },
  {
   "cell_type": "code",
   "execution_count": 71,
   "metadata": {},
   "outputs": [
    {
     "data": {
      "image/png": "[encoded data removed]",
      "text/plain": [
       "<Figure size 720x288 with 1 Axes>"
      ]
     },
     "metadata": {},
     "output_type": "display_data"
    }
   ],
   "source": [
    "# countplot : Market 과 Region 으로 빈도수 시각화 하기\n",
    "plt.figure(figsize=(10,4))\n",
    "plt.xticks(rotation=90)\n",
    "g = sns.countplot(data=df, x=\"Region\", hue=\"Market\").set_title(\"마켓별 지역별 빈도수\")"
   ]
  },
  {
   "cell_type": "markdown",
   "metadata": {},
   "source": [
    "### 연도별 상장 종목 빈도수 분석"
   ]
  },
  {
   "cell_type": "code",
   "execution_count": 77,
   "metadata": {},
   "outputs": [],
   "source": [
    "# Market, ListingYear 빈도수 구하기\n",
    "# market_year\n",
    "market_year = pd.crosstab(df[\"Market\"], df[\"ListingYear\"])"
   ]
  },
  {
   "cell_type": "markdown",
   "metadata": {},
   "source": [
    "### seaborn을 통한 빈도수 시각화"
   ]
  },
  {
   "cell_type": "code",
   "execution_count": 75,
   "metadata": {},
   "outputs": [
    {
     "data": {
      "text/plain": [
       "<AxesSubplot:xlabel='ListingYear', ylabel='count'>"
      ]
     },
     "execution_count": 75,
     "metadata": {},
     "output_type": "execute_result"
    },
    {
     "data": {
      "image/png": "[encoded data removed]",
      "text/plain": [
       "<Figure size 720x288 with 1 Axes>"
      ]
     },
     "metadata": {},
     "output_type": "display_data"
    }
   ],
   "source": [
    "# Seaborn countplot 활용하여 빈도수를 표현합니다.\n",
    "# hue 를 사용해 다른 변수를 함께 표현합니다. hue는 색상을 의미합니다.\n",
    "plt.figure(figsize=(10,4))\n",
    "plt.xticks(rotation=90)\n",
    "sns.countplot(data=df, x=\"ListingYear\", hue=\"Market\")"
   ]
  },
  {
   "cell_type": "markdown",
   "metadata": {},
   "source": [
    "### Pandas를 통한 시각화"
   ]
  },
  {
   "cell_type": "code",
   "execution_count": 83,
   "metadata": {},
   "outputs": [
    {
     "data": {
      "text/plain": [
       "<AxesSubplot:title={'center':'연도별 상장 종목 수'}, xlabel='ListingYear'>"
      ]
     },
     "execution_count": 83,
     "metadata": {},
     "output_type": "execute_result"
    },
    {
     "data": {
      "image/png": "[encoded data removed]",
      "text/plain": [
       "<Figure size 720x288 with 1 Axes>"
      ]
     },
     "metadata": {},
     "output_type": "display_data"
    }
   ],
   "source": [
    "# Pandas plot 기능 활용하여 기본 그래프(line)를 그립니다.\n",
    "# Pandas plot으로 그릴 때 x축에 인덱스 값이 y축에는 컬럼에 있는 값이 들어갑니다.\n",
    "# 컬럼이 여러개라면 다른 색상으로 그려집니다.\n",
    "market_year.T.plot(figsize=(10,4), title=\"연도별 상장 종목 수\")"
   ]
  },
  {
   "cell_type": "code",
   "execution_count": 85,
   "metadata": {},
   "outputs": [
    {
     "data": {
      "text/plain": [
       "array([<AxesSubplot:xlabel='ListingYear'>,\n",
       "       <AxesSubplot:xlabel='ListingYear'>,\n",
       "       <AxesSubplot:xlabel='ListingYear'>], dtype=object)"
      ]
     },
     "execution_count": 85,
     "metadata": {},
     "output_type": "execute_result"
    },
    {
     "data": {
      "image/png": "[encoded data removed]",
      "text/plain": [
       "<Figure size 720x288 with 3 Axes>"
      ]
     },
     "metadata": {},
     "output_type": "display_data"
    }
   ],
   "source": [
    "# 컬럼값을 subplots 으로 그립니다.\n",
    "market_year.T.plot(figsize=(10,4), title=\"연도별 상장 종목 수\", subplots=True)"
   ]
  },
  {
   "cell_type": "code",
   "execution_count": 88,
   "metadata": {},
   "outputs": [
    {
     "data": {
      "text/plain": [
       "<AxesSubplot:title={'center':'마켓 연도별 상장 종목 수'}, xlabel='ListingYear'>"
      ]
     },
     "execution_count": 88,
     "metadata": {},
     "output_type": "execute_result"
    },
    {
     "data": {
      "image/png": "[encoded data removed]",
      "text/plain": [
       "<Figure size 720x288 with 1 Axes>"
      ]
     },
     "metadata": {},
     "output_type": "display_data"
    }
   ],
   "source": [
    "# Pandas plot 기능 활용하여 막대 그래프(bar, barh)를 그립니다.\n",
    "market_year.T.plot.bar(figsize=(10,4), title=\"마켓 연도별 상장 종목 수\")"
   ]
  },
  {
   "cell_type": "code",
   "execution_count": 93,
   "metadata": {},
   "outputs": [
    {
     "data": {
      "text/html": [
       "<div>\n",
       "<style scoped>\n",
       "    .dataframe tbody tr th:only-of-type {\n",
       "        vertical-align: middle;\n",
       "    }\n",
       "\n",
       "    .dataframe tbody tr th {\n",
       "        vertical-align: top;\n",
       "    }\n",
       "\n",
       "    .dataframe thead th {\n",
       "        text-align: right;\n",
       "    }\n",
       "</style>\n",
       "<table border=\"1\" class=\"dataframe\">\n",
       "  <thead>\n",
       "    <tr style=\"text-align: right;\">\n",
       "      <th>ListingYear</th>\n",
       "      <th>1956</th>\n",
       "      <th>1962</th>\n",
       "      <th>1964</th>\n",
       "      <th>1966</th>\n",
       "      <th>1968</th>\n",
       "      <th>1969</th>\n",
       "      <th>1970</th>\n",
       "      <th>1971</th>\n",
       "      <th>1972</th>\n",
       "      <th>1973</th>\n",
       "      <th>...</th>\n",
       "      <th>2012</th>\n",
       "      <th>2013</th>\n",
       "      <th>2014</th>\n",
       "      <th>2015</th>\n",
       "      <th>2016</th>\n",
       "      <th>2017</th>\n",
       "      <th>2018</th>\n",
       "      <th>2019</th>\n",
       "      <th>2020</th>\n",
       "      <th>2021</th>\n",
       "    </tr>\n",
       "    <tr>\n",
       "      <th>Market</th>\n",
       "      <th></th>\n",
       "      <th></th>\n",
       "      <th></th>\n",
       "      <th></th>\n",
       "      <th></th>\n",
       "      <th></th>\n",
       "      <th></th>\n",
       "      <th></th>\n",
       "      <th></th>\n",
       "      <th></th>\n",
       "      <th></th>\n",
       "      <th></th>\n",
       "      <th></th>\n",
       "      <th></th>\n",
       "      <th></th>\n",
       "      <th></th>\n",
       "      <th></th>\n",
       "      <th></th>\n",
       "      <th></th>\n",
       "      <th></th>\n",
       "      <th></th>\n",
       "    </tr>\n",
       "  </thead>\n",
       "  <tbody>\n",
       "    <tr>\n",
       "      <th>KONEX</th>\n",
       "      <td>0</td>\n",
       "      <td>0</td>\n",
       "      <td>0</td>\n",
       "      <td>0</td>\n",
       "      <td>0</td>\n",
       "      <td>0</td>\n",
       "      <td>0</td>\n",
       "      <td>0</td>\n",
       "      <td>0</td>\n",
       "      <td>0</td>\n",
       "      <td>...</td>\n",
       "      <td>0</td>\n",
       "      <td>11</td>\n",
       "      <td>10</td>\n",
       "      <td>26</td>\n",
       "      <td>22</td>\n",
       "      <td>16</td>\n",
       "      <td>13</td>\n",
       "      <td>15</td>\n",
       "      <td>11</td>\n",
       "      <td>7</td>\n",
       "    </tr>\n",
       "    <tr>\n",
       "      <th>KOSDAQ</th>\n",
       "      <td>0</td>\n",
       "      <td>0</td>\n",
       "      <td>0</td>\n",
       "      <td>0</td>\n",
       "      <td>0</td>\n",
       "      <td>0</td>\n",
       "      <td>0</td>\n",
       "      <td>0</td>\n",
       "      <td>0</td>\n",
       "      <td>0</td>\n",
       "      <td>...</td>\n",
       "      <td>18</td>\n",
       "      <td>35</td>\n",
       "      <td>58</td>\n",
       "      <td>89</td>\n",
       "      <td>61</td>\n",
       "      <td>68</td>\n",
       "      <td>85</td>\n",
       "      <td>94</td>\n",
       "      <td>86</td>\n",
       "      <td>100</td>\n",
       "    </tr>\n",
       "    <tr>\n",
       "      <th>KOSPI</th>\n",
       "      <td>5</td>\n",
       "      <td>1</td>\n",
       "      <td>1</td>\n",
       "      <td>1</td>\n",
       "      <td>6</td>\n",
       "      <td>5</td>\n",
       "      <td>4</td>\n",
       "      <td>1</td>\n",
       "      <td>3</td>\n",
       "      <td>22</td>\n",
       "      <td>...</td>\n",
       "      <td>13</td>\n",
       "      <td>10</td>\n",
       "      <td>9</td>\n",
       "      <td>18</td>\n",
       "      <td>18</td>\n",
       "      <td>20</td>\n",
       "      <td>19</td>\n",
       "      <td>15</td>\n",
       "      <td>14</td>\n",
       "      <td>27</td>\n",
       "    </tr>\n",
       "  </tbody>\n",
       "</table>\n",
       "<p>3 rows × 57 columns</p>\n",
       "</div>"
      ],
      "text/plain": [
       "ListingYear  1956  1962  1964  1966  1968  1969  1970  1971  1972  1973  ...  \\\n",
       "Market                                                                   ...   \n",
       "KONEX           0     0     0     0     0     0     0     0     0     0  ...   \n",
       "KOSDAQ          0     0     0     0     0     0     0     0     0     0  ...   \n",
       "KOSPI           5     1     1     1     6     5     4     1     3    22  ...   \n",
       "\n",
       "ListingYear  2012  2013  2014  2015  2016  2017  2018  2019  2020  2021  \n",
       "Market                                                                   \n",
       "KONEX           0    11    10    26    22    16    13    15    11     7  \n",
       "KOSDAQ         18    35    58    89    61    68    85    94    86   100  \n",
       "KOSPI          13    10     9    18    18    20    19    15    14    27  \n",
       "\n",
       "[3 rows x 57 columns]"
      ]
     },
     "execution_count": 93,
     "metadata": {},
     "output_type": "execute_result"
    }
   ],
   "source": [
    "# 컬럼명의 데이터 타입을 int 형태로 변경합니다.\n",
    "market_year.columns = market_year.columns.astype(int)\n",
    "market_year"
   ]
  },
  {
   "cell_type": "code",
   "execution_count": 99,
   "metadata": {},
   "outputs": [
    {
     "data": {
      "text/plain": [
       "<AxesSubplot:xlabel='ListingYear'>"
      ]
     },
     "execution_count": 99,
     "metadata": {},
     "output_type": "execute_result"
    },
    {
     "data": {
      "image/png": "[encoded data removed]",
      "text/plain": [
       "<Figure size 720x288 with 1 Axes>"
      ]
     },
     "metadata": {},
     "output_type": "display_data"
    }
   ],
   "source": [
    "# 막대(bar)그래프 그리기\n",
    "# market_year\n",
    "market_year.T.plot.bar(figsize=(10,4), rot=60)"
   ]
  },
  {
   "cell_type": "markdown",
   "metadata": {},
   "source": [
    "### groupby 와 pivot_table로 빈도수 구하기\n",
    "<img src=\"https://pandas.pydata.org/pandas-docs/stable/_images/06_valuecounts.svg\">\n",
    "\n",
    "* [How to calculate summary statistics? — pandas documentation](https://pandas.pydata.org/pandas-docs/stable/getting_started/intro_tutorials/06_calculate_statistics.html)\n",
    "* [Group by: split-apply-combine — pandas documentation](https://pandas.pydata.org/pandas-docs/stable/user_guide/groupby.html)\n",
    "* [pandas.pivot_table — pandas 1.2.0 documentation](https://pandas.pydata.org/pandas-docs/stable/reference/api/pandas.pivot_table.html)"
   ]
  },
  {
   "cell_type": "code",
   "execution_count": 137,
   "metadata": {},
   "outputs": [
    {
     "data": {
      "text/plain": [
       "Market  ListingYear\n",
       "KONEX   2013.0         11\n",
       "        2014.0         10\n",
       "        2015.0         26\n",
       "        2016.0         22\n",
       "        2017.0         16\n",
       "                       ..\n",
       "KOSPI   2017.0         20\n",
       "        2018.0         19\n",
       "        2019.0         15\n",
       "        2020.0         14\n",
       "        2021.0         27\n",
       "Name: Symbol, Length: 99, dtype: int64"
      ]
     },
     "execution_count": 137,
     "metadata": {},
     "output_type": "execute_result"
    }
   ],
   "source": [
    "# groupby([인덱스 컬럼 리스트])[연산에 사용할 컬럼].연산()\n",
    "market_year = df.groupby([\"Market\", \"ListingYear\"])[\"Symbol\"].count()\n",
    "market_year"
   ]
  },
  {
   "cell_type": "code",
   "execution_count": 138,
   "metadata": {},
   "outputs": [
    {
     "data": {
      "text/html": [
       "<div>\n",
       "<style scoped>\n",
       "    .dataframe tbody tr th:only-of-type {\n",
       "        vertical-align: middle;\n",
       "    }\n",
       "\n",
       "    .dataframe tbody tr th {\n",
       "        vertical-align: top;\n",
       "    }\n",
       "\n",
       "    .dataframe thead th {\n",
       "        text-align: right;\n",
       "    }\n",
       "</style>\n",
       "<table border=\"1\" class=\"dataframe\">\n",
       "  <thead>\n",
       "    <tr style=\"text-align: right;\">\n",
       "      <th>ListingYear</th>\n",
       "      <th>1956.0</th>\n",
       "      <th>1962.0</th>\n",
       "      <th>1964.0</th>\n",
       "      <th>1966.0</th>\n",
       "      <th>1968.0</th>\n",
       "      <th>1969.0</th>\n",
       "      <th>1970.0</th>\n",
       "      <th>1971.0</th>\n",
       "      <th>1972.0</th>\n",
       "      <th>1973.0</th>\n",
       "      <th>...</th>\n",
       "      <th>2012.0</th>\n",
       "      <th>2013.0</th>\n",
       "      <th>2014.0</th>\n",
       "      <th>2015.0</th>\n",
       "      <th>2016.0</th>\n",
       "      <th>2017.0</th>\n",
       "      <th>2018.0</th>\n",
       "      <th>2019.0</th>\n",
       "      <th>2020.0</th>\n",
       "      <th>2021.0</th>\n",
       "    </tr>\n",
       "    <tr>\n",
       "      <th>Market</th>\n",
       "      <th></th>\n",
       "      <th></th>\n",
       "      <th></th>\n",
       "      <th></th>\n",
       "      <th></th>\n",
       "      <th></th>\n",
       "      <th></th>\n",
       "      <th></th>\n",
       "      <th></th>\n",
       "      <th></th>\n",
       "      <th></th>\n",
       "      <th></th>\n",
       "      <th></th>\n",
       "      <th></th>\n",
       "      <th></th>\n",
       "      <th></th>\n",
       "      <th></th>\n",
       "      <th></th>\n",
       "      <th></th>\n",
       "      <th></th>\n",
       "      <th></th>\n",
       "    </tr>\n",
       "  </thead>\n",
       "  <tbody>\n",
       "    <tr>\n",
       "      <th>KONEX</th>\n",
       "      <td>0</td>\n",
       "      <td>0</td>\n",
       "      <td>0</td>\n",
       "      <td>0</td>\n",
       "      <td>0</td>\n",
       "      <td>0</td>\n",
       "      <td>0</td>\n",
       "      <td>0</td>\n",
       "      <td>0</td>\n",
       "      <td>0</td>\n",
       "      <td>...</td>\n",
       "      <td>0</td>\n",
       "      <td>11</td>\n",
       "      <td>10</td>\n",
       "      <td>26</td>\n",
       "      <td>22</td>\n",
       "      <td>16</td>\n",
       "      <td>13</td>\n",
       "      <td>15</td>\n",
       "      <td>11</td>\n",
       "      <td>7</td>\n",
       "    </tr>\n",
       "    <tr>\n",
       "      <th>KOSDAQ</th>\n",
       "      <td>0</td>\n",
       "      <td>0</td>\n",
       "      <td>0</td>\n",
       "      <td>0</td>\n",
       "      <td>0</td>\n",
       "      <td>0</td>\n",
       "      <td>0</td>\n",
       "      <td>0</td>\n",
       "      <td>0</td>\n",
       "      <td>0</td>\n",
       "      <td>...</td>\n",
       "      <td>18</td>\n",
       "      <td>35</td>\n",
       "      <td>58</td>\n",
       "      <td>89</td>\n",
       "      <td>61</td>\n",
       "      <td>68</td>\n",
       "      <td>85</td>\n",
       "      <td>94</td>\n",
       "      <td>86</td>\n",
       "      <td>100</td>\n",
       "    </tr>\n",
       "    <tr>\n",
       "      <th>KOSPI</th>\n",
       "      <td>5</td>\n",
       "      <td>1</td>\n",
       "      <td>1</td>\n",
       "      <td>1</td>\n",
       "      <td>6</td>\n",
       "      <td>5</td>\n",
       "      <td>4</td>\n",
       "      <td>1</td>\n",
       "      <td>3</td>\n",
       "      <td>22</td>\n",
       "      <td>...</td>\n",
       "      <td>13</td>\n",
       "      <td>10</td>\n",
       "      <td>9</td>\n",
       "      <td>18</td>\n",
       "      <td>18</td>\n",
       "      <td>20</td>\n",
       "      <td>19</td>\n",
       "      <td>15</td>\n",
       "      <td>14</td>\n",
       "      <td>27</td>\n",
       "    </tr>\n",
       "  </tbody>\n",
       "</table>\n",
       "<p>3 rows × 57 columns</p>\n",
       "</div>"
      ],
      "text/plain": [
       "ListingYear  1956.0  1962.0  1964.0  1966.0  1968.0  1969.0  1970.0  1971.0  \\\n",
       "Market                                                                        \n",
       "KONEX             0       0       0       0       0       0       0       0   \n",
       "KOSDAQ            0       0       0       0       0       0       0       0   \n",
       "KOSPI             5       1       1       1       6       5       4       1   \n",
       "\n",
       "ListingYear  1972.0  1973.0  ...  2012.0  2013.0  2014.0  2015.0  2016.0  \\\n",
       "Market                       ...                                           \n",
       "KONEX             0       0  ...       0      11      10      26      22   \n",
       "KOSDAQ            0       0  ...      18      35      58      89      61   \n",
       "KOSPI             3      22  ...      13      10       9      18      18   \n",
       "\n",
       "ListingYear  2017.0  2018.0  2019.0  2020.0  2021.0  \n",
       "Market                                               \n",
       "KONEX            16      13      15      11       7  \n",
       "KOSDAQ           68      85      94      86     100  \n",
       "KOSPI            20      19      15      14      27  \n",
       "\n",
       "[3 rows x 57 columns]"
      ]
     },
     "execution_count": 138,
     "metadata": {},
     "output_type": "execute_result"
    }
   ],
   "source": [
    "market_year.unstack().fillna(0).astype(int)"
   ]
  },
  {
   "cell_type": "code",
   "execution_count": 139,
   "metadata": {},
   "outputs": [
    {
     "data": {
      "text/html": [
       "<div>\n",
       "<style scoped>\n",
       "    .dataframe tbody tr th:only-of-type {\n",
       "        vertical-align: middle;\n",
       "    }\n",
       "\n",
       "    .dataframe tbody tr th {\n",
       "        vertical-align: top;\n",
       "    }\n",
       "\n",
       "    .dataframe thead th {\n",
       "        text-align: right;\n",
       "    }\n",
       "</style>\n",
       "<table border=\"1\" class=\"dataframe\">\n",
       "  <thead>\n",
       "    <tr style=\"text-align: right;\">\n",
       "      <th>ListingYear</th>\n",
       "      <th>1956.0</th>\n",
       "      <th>1962.0</th>\n",
       "      <th>1964.0</th>\n",
       "      <th>1966.0</th>\n",
       "      <th>1968.0</th>\n",
       "      <th>1969.0</th>\n",
       "      <th>1970.0</th>\n",
       "      <th>1971.0</th>\n",
       "      <th>1972.0</th>\n",
       "      <th>1973.0</th>\n",
       "      <th>...</th>\n",
       "      <th>2012.0</th>\n",
       "      <th>2013.0</th>\n",
       "      <th>2014.0</th>\n",
       "      <th>2015.0</th>\n",
       "      <th>2016.0</th>\n",
       "      <th>2017.0</th>\n",
       "      <th>2018.0</th>\n",
       "      <th>2019.0</th>\n",
       "      <th>2020.0</th>\n",
       "      <th>2021.0</th>\n",
       "    </tr>\n",
       "    <tr>\n",
       "      <th>Market</th>\n",
       "      <th></th>\n",
       "      <th></th>\n",
       "      <th></th>\n",
       "      <th></th>\n",
       "      <th></th>\n",
       "      <th></th>\n",
       "      <th></th>\n",
       "      <th></th>\n",
       "      <th></th>\n",
       "      <th></th>\n",
       "      <th></th>\n",
       "      <th></th>\n",
       "      <th></th>\n",
       "      <th></th>\n",
       "      <th></th>\n",
       "      <th></th>\n",
       "      <th></th>\n",
       "      <th></th>\n",
       "      <th></th>\n",
       "      <th></th>\n",
       "      <th></th>\n",
       "    </tr>\n",
       "  </thead>\n",
       "  <tbody>\n",
       "    <tr>\n",
       "      <th>KONEX</th>\n",
       "      <td>0</td>\n",
       "      <td>0</td>\n",
       "      <td>0</td>\n",
       "      <td>0</td>\n",
       "      <td>0</td>\n",
       "      <td>0</td>\n",
       "      <td>0</td>\n",
       "      <td>0</td>\n",
       "      <td>0</td>\n",
       "      <td>0</td>\n",
       "      <td>...</td>\n",
       "      <td>0</td>\n",
       "      <td>11</td>\n",
       "      <td>10</td>\n",
       "      <td>26</td>\n",
       "      <td>22</td>\n",
       "      <td>16</td>\n",
       "      <td>13</td>\n",
       "      <td>15</td>\n",
       "      <td>11</td>\n",
       "      <td>7</td>\n",
       "    </tr>\n",
       "    <tr>\n",
       "      <th>KOSDAQ</th>\n",
       "      <td>0</td>\n",
       "      <td>0</td>\n",
       "      <td>0</td>\n",
       "      <td>0</td>\n",
       "      <td>0</td>\n",
       "      <td>0</td>\n",
       "      <td>0</td>\n",
       "      <td>0</td>\n",
       "      <td>0</td>\n",
       "      <td>0</td>\n",
       "      <td>...</td>\n",
       "      <td>18</td>\n",
       "      <td>35</td>\n",
       "      <td>58</td>\n",
       "      <td>89</td>\n",
       "      <td>61</td>\n",
       "      <td>68</td>\n",
       "      <td>85</td>\n",
       "      <td>94</td>\n",
       "      <td>86</td>\n",
       "      <td>100</td>\n",
       "    </tr>\n",
       "    <tr>\n",
       "      <th>KOSPI</th>\n",
       "      <td>5</td>\n",
       "      <td>1</td>\n",
       "      <td>1</td>\n",
       "      <td>1</td>\n",
       "      <td>6</td>\n",
       "      <td>5</td>\n",
       "      <td>4</td>\n",
       "      <td>1</td>\n",
       "      <td>3</td>\n",
       "      <td>22</td>\n",
       "      <td>...</td>\n",
       "      <td>13</td>\n",
       "      <td>10</td>\n",
       "      <td>9</td>\n",
       "      <td>18</td>\n",
       "      <td>18</td>\n",
       "      <td>20</td>\n",
       "      <td>19</td>\n",
       "      <td>15</td>\n",
       "      <td>14</td>\n",
       "      <td>27</td>\n",
       "    </tr>\n",
       "  </tbody>\n",
       "</table>\n",
       "<p>3 rows × 57 columns</p>\n",
       "</div>"
      ],
      "text/plain": [
       "ListingYear  1956.0  1962.0  1964.0  1966.0  1968.0  1969.0  1970.0  1971.0  \\\n",
       "Market                                                                        \n",
       "KONEX             0       0       0       0       0       0       0       0   \n",
       "KOSDAQ            0       0       0       0       0       0       0       0   \n",
       "KOSPI             5       1       1       1       6       5       4       1   \n",
       "\n",
       "ListingYear  1972.0  1973.0  ...  2012.0  2013.0  2014.0  2015.0  2016.0  \\\n",
       "Market                       ...                                           \n",
       "KONEX             0       0  ...       0      11      10      26      22   \n",
       "KOSDAQ            0       0  ...      18      35      58      89      61   \n",
       "KOSPI             3      22  ...      13      10       9      18      18   \n",
       "\n",
       "ListingYear  2017.0  2018.0  2019.0  2020.0  2021.0  \n",
       "Market                                               \n",
       "KONEX            16      13      15      11       7  \n",
       "KOSDAQ           68      85      94      86     100  \n",
       "KOSPI            20      19      15      14      27  \n",
       "\n",
       "[3 rows x 57 columns]"
      ]
     },
     "execution_count": 139,
     "metadata": {},
     "output_type": "execute_result"
    }
   ],
   "source": [
    "# pivot_table로 같은 결과가 나오게 연산하기\n",
    "pd.pivot_table(data=df, index=[\"Market\"], \n",
    "               columns=\"ListingYear\", \n",
    "               values=\"Symbol\", aggfunc=\"count\", fill_value=0)"
   ]
  },
  {
   "cell_type": "code",
   "execution_count": 149,
   "metadata": {},
   "outputs": [
    {
     "data": {
      "text/plain": [
       "<AxesSubplot:xlabel='ListingYear', ylabel='count'>"
      ]
     },
     "execution_count": 149,
     "metadata": {},
     "output_type": "execute_result"
    },
    {
     "data": {
      "image/png": "[encoded data removed]",
      "text/plain": [
       "<Figure size 720x288 with 1 Axes>"
      ]
     },
     "metadata": {},
     "output_type": "display_data"
    }
   ],
   "source": [
    "# 위의 groupby 결과를 scatterplot으로 그립니다.\n",
    "# df_market_year\n",
    "df_market_year = market_year.reset_index()\n",
    "df_market_year = df_market_year.rename(columns={\"Symbol\":\"count\"})\n",
    "plt.figure(figsize=(10,4))\n",
    "sns.scatterplot(data=df_market_year, x=\"ListingYear\", y=\"count\", hue=\"Market\")"
   ]
  },
  {
   "cell_type": "code",
   "execution_count": 155,
   "metadata": {
    "scrolled": true
   },
   "outputs": [
    {
     "data": {
      "text/plain": [
       "<AxesSubplot:xlabel='ListingYear', ylabel='count'>"
      ]
     },
     "execution_count": 155,
     "metadata": {},
     "output_type": "execute_result"
    },
    {
     "data": {
      "image/png": "[encoded data removed]",
      "text/plain": [
       "<Figure size 720x288 with 1 Axes>"
      ]
     },
     "metadata": {},
     "output_type": "display_data"
    }
   ],
   "source": [
    "# lineplot 그리기\n",
    "plt.figure(figsize=(10,4))\n",
    "sns.lineplot(data=df_market_year, x=\"ListingYear\", y=\"count\", hue=\"Market\", ci=None)"
   ]
  },
  {
   "cell_type": "code",
   "execution_count": 161,
   "metadata": {},
   "outputs": [
    {
     "data": {
      "text/plain": [
       "<seaborn.axisgrid.FacetGrid at 0x215a3ab3d90>"
      ]
     },
     "execution_count": 161,
     "metadata": {},
     "output_type": "execute_result"
    },
    {
     "data": {
      "image/png": "[encoded data removed]",
      "text/plain": [
       "<Figure size 1156.12x360 with 3 Axes>"
      ]
     },
     "metadata": {},
     "output_type": "display_data"
    }
   ],
   "source": [
    "# relplot으로 subplot 그리기 - scatter\n",
    "sns.relplot(data=df_market_year, x=\"ListingYear\", y=\"count\", hue=\"Market\", col=\"Market\")"
   ]
  },
  {
   "cell_type": "code",
   "execution_count": 165,
   "metadata": {},
   "outputs": [
    {
     "data": {
      "text/plain": [
       "<seaborn.axisgrid.FacetGrid at 0x215a6aedd90>"
      ]
     },
     "execution_count": 165,
     "metadata": {},
     "output_type": "execute_result"
    },
    {
     "data": {
      "image/png": "[encoded data removed]",
      "text/plain": [
       "<Figure size 508.125x432 with 3 Axes>"
      ]
     },
     "metadata": {},
     "output_type": "display_data"
    }
   ],
   "source": [
    "# relplot으로 subplot 그리기 - line\n",
    "\n",
    "sns.relplot(data=df_market_year, x=\"ListingYear\", y=\"count\",\n",
    "            hue=\"Market\", row=\"Market\", kind=\"line\", height=2, aspect=3)"
   ]
  },
  {
   "cell_type": "markdown",
   "metadata": {},
   "source": [
    "### 구간화 binnig 과 히스토그램\n",
    "* 연속된 수치 데이터를 범주형 데이터로 표현, bucketing 이라고 부르기도 함\n",
    "* 히스토그램 : 도수분포를 그래프 형태로 표현한 것\n",
    "* 막대그래프와 비슷해 보이지만 다른 그래프\n",
    "* 참고 : [히스토그램 - 위키백과, 우리 모두의 백과사전](https://ko.wikipedia.org/wiki/%ED%9E%88%EC%8A%A4%ED%86%A0%EA%B7%B8%EB%9E%A8)"
   ]
  },
  {
   "cell_type": "code",
   "execution_count": 175,
   "metadata": {},
   "outputs": [
    {
     "data": {
      "text/plain": [
       "count    2485.000000\n",
       "mean     2005.536821\n",
       "std        12.872374\n",
       "min      1956.000000\n",
       "25%      1999.000000\n",
       "50%      2008.000000\n",
       "75%      2016.000000\n",
       "max      2021.000000\n",
       "Name: ListingYear, dtype: float64"
      ]
     },
     "execution_count": 175,
     "metadata": {},
     "output_type": "execute_result"
    }
   ],
   "source": [
    "df[\"ListingYear\"].describe()"
   ]
  },
  {
   "cell_type": "code",
   "execution_count": 180,
   "metadata": {},
   "outputs": [
    {
     "data": {
      "text/plain": [
       "<AxesSubplot:ylabel='Frequency'>"
      ]
     },
     "execution_count": 180,
     "metadata": {},
     "output_type": "execute_result"
    },
    {
     "data": {
      "image/png": "[encoded data removed]",
      "text/plain": [
       "<Figure size 432x288 with 1 Axes>"
      ]
     },
     "metadata": {},
     "output_type": "display_data"
    }
   ],
   "source": [
    "df[\"ListingYear\"].plot.hist()"
   ]
  },
  {
   "cell_type": "code",
   "execution_count": 179,
   "metadata": {},
   "outputs": [
    {
     "data": {
      "text/plain": [
       "<AxesSubplot:ylabel='Frequency'>"
      ]
     },
     "execution_count": 179,
     "metadata": {},
     "output_type": "execute_result"
    },
    {
     "data": {
      "image/png": "[encoded data removed]",
      "text/plain": [
       "<Figure size 432x288 with 1 Axes>"
      ]
     },
     "metadata": {},
     "output_type": "display_data"
    }
   ],
   "source": [
    "# bins 의 갯수에 따라 그래프의 표현 방법이 달라집니다.\n",
    "df[\"ListingYear\"].plot.hist(bins=50)"
   ]
  },
  {
   "cell_type": "code",
   "execution_count": 181,
   "metadata": {},
   "outputs": [
    {
     "data": {
      "text/plain": [
       "<AxesSubplot:ylabel='Density'>"
      ]
     },
     "execution_count": 181,
     "metadata": {},
     "output_type": "execute_result"
    },
    {
     "data": {
      "image/png": "[encoded data removed]",
      "text/plain": [
       "<Figure size 432x288 with 1 Axes>"
      ]
     },
     "metadata": {},
     "output_type": "display_data"
    }
   ],
   "source": [
    "df[\"ListingYear\"].plot.kde()"
   ]
  },
  {
   "cell_type": "markdown",
   "metadata": {},
   "source": [
    "## 데이터 색인"
   ]
  },
  {
   "cell_type": "code",
   "execution_count": 185,
   "metadata": {
    "scrolled": false
   },
   "outputs": [
    {
     "data": {
      "text/html": [
       "<div>\n",
       "<style scoped>\n",
       "    .dataframe tbody tr th:only-of-type {\n",
       "        vertical-align: middle;\n",
       "    }\n",
       "\n",
       "    .dataframe tbody tr th {\n",
       "        vertical-align: top;\n",
       "    }\n",
       "\n",
       "    .dataframe thead th {\n",
       "        text-align: right;\n",
       "    }\n",
       "</style>\n",
       "<table border=\"1\" class=\"dataframe\">\n",
       "  <thead>\n",
       "    <tr style=\"text-align: right;\">\n",
       "      <th></th>\n",
       "      <th>Symbol</th>\n",
       "      <th>Market</th>\n",
       "      <th>Name</th>\n",
       "      <th>Sector</th>\n",
       "      <th>Industry</th>\n",
       "      <th>ListingDate</th>\n",
       "      <th>SettleMonth</th>\n",
       "      <th>Representative</th>\n",
       "      <th>HomePage</th>\n",
       "      <th>Region</th>\n",
       "      <th>ListingYear</th>\n",
       "    </tr>\n",
       "  </thead>\n",
       "  <tbody>\n",
       "    <tr>\n",
       "      <th>1912</th>\n",
       "      <td>900280</td>\n",
       "      <td>KOSDAQ</td>\n",
       "      <td>골든센츄리</td>\n",
       "      <td>기타 금융업</td>\n",
       "      <td>트랙터용 휠 및 타이어</td>\n",
       "      <td>2016-10-19</td>\n",
       "      <td>12월</td>\n",
       "      <td>주승화</td>\n",
       "      <td>http://www.jsj-wheel.co.kr</td>\n",
       "      <td>케이맨 제도</td>\n",
       "      <td>2016.0</td>\n",
       "    </tr>\n",
       "    <tr>\n",
       "      <th>1946</th>\n",
       "      <td>900070</td>\n",
       "      <td>KOSDAQ</td>\n",
       "      <td>글로벌에스엠</td>\n",
       "      <td>기타 금융업</td>\n",
       "      <td>자회사 제품 : IT기기용 정밀 화스너부품(스크류, 샤프트, 스프링)</td>\n",
       "      <td>2009-12-23</td>\n",
       "      <td>12월</td>\n",
       "      <td>나윤복</td>\n",
       "      <td>http://www.globalsmtech.com</td>\n",
       "      <td>케이맨 제도</td>\n",
       "      <td>2009.0</td>\n",
       "    </tr>\n",
       "    <tr>\n",
       "      <th>4046</th>\n",
       "      <td>900120</td>\n",
       "      <td>KOSDAQ</td>\n",
       "      <td>씨케이에이치</td>\n",
       "      <td>기타 금융업</td>\n",
       "      <td>건강보조식품</td>\n",
       "      <td>2010-03-31</td>\n",
       "      <td>06월</td>\n",
       "      <td>린진성</td>\n",
       "      <td>NaN</td>\n",
       "      <td>케이맨 제도</td>\n",
       "      <td>2010.0</td>\n",
       "    </tr>\n",
       "    <tr>\n",
       "      <th>4306</th>\n",
       "      <td>900140</td>\n",
       "      <td>KOSPI</td>\n",
       "      <td>엘브이엠씨홀딩스</td>\n",
       "      <td>자동차 판매업</td>\n",
       "      <td>지주회사</td>\n",
       "      <td>2010-11-30</td>\n",
       "      <td>12월</td>\n",
       "      <td>오세영, 노성석, 김선발 (각자 대표이사)</td>\n",
       "      <td>http://www.lvmcholdings.net</td>\n",
       "      <td>케이맨 제도</td>\n",
       "      <td>2010.0</td>\n",
       "    </tr>\n",
       "    <tr>\n",
       "      <th>4958</th>\n",
       "      <td>900250</td>\n",
       "      <td>KOSDAQ</td>\n",
       "      <td>크리스탈신소재</td>\n",
       "      <td>기타 금융업</td>\n",
       "      <td>합성운모 플레이크, 파우더, 테이프</td>\n",
       "      <td>2016-01-28</td>\n",
       "      <td>12월</td>\n",
       "      <td>다이중치우 (DAI ZHONG QIU)</td>\n",
       "      <td>http://www.crystalnewmaterial.com</td>\n",
       "      <td>케이맨 제도</td>\n",
       "      <td>2016.0</td>\n",
       "    </tr>\n",
       "  </tbody>\n",
       "</table>\n",
       "</div>"
      ],
      "text/plain": [
       "      Symbol  Market      Name   Sector  \\\n",
       "1912  900280  KOSDAQ     골든센츄리   기타 금융업   \n",
       "1946  900070  KOSDAQ    글로벌에스엠   기타 금융업   \n",
       "4046  900120  KOSDAQ    씨케이에이치   기타 금융업   \n",
       "4306  900140   KOSPI  엘브이엠씨홀딩스  자동차 판매업   \n",
       "4958  900250  KOSDAQ   크리스탈신소재   기타 금융업   \n",
       "\n",
       "                                    Industry ListingDate SettleMonth  \\\n",
       "1912                            트랙터용 휠 및 타이어  2016-10-19         12월   \n",
       "1946  자회사 제품 : IT기기용 정밀 화스너부품(스크류, 샤프트, 스프링)  2009-12-23         12월   \n",
       "4046                                  건강보조식품  2010-03-31         06월   \n",
       "4306                                    지주회사  2010-11-30         12월   \n",
       "4958                     합성운모 플레이크, 파우더, 테이프  2016-01-28         12월   \n",
       "\n",
       "               Representative                           HomePage  Region  \\\n",
       "1912                      주승화         http://www.jsj-wheel.co.kr  케이맨 제도   \n",
       "1946                      나윤복        http://www.globalsmtech.com  케이맨 제도   \n",
       "4046                      린진성                                NaN  케이맨 제도   \n",
       "4306  오세영, 노성석, 김선발 (각자 대표이사)        http://www.lvmcholdings.net  케이맨 제도   \n",
       "4958    다이중치우 (DAI ZHONG QIU)  http://www.crystalnewmaterial.com  케이맨 제도   \n",
       "\n",
       "      ListingYear  \n",
       "1912       2016.0  \n",
       "1946       2009.0  \n",
       "4046       2010.0  \n",
       "4306       2010.0  \n",
       "4958       2016.0  "
      ]
     },
     "execution_count": 185,
     "metadata": {},
     "output_type": "execute_result"
    }
   ],
   "source": [
    "# 케이맨 제도에 있는 회사 찾기\n",
    "df[df[\"Region\"] == \"케이맨 제도\"]"
   ]
  },
  {
   "cell_type": "code",
   "execution_count": 190,
   "metadata": {
    "scrolled": true
   },
   "outputs": [
    {
     "data": {
      "text/html": [
       "<div>\n",
       "<style scoped>\n",
       "    .dataframe tbody tr th:only-of-type {\n",
       "        vertical-align: middle;\n",
       "    }\n",
       "\n",
       "    .dataframe tbody tr th {\n",
       "        vertical-align: top;\n",
       "    }\n",
       "\n",
       "    .dataframe thead th {\n",
       "        text-align: right;\n",
       "    }\n",
       "</style>\n",
       "<table border=\"1\" class=\"dataframe\">\n",
       "  <thead>\n",
       "    <tr style=\"text-align: right;\">\n",
       "      <th></th>\n",
       "      <th>Symbol</th>\n",
       "      <th>Market</th>\n",
       "      <th>Name</th>\n",
       "      <th>Sector</th>\n",
       "      <th>Industry</th>\n",
       "      <th>ListingDate</th>\n",
       "      <th>SettleMonth</th>\n",
       "      <th>Representative</th>\n",
       "      <th>HomePage</th>\n",
       "      <th>Region</th>\n",
       "      <th>ListingYear</th>\n",
       "    </tr>\n",
       "  </thead>\n",
       "  <tbody>\n",
       "    <tr>\n",
       "      <th>60</th>\n",
       "      <td>000120</td>\n",
       "      <td>KOSPI</td>\n",
       "      <td>CJ대한통운</td>\n",
       "      <td>도로 화물 운송업</td>\n",
       "      <td>Contract Logistics, 포워딩, 항만하역, 해운, 택배국제특송, SCM...</td>\n",
       "      <td>1956-07-02</td>\n",
       "      <td>12월</td>\n",
       "      <td>강신호</td>\n",
       "      <td>http://www.cjlogistics.com</td>\n",
       "      <td>서울특별시</td>\n",
       "      <td>1956.0</td>\n",
       "    </tr>\n",
       "    <tr>\n",
       "      <th>82</th>\n",
       "      <td>001530</td>\n",
       "      <td>KOSPI</td>\n",
       "      <td>DI동일</td>\n",
       "      <td>상품 중개업</td>\n",
       "      <td>면사,화섬사,면포,혼방포,스포츠웨어용 신합섬 제조,도매,수출</td>\n",
       "      <td>1964-01-04</td>\n",
       "      <td>12월</td>\n",
       "      <td>서태원, 손재선</td>\n",
       "      <td>http://www.dong-il.com</td>\n",
       "      <td>서울특별시</td>\n",
       "      <td>1964.0</td>\n",
       "    </tr>\n",
       "    <tr>\n",
       "      <th>1575</th>\n",
       "      <td>004250</td>\n",
       "      <td>KOSPI</td>\n",
       "      <td>NPC</td>\n",
       "      <td>플라스틱제품 제조업</td>\n",
       "      <td>산업용기프라스틱제품(플라스틱 파렛트,시트 파렛트) 제조,판매</td>\n",
       "      <td>1969-09-08</td>\n",
       "      <td>12월</td>\n",
       "      <td>최병민</td>\n",
       "      <td>http://www.npc.co.kr</td>\n",
       "      <td>경기도</td>\n",
       "      <td>1969.0</td>\n",
       "    </tr>\n",
       "    <tr>\n",
       "      <th>1894</th>\n",
       "      <td>000050</td>\n",
       "      <td>KOSPI</td>\n",
       "      <td>경방</td>\n",
       "      <td>종합 소매업</td>\n",
       "      <td>섬유류(면사,면혼방사,면직물,면혼방직물,화섬사,화섬직물) 제조,도매,수출입</td>\n",
       "      <td>1956-03-03</td>\n",
       "      <td>12월</td>\n",
       "      <td>김준, 김담</td>\n",
       "      <td>http://www.kyungbang.co.kr</td>\n",
       "      <td>서울특별시</td>\n",
       "      <td>1956.0</td>\n",
       "    </tr>\n",
       "    <tr>\n",
       "      <th>2175</th>\n",
       "      <td>001440</td>\n",
       "      <td>KOSPI</td>\n",
       "      <td>대한전선</td>\n",
       "      <td>절연선 및 케이블 제조업</td>\n",
       "      <td>전력선,통신케이블,적산계기,스텐레스압연제품,광케이블,초고압선,알루미늄 제조,도매/전기공사</td>\n",
       "      <td>1968-12-27</td>\n",
       "      <td>12월</td>\n",
       "      <td>나형균</td>\n",
       "      <td>http://www.taihan.com</td>\n",
       "      <td>경기도</td>\n",
       "      <td>1968.0</td>\n",
       "    </tr>\n",
       "    <tr>\n",
       "      <th>2177</th>\n",
       "      <td>001790</td>\n",
       "      <td>KOSPI</td>\n",
       "      <td>대한제당</td>\n",
       "      <td>곡물가공품, 전분 및 전분제품 제조업</td>\n",
       "      <td>제당,가축용 배합사료,설탕,기능성감미료(자일로올리고당),외식산 제조,도소매/부동산 임대</td>\n",
       "      <td>1968-12-27</td>\n",
       "      <td>12월</td>\n",
       "      <td>김기영</td>\n",
       "      <td>http://www.ts.co.kr</td>\n",
       "      <td>인천광역시</td>\n",
       "      <td>1968.0</td>\n",
       "    </tr>\n",
       "    <tr>\n",
       "      <th>2180</th>\n",
       "      <td>003490</td>\n",
       "      <td>KOSPI</td>\n",
       "      <td>대한항공</td>\n",
       "      <td>항공 여객 운송업</td>\n",
       "      <td>여객운송,화물운송,항공기 제조,판매,정비수리/기내식 제조판매,면세품 판매</td>\n",
       "      <td>1966-03-18</td>\n",
       "      <td>12월</td>\n",
       "      <td>조원태, 우기홍</td>\n",
       "      <td>http://www.koreanair.com</td>\n",
       "      <td>서울특별시</td>\n",
       "      <td>1966.0</td>\n",
       "    </tr>\n",
       "    <tr>\n",
       "      <th>2469</th>\n",
       "      <td>000060</td>\n",
       "      <td>KOSPI</td>\n",
       "      <td>메리츠화재</td>\n",
       "      <td>보험업</td>\n",
       "      <td>손해보험(화재,해상,운송보험)</td>\n",
       "      <td>1956-07-02</td>\n",
       "      <td>12월</td>\n",
       "      <td>김용범</td>\n",
       "      <td>http://www.meritzfire.com</td>\n",
       "      <td>서울특별시</td>\n",
       "      <td>1956.0</td>\n",
       "    </tr>\n",
       "    <tr>\n",
       "      <th>3620</th>\n",
       "      <td>000070</td>\n",
       "      <td>KOSPI</td>\n",
       "      <td>삼양홀딩스</td>\n",
       "      <td>기타 금융업</td>\n",
       "      <td>지주회사,경영자문컨설팅</td>\n",
       "      <td>1968-12-27</td>\n",
       "      <td>12월</td>\n",
       "      <td>엄태웅, 윤재엽</td>\n",
       "      <td>http://www.samyang.com</td>\n",
       "      <td>서울특별시</td>\n",
       "      <td>1968.0</td>\n",
       "    </tr>\n",
       "    <tr>\n",
       "      <th>3719</th>\n",
       "      <td>002420</td>\n",
       "      <td>KOSPI</td>\n",
       "      <td>세기상사</td>\n",
       "      <td>영화, 비디오물, 방송프로그램 제작 및 배급업</td>\n",
       "      <td>극장(영화상영)/극영화,만화영화 제조/음식료품,일용잡화 소매/부동산 임대</td>\n",
       "      <td>1968-12-27</td>\n",
       "      <td>12월</td>\n",
       "      <td>조영준</td>\n",
       "      <td>http://daehancinema.com</td>\n",
       "      <td>서울특별시</td>\n",
       "      <td>1968.0</td>\n",
       "    </tr>\n",
       "    <tr>\n",
       "      <th>3729</th>\n",
       "      <td>003030</td>\n",
       "      <td>KOSPI</td>\n",
       "      <td>세아제강지주</td>\n",
       "      <td>기타 금융업</td>\n",
       "      <td>경영컨설팅업</td>\n",
       "      <td>1969-05-13</td>\n",
       "      <td>12월</td>\n",
       "      <td>이주성, 김태현</td>\n",
       "      <td>http://www.seahsteel.co.kr/company/holdings/</td>\n",
       "      <td>서울특별시</td>\n",
       "      <td>1969.0</td>\n",
       "    </tr>\n",
       "    <tr>\n",
       "      <th>4503</th>\n",
       "      <td>000700</td>\n",
       "      <td>KOSPI</td>\n",
       "      <td>유수홀딩스</td>\n",
       "      <td>회사 본부 및 경영 컨설팅 서비스업</td>\n",
       "      <td>지주사업</td>\n",
       "      <td>1956-03-03</td>\n",
       "      <td>12월</td>\n",
       "      <td>송영규</td>\n",
       "      <td>http://www.eusu-holdings.com</td>\n",
       "      <td>서울특별시</td>\n",
       "      <td>1956.0</td>\n",
       "    </tr>\n",
       "    <tr>\n",
       "      <th>4530</th>\n",
       "      <td>000100</td>\n",
       "      <td>KOSPI</td>\n",
       "      <td>유한양행</td>\n",
       "      <td>의약품 제조업</td>\n",
       "      <td>의약품(삐콤씨, 안티푸라민, 렉라자, 로수바미브, 코푸시럽 등), 생활용품(유한락스...</td>\n",
       "      <td>1962-11-01</td>\n",
       "      <td>12월</td>\n",
       "      <td>대표이사 조욱제</td>\n",
       "      <td>http://www.yuhan.co.kr</td>\n",
       "      <td>서울특별시</td>\n",
       "      <td>1962.0</td>\n",
       "    </tr>\n",
       "    <tr>\n",
       "      <th>4685</th>\n",
       "      <td>000950</td>\n",
       "      <td>KOSPI</td>\n",
       "      <td>전방</td>\n",
       "      <td>방적 및 가공사 제조업</td>\n",
       "      <td>면사,면혼방사,마혼방사,화섬사,염색사,자수사,소모사,면직물,면혼방직물,화섬직물,특수...</td>\n",
       "      <td>1968-10-21</td>\n",
       "      <td>12월</td>\n",
       "      <td>조덕현</td>\n",
       "      <td>http://www.chonbang.co.kr</td>\n",
       "      <td>서울특별시</td>\n",
       "      <td>1968.0</td>\n",
       "    </tr>\n",
       "    <tr>\n",
       "      <th>4894</th>\n",
       "      <td>003690</td>\n",
       "      <td>KOSPI</td>\n",
       "      <td>코리안리</td>\n",
       "      <td>재 보험업</td>\n",
       "      <td>금융보험/부동산 임대</td>\n",
       "      <td>1969-12-22</td>\n",
       "      <td>12월</td>\n",
       "      <td>원종규</td>\n",
       "      <td>http://www.koreanre.co.kr</td>\n",
       "      <td>서울특별시</td>\n",
       "      <td>1969.0</td>\n",
       "    </tr>\n",
       "    <tr>\n",
       "      <th>6364</th>\n",
       "      <td>000240</td>\n",
       "      <td>KOSPI</td>\n",
       "      <td>한국앤컴퍼니</td>\n",
       "      <td>기타 금융업</td>\n",
       "      <td>비금융지주회사</td>\n",
       "      <td>1968-12-27</td>\n",
       "      <td>12월</td>\n",
       "      <td>조현범</td>\n",
       "      <td>http://www.hankook-technologygroup.com</td>\n",
       "      <td>경기도</td>\n",
       "      <td>1968.0</td>\n",
       "    </tr>\n",
       "    <tr>\n",
       "      <th>6378</th>\n",
       "      <td>000970</td>\n",
       "      <td>KOSPI</td>\n",
       "      <td>한국주철관</td>\n",
       "      <td>1차 철강 제조업</td>\n",
       "      <td>수도용주철관,강관 제조</td>\n",
       "      <td>1969-12-12</td>\n",
       "      <td>12월</td>\n",
       "      <td>홍동국, 김태형, 김형규, 김길출 (각자대표제)</td>\n",
       "      <td>http://www.kcip.co.kr</td>\n",
       "      <td>부산광역시</td>\n",
       "      <td>1969.0</td>\n",
       "    </tr>\n",
       "    <tr>\n",
       "      <th>6447</th>\n",
       "      <td>003300</td>\n",
       "      <td>KOSPI</td>\n",
       "      <td>한일홀딩스</td>\n",
       "      <td>시멘트, 석회, 플라스터 및 그 제품 제조업</td>\n",
       "      <td>지주사업</td>\n",
       "      <td>1969-11-20</td>\n",
       "      <td>12월</td>\n",
       "      <td>허기호, 전근식(각자대표)</td>\n",
       "      <td>http://www.hanil.com</td>\n",
       "      <td>서울특별시</td>\n",
       "      <td>1969.0</td>\n",
       "    </tr>\n",
       "    <tr>\n",
       "      <th>6454</th>\n",
       "      <td>003480</td>\n",
       "      <td>KOSPI</td>\n",
       "      <td>한진중공업홀딩스</td>\n",
       "      <td>연료용 가스 제조 및 배관공급업</td>\n",
       "      <td>지주회사</td>\n",
       "      <td>1956-03-03</td>\n",
       "      <td>12월</td>\n",
       "      <td>조남호, 조원국</td>\n",
       "      <td>http://www.hhic-holdings.com</td>\n",
       "      <td>경기도</td>\n",
       "      <td>1956.0</td>\n",
       "    </tr>\n",
       "  </tbody>\n",
       "</table>\n",
       "</div>"
      ],
      "text/plain": [
       "      Symbol Market      Name                     Sector  \\\n",
       "60    000120  KOSPI    CJ대한통운                  도로 화물 운송업   \n",
       "82    001530  KOSPI      DI동일                     상품 중개업   \n",
       "1575  004250  KOSPI       NPC                 플라스틱제품 제조업   \n",
       "1894  000050  KOSPI        경방                     종합 소매업   \n",
       "2175  001440  KOSPI      대한전선              절연선 및 케이블 제조업   \n",
       "2177  001790  KOSPI      대한제당       곡물가공품, 전분 및 전분제품 제조업   \n",
       "2180  003490  KOSPI      대한항공                  항공 여객 운송업   \n",
       "2469  000060  KOSPI     메리츠화재                        보험업   \n",
       "3620  000070  KOSPI     삼양홀딩스                     기타 금융업   \n",
       "3719  002420  KOSPI      세기상사  영화, 비디오물, 방송프로그램 제작 및 배급업   \n",
       "3729  003030  KOSPI    세아제강지주                     기타 금융업   \n",
       "4503  000700  KOSPI     유수홀딩스        회사 본부 및 경영 컨설팅 서비스업   \n",
       "4530  000100  KOSPI      유한양행                    의약품 제조업   \n",
       "4685  000950  KOSPI        전방               방적 및 가공사 제조업   \n",
       "4894  003690  KOSPI      코리안리                      재 보험업   \n",
       "6364  000240  KOSPI    한국앤컴퍼니                     기타 금융업   \n",
       "6378  000970  KOSPI     한국주철관                  1차 철강 제조업   \n",
       "6447  003300  KOSPI     한일홀딩스   시멘트, 석회, 플라스터 및 그 제품 제조업   \n",
       "6454  003480  KOSPI  한진중공업홀딩스          연료용 가스 제조 및 배관공급업   \n",
       "\n",
       "                                               Industry ListingDate  \\\n",
       "60    Contract Logistics, 포워딩, 항만하역, 해운, 택배국제특송, SCM...  1956-07-02   \n",
       "82                    면사,화섬사,면포,혼방포,스포츠웨어용 신합섬 제조,도매,수출  1964-01-04   \n",
       "1575                  산업용기프라스틱제품(플라스틱 파렛트,시트 파렛트) 제조,판매  1969-09-08   \n",
       "1894          섬유류(면사,면혼방사,면직물,면혼방직물,화섬사,화섬직물) 제조,도매,수출입  1956-03-03   \n",
       "2175  전력선,통신케이블,적산계기,스텐레스압연제품,광케이블,초고압선,알루미늄 제조,도매/전기공사  1968-12-27   \n",
       "2177   제당,가축용 배합사료,설탕,기능성감미료(자일로올리고당),외식산 제조,도소매/부동산 임대  1968-12-27   \n",
       "2180           여객운송,화물운송,항공기 제조,판매,정비수리/기내식 제조판매,면세품 판매  1966-03-18   \n",
       "2469                                   손해보험(화재,해상,운송보험)  1956-07-02   \n",
       "3620                                       지주회사,경영자문컨설팅  1968-12-27   \n",
       "3719           극장(영화상영)/극영화,만화영화 제조/음식료품,일용잡화 소매/부동산 임대  1968-12-27   \n",
       "3729                                             경영컨설팅업  1969-05-13   \n",
       "4503                                               지주사업  1956-03-03   \n",
       "4530  의약품(삐콤씨, 안티푸라민, 렉라자, 로수바미브, 코푸시럽 등), 생활용품(유한락스...  1962-11-01   \n",
       "4685  면사,면혼방사,마혼방사,화섬사,염색사,자수사,소모사,면직물,면혼방직물,화섬직물,특수...  1968-10-21   \n",
       "4894                                        금융보험/부동산 임대  1969-12-22   \n",
       "6364                                            비금융지주회사  1968-12-27   \n",
       "6378                                       수도용주철관,강관 제조  1969-12-12   \n",
       "6447                                               지주사업  1969-11-20   \n",
       "6454                                               지주회사  1956-03-03   \n",
       "\n",
       "     SettleMonth              Representative  \\\n",
       "60           12월                         강신호   \n",
       "82           12월                    서태원, 손재선   \n",
       "1575         12월                         최병민   \n",
       "1894         12월                      김준, 김담   \n",
       "2175         12월                         나형균   \n",
       "2177         12월                         김기영   \n",
       "2180         12월                    조원태, 우기홍   \n",
       "2469         12월                         김용범   \n",
       "3620         12월                    엄태웅, 윤재엽   \n",
       "3719         12월                         조영준   \n",
       "3729         12월                    이주성, 김태현   \n",
       "4503         12월                         송영규   \n",
       "4530         12월                    대표이사 조욱제   \n",
       "4685         12월                         조덕현   \n",
       "4894         12월                         원종규   \n",
       "6364         12월                         조현범   \n",
       "6378         12월  홍동국, 김태형, 김형규, 김길출 (각자대표제)   \n",
       "6447         12월              허기호, 전근식(각자대표)   \n",
       "6454         12월                    조남호, 조원국   \n",
       "\n",
       "                                          HomePage Region  ListingYear  \n",
       "60                      http://www.cjlogistics.com  서울특별시       1956.0  \n",
       "82                          http://www.dong-il.com  서울특별시       1964.0  \n",
       "1575                          http://www.npc.co.kr    경기도       1969.0  \n",
       "1894                    http://www.kyungbang.co.kr  서울특별시       1956.0  \n",
       "2175                         http://www.taihan.com    경기도       1968.0  \n",
       "2177                           http://www.ts.co.kr  인천광역시       1968.0  \n",
       "2180                      http://www.koreanair.com  서울특별시       1966.0  \n",
       "2469                     http://www.meritzfire.com  서울특별시       1956.0  \n",
       "3620                        http://www.samyang.com  서울특별시       1968.0  \n",
       "3719                       http://daehancinema.com  서울특별시       1968.0  \n",
       "3729  http://www.seahsteel.co.kr/company/holdings/  서울특별시       1969.0  \n",
       "4503                  http://www.eusu-holdings.com  서울특별시       1956.0  \n",
       "4530                        http://www.yuhan.co.kr  서울특별시       1962.0  \n",
       "4685                     http://www.chonbang.co.kr  서울특별시       1968.0  \n",
       "4894                     http://www.koreanre.co.kr  서울특별시       1969.0  \n",
       "6364        http://www.hankook-technologygroup.com    경기도       1968.0  \n",
       "6378                         http://www.kcip.co.kr  부산광역시       1969.0  \n",
       "6447                          http://www.hanil.com  서울특별시       1969.0  \n",
       "6454                  http://www.hhic-holdings.com    경기도       1956.0  "
      ]
     },
     "execution_count": 190,
     "metadata": {},
     "output_type": "execute_result"
    }
   ],
   "source": [
    "# 1970년 이전에 상장한 기업을 찾습니다.\n",
    "df[df[\"ListingYear\"] < 1970]"
   ]
  },
  {
   "cell_type": "code",
   "execution_count": 76,
   "metadata": {},
   "outputs": [
    {
     "data": {
      "text/plain": [
       "True"
      ]
     },
     "execution_count": 76,
     "metadata": {},
     "output_type": "execute_result"
    }
   ],
   "source": [
    "# and => &\n",
    "# or  => |\n",
    "True and True"
   ]
  },
  {
   "cell_type": "code",
   "execution_count": 212,
   "metadata": {},
   "outputs": [
    {
     "data": {
      "text/html": [
       "<div>\n",
       "<style scoped>\n",
       "    .dataframe tbody tr th:only-of-type {\n",
       "        vertical-align: middle;\n",
       "    }\n",
       "\n",
       "    .dataframe tbody tr th {\n",
       "        vertical-align: top;\n",
       "    }\n",
       "\n",
       "    .dataframe thead th {\n",
       "        text-align: right;\n",
       "    }\n",
       "</style>\n",
       "<table border=\"1\" class=\"dataframe\">\n",
       "  <thead>\n",
       "    <tr style=\"text-align: right;\">\n",
       "      <th></th>\n",
       "      <th>Name</th>\n",
       "      <th>Symbol</th>\n",
       "    </tr>\n",
       "  </thead>\n",
       "  <tbody>\n",
       "    <tr>\n",
       "      <th>98</th>\n",
       "      <td>ESR켄달스퀘어리츠</td>\n",
       "      <td>365550</td>\n",
       "    </tr>\n",
       "    <tr>\n",
       "      <th>1218</th>\n",
       "      <td>KCC글라스</td>\n",
       "      <td>344820</td>\n",
       "    </tr>\n",
       "    <tr>\n",
       "      <th>3406</th>\n",
       "      <td>미래에셋맵스리츠</td>\n",
       "      <td>357250</td>\n",
       "    </tr>\n",
       "    <tr>\n",
       "      <th>4253</th>\n",
       "      <td>에이플러스에셋</td>\n",
       "      <td>244920</td>\n",
       "    </tr>\n",
       "    <tr>\n",
       "      <th>4602</th>\n",
       "      <td>이지스레지던스리츠</td>\n",
       "      <td>350520</td>\n",
       "    </tr>\n",
       "    <tr>\n",
       "      <th>4607</th>\n",
       "      <td>이지스밸류리츠</td>\n",
       "      <td>334890</td>\n",
       "    </tr>\n",
       "    <tr>\n",
       "      <th>4709</th>\n",
       "      <td>제이알글로벌리츠</td>\n",
       "      <td>348950</td>\n",
       "    </tr>\n",
       "    <tr>\n",
       "      <th>4884</th>\n",
       "      <td>코람코에너지리츠</td>\n",
       "      <td>357120</td>\n",
       "    </tr>\n",
       "    <tr>\n",
       "      <th>5038</th>\n",
       "      <td>티와이홀딩스</td>\n",
       "      <td>363280</td>\n",
       "    </tr>\n",
       "    <tr>\n",
       "      <th>5203</th>\n",
       "      <td>하이브</td>\n",
       "      <td>352820</td>\n",
       "    </tr>\n",
       "  </tbody>\n",
       "</table>\n",
       "</div>"
      ],
      "text/plain": [
       "            Name  Symbol\n",
       "98    ESR켄달스퀘어리츠  365550\n",
       "1218      KCC글라스  344820\n",
       "3406    미래에셋맵스리츠  357250\n",
       "4253     에이플러스에셋  244920\n",
       "4602   이지스레지던스리츠  350520\n",
       "4607     이지스밸류리츠  334890\n",
       "4709    제이알글로벌리츠  348950\n",
       "4884    코람코에너지리츠  357120\n",
       "5038      티와이홀딩스  363280\n",
       "5203         하이브  352820"
      ]
     },
     "execution_count": 212,
     "metadata": {},
     "output_type": "execute_result"
    }
   ],
   "source": [
    "# 2020년 상장한 서울특별시에 소재한 코스피 종목을 찾습니다.\n",
    "df[\"ListingYear\"] == 2020\n",
    "seoul = df[\"Region\"] == \"서울특별시\"\n",
    "kospi = df[\"Market\"] == \"KOSPI\"\n",
    "df.loc[(df[\"ListingYear\"] == 2020) \n",
    "       & seoul \n",
    "       & kospi, [\"Name\", \"Symbol\"]]"
   ]
  },
  {
   "cell_type": "code",
   "execution_count": 210,
   "metadata": {},
   "outputs": [
    {
     "data": {
      "text/html": [
       "<div>\n",
       "<style scoped>\n",
       "    .dataframe tbody tr th:only-of-type {\n",
       "        vertical-align: middle;\n",
       "    }\n",
       "\n",
       "    .dataframe tbody tr th {\n",
       "        vertical-align: top;\n",
       "    }\n",
       "\n",
       "    .dataframe thead th {\n",
       "        text-align: right;\n",
       "    }\n",
       "</style>\n",
       "<table border=\"1\" class=\"dataframe\">\n",
       "  <thead>\n",
       "    <tr style=\"text-align: right;\">\n",
       "      <th></th>\n",
       "      <th>Symbol</th>\n",
       "      <th>Market</th>\n",
       "      <th>Name</th>\n",
       "      <th>Sector</th>\n",
       "      <th>Industry</th>\n",
       "      <th>ListingDate</th>\n",
       "      <th>SettleMonth</th>\n",
       "      <th>Representative</th>\n",
       "      <th>HomePage</th>\n",
       "      <th>Region</th>\n",
       "      <th>ListingYear</th>\n",
       "    </tr>\n",
       "  </thead>\n",
       "  <tbody>\n",
       "    <tr>\n",
       "      <th>98</th>\n",
       "      <td>365550</td>\n",
       "      <td>KOSPI</td>\n",
       "      <td>ESR켄달스퀘어리츠</td>\n",
       "      <td>부동산 임대 및 공급업</td>\n",
       "      <td>부동산투자</td>\n",
       "      <td>2020-12-23</td>\n",
       "      <td>05월</td>\n",
       "      <td>박래익</td>\n",
       "      <td>http://www.esrks-reit.com</td>\n",
       "      <td>서울특별시</td>\n",
       "      <td>2020.0</td>\n",
       "    </tr>\n",
       "    <tr>\n",
       "      <th>1218</th>\n",
       "      <td>344820</td>\n",
       "      <td>KOSPI</td>\n",
       "      <td>KCC글라스</td>\n",
       "      <td>유리 및 유리제품 제조업</td>\n",
       "      <td>판유리 등</td>\n",
       "      <td>2020-01-21</td>\n",
       "      <td>12월</td>\n",
       "      <td>김내환</td>\n",
       "      <td>http://www.kccglass.co.kr</td>\n",
       "      <td>서울특별시</td>\n",
       "      <td>2020.0</td>\n",
       "    </tr>\n",
       "    <tr>\n",
       "      <th>3406</th>\n",
       "      <td>357250</td>\n",
       "      <td>KOSPI</td>\n",
       "      <td>미래에셋맵스리츠</td>\n",
       "      <td>부동산 임대 및 공급업</td>\n",
       "      <td>부동산 임대업</td>\n",
       "      <td>2020-08-05</td>\n",
       "      <td>11월</td>\n",
       "      <td>김호식</td>\n",
       "      <td>http://www.maps1reit.miraeasset.com</td>\n",
       "      <td>서울특별시</td>\n",
       "      <td>2020.0</td>\n",
       "    </tr>\n",
       "    <tr>\n",
       "      <th>4253</th>\n",
       "      <td>244920</td>\n",
       "      <td>KOSPI</td>\n",
       "      <td>에이플러스에셋</td>\n",
       "      <td>보험 및 연금관련 서비스업</td>\n",
       "      <td>보험대리 및 중개업</td>\n",
       "      <td>2020-11-20</td>\n",
       "      <td>12월</td>\n",
       "      <td>곽근호, 서성식, 조규남</td>\n",
       "      <td>NaN</td>\n",
       "      <td>서울특별시</td>\n",
       "      <td>2020.0</td>\n",
       "    </tr>\n",
       "    <tr>\n",
       "      <th>4602</th>\n",
       "      <td>350520</td>\n",
       "      <td>KOSPI</td>\n",
       "      <td>이지스레지던스리츠</td>\n",
       "      <td>부동산 임대 및 공급업</td>\n",
       "      <td>부동산투자, 취득, 매매, 임대</td>\n",
       "      <td>2020-08-05</td>\n",
       "      <td>06월</td>\n",
       "      <td>박영희</td>\n",
       "      <td>http://igisresidencereit.com/</td>\n",
       "      <td>서울특별시</td>\n",
       "      <td>2020.0</td>\n",
       "    </tr>\n",
       "    <tr>\n",
       "      <th>4607</th>\n",
       "      <td>334890</td>\n",
       "      <td>KOSPI</td>\n",
       "      <td>이지스밸류리츠</td>\n",
       "      <td>부동산 임대 및 공급업</td>\n",
       "      <td>부동산투자, 취득, 매매, 임대</td>\n",
       "      <td>2020-07-16</td>\n",
       "      <td>08월</td>\n",
       "      <td>도병운</td>\n",
       "      <td>http://www.igisvaluereit.com</td>\n",
       "      <td>서울특별시</td>\n",
       "      <td>2020.0</td>\n",
       "    </tr>\n",
       "    <tr>\n",
       "      <th>4709</th>\n",
       "      <td>348950</td>\n",
       "      <td>KOSPI</td>\n",
       "      <td>제이알글로벌리츠</td>\n",
       "      <td>부동산 임대 및 공급업</td>\n",
       "      <td>벨기에 파이낸스 타워</td>\n",
       "      <td>2020-08-07</td>\n",
       "      <td>06월</td>\n",
       "      <td>오남수</td>\n",
       "      <td>http://jrglobalreit.com</td>\n",
       "      <td>서울특별시</td>\n",
       "      <td>2020.0</td>\n",
       "    </tr>\n",
       "    <tr>\n",
       "      <th>4884</th>\n",
       "      <td>357120</td>\n",
       "      <td>KOSPI</td>\n",
       "      <td>코람코에너지리츠</td>\n",
       "      <td>부동산 임대 및 공급업</td>\n",
       "      <td>부동산 투자 및 관리</td>\n",
       "      <td>2020-08-31</td>\n",
       "      <td>11월</td>\n",
       "      <td>이성균</td>\n",
       "      <td>http://www.koramcoenergyplus.co.kr</td>\n",
       "      <td>서울특별시</td>\n",
       "      <td>2020.0</td>\n",
       "    </tr>\n",
       "    <tr>\n",
       "      <th>5038</th>\n",
       "      <td>363280</td>\n",
       "      <td>KOSPI</td>\n",
       "      <td>티와이홀딩스</td>\n",
       "      <td>기타 금융업</td>\n",
       "      <td>지주사업</td>\n",
       "      <td>2020-09-22</td>\n",
       "      <td>12월</td>\n",
       "      <td>유종연</td>\n",
       "      <td>http://www.ty-holdings.co.kr</td>\n",
       "      <td>서울특별시</td>\n",
       "      <td>2020.0</td>\n",
       "    </tr>\n",
       "    <tr>\n",
       "      <th>5203</th>\n",
       "      <td>352820</td>\n",
       "      <td>KOSPI</td>\n",
       "      <td>하이브</td>\n",
       "      <td>오디오물 출판 및 원판 녹음업</td>\n",
       "      <td>음악 기획/제작, 퍼블리싱, 아티스트 매니지먼트</td>\n",
       "      <td>2020-10-15</td>\n",
       "      <td>12월</td>\n",
       "      <td>박지원</td>\n",
       "      <td>http://www.bighitcorp.com</td>\n",
       "      <td>서울특별시</td>\n",
       "      <td>2020.0</td>\n",
       "    </tr>\n",
       "  </tbody>\n",
       "</table>\n",
       "</div>"
      ],
      "text/plain": [
       "      Symbol Market        Name            Sector                    Industry  \\\n",
       "98    365550  KOSPI  ESR켄달스퀘어리츠      부동산 임대 및 공급업                       부동산투자   \n",
       "1218  344820  KOSPI      KCC글라스     유리 및 유리제품 제조업                       판유리 등   \n",
       "3406  357250  KOSPI    미래에셋맵스리츠      부동산 임대 및 공급업                     부동산 임대업   \n",
       "4253  244920  KOSPI     에이플러스에셋    보험 및 연금관련 서비스업                  보험대리 및 중개업   \n",
       "4602  350520  KOSPI   이지스레지던스리츠      부동산 임대 및 공급업           부동산투자, 취득, 매매, 임대   \n",
       "4607  334890  KOSPI     이지스밸류리츠      부동산 임대 및 공급업           부동산투자, 취득, 매매, 임대   \n",
       "4709  348950  KOSPI    제이알글로벌리츠      부동산 임대 및 공급업                 벨기에 파이낸스 타워   \n",
       "4884  357120  KOSPI    코람코에너지리츠      부동산 임대 및 공급업                 부동산 투자 및 관리   \n",
       "5038  363280  KOSPI      티와이홀딩스            기타 금융업                        지주사업   \n",
       "5203  352820  KOSPI         하이브  오디오물 출판 및 원판 녹음업  음악 기획/제작, 퍼블리싱, 아티스트 매니지먼트   \n",
       "\n",
       "     ListingDate SettleMonth Representative  \\\n",
       "98    2020-12-23         05월            박래익   \n",
       "1218  2020-01-21         12월            김내환   \n",
       "3406  2020-08-05         11월            김호식   \n",
       "4253  2020-11-20         12월  곽근호, 서성식, 조규남   \n",
       "4602  2020-08-05         06월            박영희   \n",
       "4607  2020-07-16         08월            도병운   \n",
       "4709  2020-08-07         06월            오남수   \n",
       "4884  2020-08-31         11월            이성균   \n",
       "5038  2020-09-22         12월            유종연   \n",
       "5203  2020-10-15         12월            박지원   \n",
       "\n",
       "                                 HomePage Region  ListingYear  \n",
       "98              http://www.esrks-reit.com  서울특별시       2020.0  \n",
       "1218            http://www.kccglass.co.kr  서울특별시       2020.0  \n",
       "3406  http://www.maps1reit.miraeasset.com  서울특별시       2020.0  \n",
       "4253                                  NaN  서울특별시       2020.0  \n",
       "4602        http://igisresidencereit.com/  서울특별시       2020.0  \n",
       "4607         http://www.igisvaluereit.com  서울특별시       2020.0  \n",
       "4709              http://jrglobalreit.com  서울특별시       2020.0  \n",
       "4884   http://www.koramcoenergyplus.co.kr  서울특별시       2020.0  \n",
       "5038         http://www.ty-holdings.co.kr  서울특별시       2020.0  \n",
       "5203            http://www.bighitcorp.com  서울특별시       2020.0  "
      ]
     },
     "execution_count": 210,
     "metadata": {},
     "output_type": "execute_result"
    }
   ],
   "source": [
    "df[seoul & kospi & (df[\"ListingYear\"] == 2020)]"
   ]
  },
  {
   "cell_type": "markdown",
   "metadata": {},
   "source": [
    "### 지역별 섹터"
   ]
  },
  {
   "cell_type": "code",
   "execution_count": 216,
   "metadata": {},
   "outputs": [
    {
     "data": {
      "text/html": [
       "<div>\n",
       "<style scoped>\n",
       "    .dataframe tbody tr th:only-of-type {\n",
       "        vertical-align: middle;\n",
       "    }\n",
       "\n",
       "    .dataframe tbody tr th {\n",
       "        vertical-align: top;\n",
       "    }\n",
       "\n",
       "    .dataframe thead th {\n",
       "        text-align: right;\n",
       "    }\n",
       "</style>\n",
       "<table border=\"1\" class=\"dataframe\">\n",
       "  <thead>\n",
       "    <tr style=\"text-align: right;\">\n",
       "      <th>Region</th>\n",
       "      <th>강원도</th>\n",
       "      <th>경기도</th>\n",
       "      <th>경상남도</th>\n",
       "      <th>경상북도</th>\n",
       "      <th>광주광역시</th>\n",
       "      <th>대구광역시</th>\n",
       "      <th>대전광역시</th>\n",
       "      <th>미국</th>\n",
       "      <th>부산광역시</th>\n",
       "      <th>서울특별시</th>\n",
       "      <th>...</th>\n",
       "      <th>울산광역시</th>\n",
       "      <th>인천광역시</th>\n",
       "      <th>일본</th>\n",
       "      <th>전라남도</th>\n",
       "      <th>전라북도</th>\n",
       "      <th>제주특별자치도</th>\n",
       "      <th>충청남도</th>\n",
       "      <th>충청북도</th>\n",
       "      <th>케이맨 제도</th>\n",
       "      <th>홍콩</th>\n",
       "    </tr>\n",
       "    <tr>\n",
       "      <th>Sector</th>\n",
       "      <th></th>\n",
       "      <th></th>\n",
       "      <th></th>\n",
       "      <th></th>\n",
       "      <th></th>\n",
       "      <th></th>\n",
       "      <th></th>\n",
       "      <th></th>\n",
       "      <th></th>\n",
       "      <th></th>\n",
       "      <th></th>\n",
       "      <th></th>\n",
       "      <th></th>\n",
       "      <th></th>\n",
       "      <th></th>\n",
       "      <th></th>\n",
       "      <th></th>\n",
       "      <th></th>\n",
       "      <th></th>\n",
       "      <th></th>\n",
       "      <th></th>\n",
       "    </tr>\n",
       "  </thead>\n",
       "  <tbody>\n",
       "    <tr>\n",
       "      <th>1차 비철금속 제조업</th>\n",
       "      <td>0</td>\n",
       "      <td>7</td>\n",
       "      <td>1</td>\n",
       "      <td>1</td>\n",
       "      <td>0</td>\n",
       "      <td>3</td>\n",
       "      <td>1</td>\n",
       "      <td>0</td>\n",
       "      <td>1</td>\n",
       "      <td>3</td>\n",
       "      <td>...</td>\n",
       "      <td>0</td>\n",
       "      <td>0</td>\n",
       "      <td>0</td>\n",
       "      <td>0</td>\n",
       "      <td>0</td>\n",
       "      <td>0</td>\n",
       "      <td>1</td>\n",
       "      <td>0</td>\n",
       "      <td>0</td>\n",
       "      <td>0</td>\n",
       "    </tr>\n",
       "    <tr>\n",
       "      <th>1차 철강 제조업</th>\n",
       "      <td>0</td>\n",
       "      <td>4</td>\n",
       "      <td>11</td>\n",
       "      <td>8</td>\n",
       "      <td>1</td>\n",
       "      <td>0</td>\n",
       "      <td>1</td>\n",
       "      <td>0</td>\n",
       "      <td>11</td>\n",
       "      <td>11</td>\n",
       "      <td>...</td>\n",
       "      <td>0</td>\n",
       "      <td>4</td>\n",
       "      <td>0</td>\n",
       "      <td>1</td>\n",
       "      <td>1</td>\n",
       "      <td>0</td>\n",
       "      <td>4</td>\n",
       "      <td>0</td>\n",
       "      <td>0</td>\n",
       "      <td>0</td>\n",
       "    </tr>\n",
       "    <tr>\n",
       "      <th>가구 제조업</th>\n",
       "      <td>0</td>\n",
       "      <td>4</td>\n",
       "      <td>0</td>\n",
       "      <td>0</td>\n",
       "      <td>0</td>\n",
       "      <td>0</td>\n",
       "      <td>0</td>\n",
       "      <td>0</td>\n",
       "      <td>0</td>\n",
       "      <td>3</td>\n",
       "      <td>...</td>\n",
       "      <td>0</td>\n",
       "      <td>1</td>\n",
       "      <td>0</td>\n",
       "      <td>0</td>\n",
       "      <td>0</td>\n",
       "      <td>0</td>\n",
       "      <td>0</td>\n",
       "      <td>0</td>\n",
       "      <td>0</td>\n",
       "      <td>0</td>\n",
       "    </tr>\n",
       "    <tr>\n",
       "      <th>가전제품 및 정보통신장비 소매업</th>\n",
       "      <td>0</td>\n",
       "      <td>0</td>\n",
       "      <td>0</td>\n",
       "      <td>0</td>\n",
       "      <td>0</td>\n",
       "      <td>1</td>\n",
       "      <td>0</td>\n",
       "      <td>0</td>\n",
       "      <td>0</td>\n",
       "      <td>1</td>\n",
       "      <td>...</td>\n",
       "      <td>0</td>\n",
       "      <td>0</td>\n",
       "      <td>0</td>\n",
       "      <td>0</td>\n",
       "      <td>0</td>\n",
       "      <td>0</td>\n",
       "      <td>0</td>\n",
       "      <td>0</td>\n",
       "      <td>0</td>\n",
       "      <td>0</td>\n",
       "    </tr>\n",
       "    <tr>\n",
       "      <th>가정용 기기 제조업</th>\n",
       "      <td>0</td>\n",
       "      <td>6</td>\n",
       "      <td>1</td>\n",
       "      <td>0</td>\n",
       "      <td>1</td>\n",
       "      <td>0</td>\n",
       "      <td>0</td>\n",
       "      <td>0</td>\n",
       "      <td>0</td>\n",
       "      <td>1</td>\n",
       "      <td>...</td>\n",
       "      <td>0</td>\n",
       "      <td>0</td>\n",
       "      <td>0</td>\n",
       "      <td>0</td>\n",
       "      <td>0</td>\n",
       "      <td>0</td>\n",
       "      <td>0</td>\n",
       "      <td>0</td>\n",
       "      <td>0</td>\n",
       "      <td>0</td>\n",
       "    </tr>\n",
       "    <tr>\n",
       "      <th>...</th>\n",
       "      <td>...</td>\n",
       "      <td>...</td>\n",
       "      <td>...</td>\n",
       "      <td>...</td>\n",
       "      <td>...</td>\n",
       "      <td>...</td>\n",
       "      <td>...</td>\n",
       "      <td>...</td>\n",
       "      <td>...</td>\n",
       "      <td>...</td>\n",
       "      <td>...</td>\n",
       "      <td>...</td>\n",
       "      <td>...</td>\n",
       "      <td>...</td>\n",
       "      <td>...</td>\n",
       "      <td>...</td>\n",
       "      <td>...</td>\n",
       "      <td>...</td>\n",
       "      <td>...</td>\n",
       "      <td>...</td>\n",
       "      <td>...</td>\n",
       "    </tr>\n",
       "    <tr>\n",
       "      <th>해상 운송업</th>\n",
       "      <td>0</td>\n",
       "      <td>0</td>\n",
       "      <td>0</td>\n",
       "      <td>0</td>\n",
       "      <td>0</td>\n",
       "      <td>0</td>\n",
       "      <td>0</td>\n",
       "      <td>0</td>\n",
       "      <td>0</td>\n",
       "      <td>5</td>\n",
       "      <td>...</td>\n",
       "      <td>0</td>\n",
       "      <td>0</td>\n",
       "      <td>0</td>\n",
       "      <td>0</td>\n",
       "      <td>0</td>\n",
       "      <td>0</td>\n",
       "      <td>0</td>\n",
       "      <td>0</td>\n",
       "      <td>0</td>\n",
       "      <td>0</td>\n",
       "    </tr>\n",
       "    <tr>\n",
       "      <th>해체, 선별 및 원료 재생업</th>\n",
       "      <td>0</td>\n",
       "      <td>1</td>\n",
       "      <td>0</td>\n",
       "      <td>0</td>\n",
       "      <td>0</td>\n",
       "      <td>0</td>\n",
       "      <td>0</td>\n",
       "      <td>0</td>\n",
       "      <td>0</td>\n",
       "      <td>0</td>\n",
       "      <td>...</td>\n",
       "      <td>0</td>\n",
       "      <td>0</td>\n",
       "      <td>0</td>\n",
       "      <td>0</td>\n",
       "      <td>0</td>\n",
       "      <td>0</td>\n",
       "      <td>0</td>\n",
       "      <td>0</td>\n",
       "      <td>0</td>\n",
       "      <td>0</td>\n",
       "    </tr>\n",
       "    <tr>\n",
       "      <th>화학섬유 제조업</th>\n",
       "      <td>0</td>\n",
       "      <td>0</td>\n",
       "      <td>0</td>\n",
       "      <td>1</td>\n",
       "      <td>0</td>\n",
       "      <td>1</td>\n",
       "      <td>0</td>\n",
       "      <td>0</td>\n",
       "      <td>0</td>\n",
       "      <td>6</td>\n",
       "      <td>...</td>\n",
       "      <td>0</td>\n",
       "      <td>0</td>\n",
       "      <td>0</td>\n",
       "      <td>0</td>\n",
       "      <td>1</td>\n",
       "      <td>0</td>\n",
       "      <td>0</td>\n",
       "      <td>0</td>\n",
       "      <td>0</td>\n",
       "      <td>0</td>\n",
       "    </tr>\n",
       "    <tr>\n",
       "      <th>환경 정화 및 복원업</th>\n",
       "      <td>0</td>\n",
       "      <td>0</td>\n",
       "      <td>0</td>\n",
       "      <td>0</td>\n",
       "      <td>0</td>\n",
       "      <td>0</td>\n",
       "      <td>0</td>\n",
       "      <td>0</td>\n",
       "      <td>0</td>\n",
       "      <td>0</td>\n",
       "      <td>...</td>\n",
       "      <td>0</td>\n",
       "      <td>0</td>\n",
       "      <td>0</td>\n",
       "      <td>0</td>\n",
       "      <td>0</td>\n",
       "      <td>0</td>\n",
       "      <td>1</td>\n",
       "      <td>0</td>\n",
       "      <td>0</td>\n",
       "      <td>0</td>\n",
       "    </tr>\n",
       "    <tr>\n",
       "      <th>회사 본부 및 경영 컨설팅 서비스업</th>\n",
       "      <td>0</td>\n",
       "      <td>2</td>\n",
       "      <td>0</td>\n",
       "      <td>0</td>\n",
       "      <td>0</td>\n",
       "      <td>1</td>\n",
       "      <td>0</td>\n",
       "      <td>0</td>\n",
       "      <td>2</td>\n",
       "      <td>7</td>\n",
       "      <td>...</td>\n",
       "      <td>0</td>\n",
       "      <td>0</td>\n",
       "      <td>0</td>\n",
       "      <td>0</td>\n",
       "      <td>0</td>\n",
       "      <td>0</td>\n",
       "      <td>0</td>\n",
       "      <td>0</td>\n",
       "      <td>0</td>\n",
       "      <td>0</td>\n",
       "    </tr>\n",
       "  </tbody>\n",
       "</table>\n",
       "<p>161 rows × 22 columns</p>\n",
       "</div>"
      ],
      "text/plain": [
       "Region               강원도  경기도  경상남도  경상북도  광주광역시  대구광역시  대전광역시  미국  부산광역시  \\\n",
       "Sector                                                                      \n",
       "1차 비철금속 제조업            0    7     1     1      0      3      1   0      1   \n",
       "1차 철강 제조업              0    4    11     8      1      0      1   0     11   \n",
       "가구 제조업                 0    4     0     0      0      0      0   0      0   \n",
       "가전제품 및 정보통신장비 소매업      0    0     0     0      0      1      0   0      0   \n",
       "가정용 기기 제조업             0    6     1     0      1      0      0   0      0   \n",
       "...                  ...  ...   ...   ...    ...    ...    ...  ..    ...   \n",
       "해상 운송업                 0    0     0     0      0      0      0   0      0   \n",
       "해체, 선별 및 원료 재생업        0    1     0     0      0      0      0   0      0   \n",
       "화학섬유 제조업               0    0     0     1      0      1      0   0      0   \n",
       "환경 정화 및 복원업            0    0     0     0      0      0      0   0      0   \n",
       "회사 본부 및 경영 컨설팅 서비스업    0    2     0     0      0      1      0   0      2   \n",
       "\n",
       "Region               서울특별시  ...  울산광역시  인천광역시  일본  전라남도  전라북도  제주특별자치도  충청남도  \\\n",
       "Sector                      ...                                                \n",
       "1차 비철금속 제조업              3  ...      0      0   0     0     0        0     1   \n",
       "1차 철강 제조업               11  ...      0      4   0     1     1        0     4   \n",
       "가구 제조업                   3  ...      0      1   0     0     0        0     0   \n",
       "가전제품 및 정보통신장비 소매업        1  ...      0      0   0     0     0        0     0   \n",
       "가정용 기기 제조업               1  ...      0      0   0     0     0        0     0   \n",
       "...                    ...  ...    ...    ...  ..   ...   ...      ...   ...   \n",
       "해상 운송업                   5  ...      0      0   0     0     0        0     0   \n",
       "해체, 선별 및 원료 재생업          0  ...      0      0   0     0     0        0     0   \n",
       "화학섬유 제조업                 6  ...      0      0   0     0     1        0     0   \n",
       "환경 정화 및 복원업              0  ...      0      0   0     0     0        0     1   \n",
       "회사 본부 및 경영 컨설팅 서비스업      7  ...      0      0   0     0     0        0     0   \n",
       "\n",
       "Region               충청북도  케이맨 제도  홍콩  \n",
       "Sector                                 \n",
       "1차 비철금속 제조업             0       0   0  \n",
       "1차 철강 제조업               0       0   0  \n",
       "가구 제조업                  0       0   0  \n",
       "가전제품 및 정보통신장비 소매업       0       0   0  \n",
       "가정용 기기 제조업              0       0   0  \n",
       "...                   ...     ...  ..  \n",
       "해상 운송업                  0       0   0  \n",
       "해체, 선별 및 원료 재생업         0       0   0  \n",
       "화학섬유 제조업                0       0   0  \n",
       "환경 정화 및 복원업             0       0   0  \n",
       "회사 본부 및 경영 컨설팅 서비스업     0       0   0  \n",
       "\n",
       "[161 rows x 22 columns]"
      ]
     },
     "execution_count": 216,
     "metadata": {},
     "output_type": "execute_result"
    }
   ],
   "source": [
    "# Sector, Region 으로 crosstab 연산을 합니다.\n",
    "# df_sr\n",
    "df_sr = pd.crosstab(df[\"Sector\"], df[\"Region\"])\n",
    "df_sr"
   ]
  },
  {
   "cell_type": "markdown",
   "metadata": {},
   "source": [
    "### 컬럼과 인덱스 값으로 색인하기"
   ]
  },
  {
   "cell_type": "code",
   "execution_count": 220,
   "metadata": {},
   "outputs": [
    {
     "data": {
      "text/html": [
       "<div>\n",
       "<style scoped>\n",
       "    .dataframe tbody tr th:only-of-type {\n",
       "        vertical-align: middle;\n",
       "    }\n",
       "\n",
       "    .dataframe tbody tr th {\n",
       "        vertical-align: top;\n",
       "    }\n",
       "\n",
       "    .dataframe thead th {\n",
       "        text-align: right;\n",
       "    }\n",
       "</style>\n",
       "<table border=\"1\" class=\"dataframe\">\n",
       "  <thead>\n",
       "    <tr style=\"text-align: right;\">\n",
       "      <th>Region</th>\n",
       "      <th>경기도</th>\n",
       "      <th>서울특별시</th>\n",
       "    </tr>\n",
       "    <tr>\n",
       "      <th>Sector</th>\n",
       "      <th></th>\n",
       "      <th></th>\n",
       "    </tr>\n",
       "  </thead>\n",
       "  <tbody>\n",
       "    <tr>\n",
       "      <th>1차 비철금속 제조업</th>\n",
       "      <td>7</td>\n",
       "      <td>3</td>\n",
       "    </tr>\n",
       "    <tr>\n",
       "      <th>1차 철강 제조업</th>\n",
       "      <td>4</td>\n",
       "      <td>11</td>\n",
       "    </tr>\n",
       "    <tr>\n",
       "      <th>가구 제조업</th>\n",
       "      <td>4</td>\n",
       "      <td>3</td>\n",
       "    </tr>\n",
       "    <tr>\n",
       "      <th>가전제품 및 정보통신장비 소매업</th>\n",
       "      <td>0</td>\n",
       "      <td>1</td>\n",
       "    </tr>\n",
       "    <tr>\n",
       "      <th>가정용 기기 제조업</th>\n",
       "      <td>6</td>\n",
       "      <td>1</td>\n",
       "    </tr>\n",
       "    <tr>\n",
       "      <th>...</th>\n",
       "      <td>...</td>\n",
       "      <td>...</td>\n",
       "    </tr>\n",
       "    <tr>\n",
       "      <th>해상 운송업</th>\n",
       "      <td>0</td>\n",
       "      <td>5</td>\n",
       "    </tr>\n",
       "    <tr>\n",
       "      <th>해체, 선별 및 원료 재생업</th>\n",
       "      <td>1</td>\n",
       "      <td>0</td>\n",
       "    </tr>\n",
       "    <tr>\n",
       "      <th>화학섬유 제조업</th>\n",
       "      <td>0</td>\n",
       "      <td>6</td>\n",
       "    </tr>\n",
       "    <tr>\n",
       "      <th>환경 정화 및 복원업</th>\n",
       "      <td>0</td>\n",
       "      <td>0</td>\n",
       "    </tr>\n",
       "    <tr>\n",
       "      <th>회사 본부 및 경영 컨설팅 서비스업</th>\n",
       "      <td>2</td>\n",
       "      <td>7</td>\n",
       "    </tr>\n",
       "  </tbody>\n",
       "</table>\n",
       "<p>161 rows × 2 columns</p>\n",
       "</div>"
      ],
      "text/plain": [
       "Region               경기도  서울특별시\n",
       "Sector                         \n",
       "1차 비철금속 제조업            7      3\n",
       "1차 철강 제조업              4     11\n",
       "가구 제조업                 4      3\n",
       "가전제품 및 정보통신장비 소매업      0      1\n",
       "가정용 기기 제조업             6      1\n",
       "...                  ...    ...\n",
       "해상 운송업                 0      5\n",
       "해체, 선별 및 원료 재생업        1      0\n",
       "화학섬유 제조업               0      6\n",
       "환경 정화 및 복원업            0      0\n",
       "회사 본부 및 경영 컨설팅 서비스업    2      7\n",
       "\n",
       "[161 rows x 2 columns]"
      ]
     },
     "execution_count": 220,
     "metadata": {},
     "output_type": "execute_result"
    }
   ],
   "source": [
    "# 특정 컬럼만 가져오기\n",
    "df_sr[[\"경기도\", \"서울특별시\"]]"
   ]
  },
  {
   "cell_type": "markdown",
   "metadata": {},
   "source": [
    "### 특정 행만 가져오기\n",
    "\n",
    "* .loc[행]\n",
    "* .loc[행, 열]\n",
    "* .loc[조건식, 열]"
   ]
  },
  {
   "cell_type": "code",
   "execution_count": 224,
   "metadata": {},
   "outputs": [
    {
     "data": {
      "text/plain": [
       "Region\n",
       "서울특별시      106\n",
       "경기도         37\n",
       "일본           2\n",
       "충청북도         2\n",
       "대전광역시        2\n",
       "홍콩           1\n",
       "경상남도         1\n",
       "부산광역시        1\n",
       "케이맨 제도       0\n",
       "충청남도         0\n",
       "제주특별자치도      0\n",
       "전라북도         0\n",
       "전라남도         0\n",
       "강원도          0\n",
       "인천광역시        0\n",
       "울산광역시        0\n",
       "세종특별자치시      0\n",
       "미국           0\n",
       "대구광역시        0\n",
       "광주광역시        0\n",
       "경상북도         0\n",
       "싱가포르         0\n",
       "Name: 소프트웨어 개발 및 공급업, dtype: int64"
      ]
     },
     "execution_count": 224,
     "metadata": {},
     "output_type": "execute_result"
    }
   ],
   "source": [
    "# df_sr에서 \"소프트웨어 개발 및 공급업\" 행만 가져오기\n",
    "df_sr.loc[\"소프트웨어 개발 및 공급업\"].sort_values(ascending=False)"
   ]
  },
  {
   "cell_type": "code",
   "execution_count": 229,
   "metadata": {},
   "outputs": [
    {
     "data": {
      "text/html": [
       "<div>\n",
       "<style scoped>\n",
       "    .dataframe tbody tr th:only-of-type {\n",
       "        vertical-align: middle;\n",
       "    }\n",
       "\n",
       "    .dataframe tbody tr th {\n",
       "        vertical-align: top;\n",
       "    }\n",
       "\n",
       "    .dataframe thead th {\n",
       "        text-align: right;\n",
       "    }\n",
       "</style>\n",
       "<table border=\"1\" class=\"dataframe\">\n",
       "  <thead>\n",
       "    <tr style=\"text-align: right;\">\n",
       "      <th>Region</th>\n",
       "      <th>강원도</th>\n",
       "      <th>경기도</th>\n",
       "      <th>경상남도</th>\n",
       "      <th>경상북도</th>\n",
       "      <th>광주광역시</th>\n",
       "      <th>대구광역시</th>\n",
       "      <th>대전광역시</th>\n",
       "      <th>미국</th>\n",
       "      <th>부산광역시</th>\n",
       "      <th>서울특별시</th>\n",
       "      <th>...</th>\n",
       "      <th>울산광역시</th>\n",
       "      <th>인천광역시</th>\n",
       "      <th>일본</th>\n",
       "      <th>전라남도</th>\n",
       "      <th>전라북도</th>\n",
       "      <th>제주특별자치도</th>\n",
       "      <th>충청남도</th>\n",
       "      <th>충청북도</th>\n",
       "      <th>케이맨 제도</th>\n",
       "      <th>홍콩</th>\n",
       "    </tr>\n",
       "    <tr>\n",
       "      <th>Sector</th>\n",
       "      <th></th>\n",
       "      <th></th>\n",
       "      <th></th>\n",
       "      <th></th>\n",
       "      <th></th>\n",
       "      <th></th>\n",
       "      <th></th>\n",
       "      <th></th>\n",
       "      <th></th>\n",
       "      <th></th>\n",
       "      <th></th>\n",
       "      <th></th>\n",
       "      <th></th>\n",
       "      <th></th>\n",
       "      <th></th>\n",
       "      <th></th>\n",
       "      <th></th>\n",
       "      <th></th>\n",
       "      <th></th>\n",
       "      <th></th>\n",
       "      <th></th>\n",
       "    </tr>\n",
       "  </thead>\n",
       "  <tbody>\n",
       "    <tr>\n",
       "      <th>소프트웨어 개발 및 공급업</th>\n",
       "      <td>0</td>\n",
       "      <td>37</td>\n",
       "      <td>1</td>\n",
       "      <td>0</td>\n",
       "      <td>0</td>\n",
       "      <td>0</td>\n",
       "      <td>2</td>\n",
       "      <td>0</td>\n",
       "      <td>1</td>\n",
       "      <td>106</td>\n",
       "      <td>...</td>\n",
       "      <td>0</td>\n",
       "      <td>0</td>\n",
       "      <td>2</td>\n",
       "      <td>0</td>\n",
       "      <td>0</td>\n",
       "      <td>0</td>\n",
       "      <td>0</td>\n",
       "      <td>2</td>\n",
       "      <td>0</td>\n",
       "      <td>1</td>\n",
       "    </tr>\n",
       "    <tr>\n",
       "      <th>금융 지원 서비스업</th>\n",
       "      <td>0</td>\n",
       "      <td>1</td>\n",
       "      <td>0</td>\n",
       "      <td>0</td>\n",
       "      <td>0</td>\n",
       "      <td>0</td>\n",
       "      <td>0</td>\n",
       "      <td>0</td>\n",
       "      <td>0</td>\n",
       "      <td>74</td>\n",
       "      <td>...</td>\n",
       "      <td>0</td>\n",
       "      <td>0</td>\n",
       "      <td>0</td>\n",
       "      <td>0</td>\n",
       "      <td>0</td>\n",
       "      <td>0</td>\n",
       "      <td>0</td>\n",
       "      <td>0</td>\n",
       "      <td>0</td>\n",
       "      <td>0</td>\n",
       "    </tr>\n",
       "    <tr>\n",
       "      <th>의약품 제조업</th>\n",
       "      <td>5</td>\n",
       "      <td>34</td>\n",
       "      <td>1</td>\n",
       "      <td>0</td>\n",
       "      <td>0</td>\n",
       "      <td>0</td>\n",
       "      <td>2</td>\n",
       "      <td>0</td>\n",
       "      <td>1</td>\n",
       "      <td>40</td>\n",
       "      <td>...</td>\n",
       "      <td>0</td>\n",
       "      <td>2</td>\n",
       "      <td>0</td>\n",
       "      <td>0</td>\n",
       "      <td>0</td>\n",
       "      <td>0</td>\n",
       "      <td>2</td>\n",
       "      <td>6</td>\n",
       "      <td>0</td>\n",
       "      <td>0</td>\n",
       "    </tr>\n",
       "  </tbody>\n",
       "</table>\n",
       "<p>3 rows × 22 columns</p>\n",
       "</div>"
      ],
      "text/plain": [
       "Region          강원도  경기도  경상남도  경상북도  광주광역시  대구광역시  대전광역시  미국  부산광역시  서울특별시  \\\n",
       "Sector                                                                        \n",
       "소프트웨어 개발 및 공급업    0   37     1     0      0      0      2   0      1    106   \n",
       "금융 지원 서비스업        0    1     0     0      0      0      0   0      0     74   \n",
       "의약품 제조업           5   34     1     0      0      0      2   0      1     40   \n",
       "\n",
       "Region          ...  울산광역시  인천광역시  일본  전라남도  전라북도  제주특별자치도  충청남도  충청북도  \\\n",
       "Sector          ...                                                      \n",
       "소프트웨어 개발 및 공급업  ...      0      0   2     0     0        0     0     2   \n",
       "금융 지원 서비스업      ...      0      0   0     0     0        0     0     0   \n",
       "의약품 제조업         ...      0      2   0     0     0        0     2     6   \n",
       "\n",
       "Region          케이맨 제도  홍콩  \n",
       "Sector                      \n",
       "소프트웨어 개발 및 공급업       0   1  \n",
       "금융 지원 서비스업           0   0  \n",
       "의약품 제조업              0   0  \n",
       "\n",
       "[3 rows x 22 columns]"
      ]
     },
     "execution_count": 229,
     "metadata": {},
     "output_type": "execute_result"
    }
   ],
   "source": [
    "# loc 로 행인덱스 가져오기\n",
    "# 행에서 \"소프트웨어 개발 및 공급업\", \"금융 지원 서비스업\", \"의약품 제조업\" 가져오기\n",
    "df_sr.loc[[\"소프트웨어 개발 및 공급업\", \"금융 지원 서비스업\", \"의약품 제조업\"]]"
   ]
  },
  {
   "cell_type": "code",
   "execution_count": 232,
   "metadata": {},
   "outputs": [
    {
     "data": {
      "text/plain": [
       "Sector\n",
       "소프트웨어 개발 및 공급업    106\n",
       "금융 지원 서비스업         74\n",
       "의약품 제조업            40\n",
       "Name: 서울특별시, dtype: int64"
      ]
     },
     "execution_count": 232,
     "metadata": {},
     "output_type": "execute_result"
    }
   ],
   "source": [
    "# loc 로 행, 컬럼 가져오기\n",
    "# 행에서 \"소프트웨어 개발 및 공급업\", \"금융 지원 서비스업\", \"의약품 제조업\"\n",
    "# 열에서 \"서울특별시\" 가져오기\n",
    "\n",
    "df_sr.loc[[\"소프트웨어 개발 및 공급업\", \"금융 지원 서비스업\", \"의약품 제조업\"], \"서울특별시\"]"
   ]
  },
  {
   "cell_type": "code",
   "execution_count": 235,
   "metadata": {},
   "outputs": [
    {
     "data": {
      "text/html": [
       "<div>\n",
       "<style scoped>\n",
       "    .dataframe tbody tr th:only-of-type {\n",
       "        vertical-align: middle;\n",
       "    }\n",
       "\n",
       "    .dataframe tbody tr th {\n",
       "        vertical-align: top;\n",
       "    }\n",
       "\n",
       "    .dataframe thead th {\n",
       "        text-align: right;\n",
       "    }\n",
       "</style>\n",
       "<table border=\"1\" class=\"dataframe\">\n",
       "  <thead>\n",
       "    <tr style=\"text-align: right;\">\n",
       "      <th>Region</th>\n",
       "      <th>서울특별시</th>\n",
       "      <th>경기도</th>\n",
       "      <th>부산광역시</th>\n",
       "    </tr>\n",
       "    <tr>\n",
       "      <th>Sector</th>\n",
       "      <th></th>\n",
       "      <th></th>\n",
       "      <th></th>\n",
       "    </tr>\n",
       "  </thead>\n",
       "  <tbody>\n",
       "    <tr>\n",
       "      <th>소프트웨어 개발 및 공급업</th>\n",
       "      <td>106</td>\n",
       "      <td>37</td>\n",
       "      <td>1</td>\n",
       "    </tr>\n",
       "    <tr>\n",
       "      <th>금융 지원 서비스업</th>\n",
       "      <td>74</td>\n",
       "      <td>1</td>\n",
       "      <td>0</td>\n",
       "    </tr>\n",
       "    <tr>\n",
       "      <th>의약품 제조업</th>\n",
       "      <td>40</td>\n",
       "      <td>34</td>\n",
       "      <td>1</td>\n",
       "    </tr>\n",
       "  </tbody>\n",
       "</table>\n",
       "</div>"
      ],
      "text/plain": [
       "Region          서울특별시  경기도  부산광역시\n",
       "Sector                           \n",
       "소프트웨어 개발 및 공급업    106   37      1\n",
       "금융 지원 서비스업         74    1      0\n",
       "의약품 제조업            40   34      1"
      ]
     },
     "execution_count": 235,
     "metadata": {},
     "output_type": "execute_result"
    }
   ],
   "source": [
    "# loc로 여러 행과 열 가져오기\n",
    "df_sr.loc[[\"소프트웨어 개발 및 공급업\", \"금융 지원 서비스업\", \"의약품 제조업\"], \n",
    "          [\"서울특별시\", \"경기도\", \"부산광역시\"]]"
   ]
  },
  {
   "cell_type": "code",
   "execution_count": 245,
   "metadata": {
    "scrolled": true
   },
   "outputs": [
    {
     "data": {
      "text/plain": [
       "<AxesSubplot:title={'center':'소프트웨어 개발 및 공급업 지역별 상장 빈도수'}, ylabel='Region'>"
      ]
     },
     "execution_count": 245,
     "metadata": {},
     "output_type": "execute_result"
    },
    {
     "data": {
      "image/png": "[encoded data removed]",
      "text/plain": [
       "<Figure size 432x288 with 1 Axes>"
      ]
     },
     "metadata": {},
     "output_type": "display_data"
    }
   ],
   "source": [
    "# \"소프트웨어 개발 및 공급업\" 만 가져와서 막대그래프를 그립니다.\n",
    "\n",
    "df_sr.loc[\"소프트웨어 개발 및 공급업\"].sort_values().plot.barh(\n",
    "    title=\"소프트웨어 개발 및 공급업 지역별 상장 빈도수\")"
   ]
  },
  {
   "cell_type": "code",
   "execution_count": 256,
   "metadata": {},
   "outputs": [
    {
     "data": {
      "text/plain": [
       "<AxesSubplot:title={'center':'의약품 제조업 소재지별 빈도수'}, ylabel='Region'>"
      ]
     },
     "execution_count": 256,
     "metadata": {},
     "output_type": "execute_result"
    },
    {
     "data": {
      "image/png": "[encoded data removed]",
      "text/plain": [
       "<Figure size 432x288 with 1 Axes>"
      ]
     },
     "metadata": {},
     "output_type": "display_data"
    }
   ],
   "source": [
    "# \"의약품 제조업\" 만 가져와서 막대그래프를 그립니다.\n",
    "\n",
    "drug = df_sr.loc[\"의약품 제조업\"]\n",
    "drug[drug > 0].sort_values().plot.barh(title=\"의약품 제조업 소재지별 빈도수\")"
   ]
  },
  {
   "cell_type": "code",
   "execution_count": 260,
   "metadata": {},
   "outputs": [
    {
     "data": {
      "text/html": [
       "<div>\n",
       "<style scoped>\n",
       "    .dataframe tbody tr th:only-of-type {\n",
       "        vertical-align: middle;\n",
       "    }\n",
       "\n",
       "    .dataframe tbody tr th {\n",
       "        vertical-align: top;\n",
       "    }\n",
       "\n",
       "    .dataframe thead th {\n",
       "        text-align: right;\n",
       "    }\n",
       "</style>\n",
       "<table border=\"1\" class=\"dataframe\">\n",
       "  <thead>\n",
       "    <tr style=\"text-align: right;\">\n",
       "      <th>Region</th>\n",
       "      <th>강원도</th>\n",
       "      <th>경기도</th>\n",
       "    </tr>\n",
       "    <tr>\n",
       "      <th>Sector</th>\n",
       "      <th></th>\n",
       "      <th></th>\n",
       "    </tr>\n",
       "  </thead>\n",
       "  <tbody>\n",
       "    <tr>\n",
       "      <th>1차 비철금속 제조업</th>\n",
       "      <td>0</td>\n",
       "      <td>7</td>\n",
       "    </tr>\n",
       "    <tr>\n",
       "      <th>1차 철강 제조업</th>\n",
       "      <td>0</td>\n",
       "      <td>4</td>\n",
       "    </tr>\n",
       "  </tbody>\n",
       "</table>\n",
       "</div>"
      ],
      "text/plain": [
       "Region       강원도  경기도\n",
       "Sector               \n",
       "1차 비철금속 제조업    0    7\n",
       "1차 철강 제조업      0    4"
      ]
     },
     "execution_count": 260,
     "metadata": {},
     "output_type": "execute_result"
    }
   ],
   "source": [
    "# iloc[행]\n",
    "# iloc[행,열]\n",
    "df_sr.iloc[[0, 1], [0, 1]]"
   ]
  },
  {
   "cell_type": "code",
   "execution_count": 267,
   "metadata": {},
   "outputs": [
    {
     "data": {
      "text/html": [
       "<div>\n",
       "<style scoped>\n",
       "    .dataframe tbody tr th:only-of-type {\n",
       "        vertical-align: middle;\n",
       "    }\n",
       "\n",
       "    .dataframe tbody tr th {\n",
       "        vertical-align: top;\n",
       "    }\n",
       "\n",
       "    .dataframe thead th {\n",
       "        text-align: right;\n",
       "    }\n",
       "</style>\n",
       "<table border=\"1\" class=\"dataframe\">\n",
       "  <thead>\n",
       "    <tr style=\"text-align: right;\">\n",
       "      <th>Region</th>\n",
       "      <th>강원도</th>\n",
       "      <th>경기도</th>\n",
       "      <th>경상남도</th>\n",
       "      <th>경상북도</th>\n",
       "      <th>광주광역시</th>\n",
       "    </tr>\n",
       "    <tr>\n",
       "      <th>Sector</th>\n",
       "      <th></th>\n",
       "      <th></th>\n",
       "      <th></th>\n",
       "      <th></th>\n",
       "      <th></th>\n",
       "    </tr>\n",
       "  </thead>\n",
       "  <tbody>\n",
       "    <tr>\n",
       "      <th>1차 비철금속 제조업</th>\n",
       "      <td>0</td>\n",
       "      <td>7</td>\n",
       "      <td>1</td>\n",
       "      <td>1</td>\n",
       "      <td>0</td>\n",
       "    </tr>\n",
       "    <tr>\n",
       "      <th>1차 철강 제조업</th>\n",
       "      <td>0</td>\n",
       "      <td>4</td>\n",
       "      <td>11</td>\n",
       "      <td>8</td>\n",
       "      <td>1</td>\n",
       "    </tr>\n",
       "    <tr>\n",
       "      <th>가구 제조업</th>\n",
       "      <td>0</td>\n",
       "      <td>4</td>\n",
       "      <td>0</td>\n",
       "      <td>0</td>\n",
       "      <td>0</td>\n",
       "    </tr>\n",
       "    <tr>\n",
       "      <th>가전제품 및 정보통신장비 소매업</th>\n",
       "      <td>0</td>\n",
       "      <td>0</td>\n",
       "      <td>0</td>\n",
       "      <td>0</td>\n",
       "      <td>0</td>\n",
       "    </tr>\n",
       "    <tr>\n",
       "      <th>가정용 기기 제조업</th>\n",
       "      <td>0</td>\n",
       "      <td>6</td>\n",
       "      <td>1</td>\n",
       "      <td>0</td>\n",
       "      <td>1</td>\n",
       "    </tr>\n",
       "  </tbody>\n",
       "</table>\n",
       "</div>"
      ],
      "text/plain": [
       "Region             강원도  경기도  경상남도  경상북도  광주광역시\n",
       "Sector                                        \n",
       "1차 비철금속 제조업          0    7     1     1      0\n",
       "1차 철강 제조업            0    4    11     8      1\n",
       "가구 제조업               0    4     0     0      0\n",
       "가전제품 및 정보통신장비 소매업    0    0     0     0      0\n",
       "가정용 기기 제조업           0    6     1     0      1"
      ]
     },
     "execution_count": 267,
     "metadata": {},
     "output_type": "execute_result"
    }
   ],
   "source": [
    "df_sr.iloc[:5, :5]"
   ]
  },
  {
   "cell_type": "code",
   "execution_count": 268,
   "metadata": {},
   "outputs": [
    {
     "data": {
      "text/html": [
       "<div>\n",
       "<style scoped>\n",
       "    .dataframe tbody tr th:only-of-type {\n",
       "        vertical-align: middle;\n",
       "    }\n",
       "\n",
       "    .dataframe tbody tr th {\n",
       "        vertical-align: top;\n",
       "    }\n",
       "\n",
       "    .dataframe thead th {\n",
       "        text-align: right;\n",
       "    }\n",
       "</style>\n",
       "<table border=\"1\" class=\"dataframe\">\n",
       "  <thead>\n",
       "    <tr style=\"text-align: right;\">\n",
       "      <th>Region</th>\n",
       "      <th>제주특별자치도</th>\n",
       "      <th>충청남도</th>\n",
       "      <th>충청북도</th>\n",
       "    </tr>\n",
       "    <tr>\n",
       "      <th>Sector</th>\n",
       "      <th></th>\n",
       "      <th></th>\n",
       "      <th></th>\n",
       "    </tr>\n",
       "  </thead>\n",
       "  <tbody>\n",
       "    <tr>\n",
       "      <th>해상 운송업</th>\n",
       "      <td>0</td>\n",
       "      <td>0</td>\n",
       "      <td>0</td>\n",
       "    </tr>\n",
       "    <tr>\n",
       "      <th>해체, 선별 및 원료 재생업</th>\n",
       "      <td>0</td>\n",
       "      <td>0</td>\n",
       "      <td>0</td>\n",
       "    </tr>\n",
       "    <tr>\n",
       "      <th>화학섬유 제조업</th>\n",
       "      <td>0</td>\n",
       "      <td>0</td>\n",
       "      <td>0</td>\n",
       "    </tr>\n",
       "  </tbody>\n",
       "</table>\n",
       "</div>"
      ],
      "text/plain": [
       "Region           제주특별자치도  충청남도  충청북도\n",
       "Sector                              \n",
       "해상 운송업                 0     0     0\n",
       "해체, 선별 및 원료 재생업        0     0     0\n",
       "화학섬유 제조업               0     0     0"
      ]
     },
     "execution_count": 268,
     "metadata": {},
     "output_type": "execute_result"
    }
   ],
   "source": [
    "df_sr.iloc[-5:-2, -5:-2]"
   ]
  },
  {
   "cell_type": "code",
   "execution_count": 87,
   "metadata": {},
   "outputs": [],
   "source": [
    "# df.head 혹은 tail도 내부에서 iloc를 슬라이싱으로 사용하고 있습니다.\n",
    "# df.head??"
   ]
  },
  {
   "cell_type": "code",
   "execution_count": 271,
   "metadata": {},
   "outputs": [
    {
     "data": {
      "text/html": [
       "<div>\n",
       "<style scoped>\n",
       "    .dataframe tbody tr th:only-of-type {\n",
       "        vertical-align: middle;\n",
       "    }\n",
       "\n",
       "    .dataframe tbody tr th {\n",
       "        vertical-align: top;\n",
       "    }\n",
       "\n",
       "    .dataframe thead th {\n",
       "        text-align: right;\n",
       "    }\n",
       "</style>\n",
       "<table border=\"1\" class=\"dataframe\">\n",
       "  <thead>\n",
       "    <tr style=\"text-align: right;\">\n",
       "      <th>Region</th>\n",
       "      <th>울산광역시</th>\n",
       "      <th>인천광역시</th>\n",
       "      <th>일본</th>\n",
       "      <th>전라남도</th>\n",
       "      <th>전라북도</th>\n",
       "      <th>제주특별자치도</th>\n",
       "      <th>충청남도</th>\n",
       "      <th>충청북도</th>\n",
       "      <th>케이맨 제도</th>\n",
       "      <th>홍콩</th>\n",
       "    </tr>\n",
       "    <tr>\n",
       "      <th>Sector</th>\n",
       "      <th></th>\n",
       "      <th></th>\n",
       "      <th></th>\n",
       "      <th></th>\n",
       "      <th></th>\n",
       "      <th></th>\n",
       "      <th></th>\n",
       "      <th></th>\n",
       "      <th></th>\n",
       "      <th></th>\n",
       "    </tr>\n",
       "  </thead>\n",
       "  <tbody>\n",
       "    <tr>\n",
       "      <th>1차 비철금속 제조업</th>\n",
       "      <td>0</td>\n",
       "      <td>0</td>\n",
       "      <td>0</td>\n",
       "      <td>0</td>\n",
       "      <td>0</td>\n",
       "      <td>0</td>\n",
       "      <td>1</td>\n",
       "      <td>0</td>\n",
       "      <td>0</td>\n",
       "      <td>0</td>\n",
       "    </tr>\n",
       "    <tr>\n",
       "      <th>1차 철강 제조업</th>\n",
       "      <td>0</td>\n",
       "      <td>4</td>\n",
       "      <td>0</td>\n",
       "      <td>1</td>\n",
       "      <td>1</td>\n",
       "      <td>0</td>\n",
       "      <td>4</td>\n",
       "      <td>0</td>\n",
       "      <td>0</td>\n",
       "      <td>0</td>\n",
       "    </tr>\n",
       "    <tr>\n",
       "      <th>가구 제조업</th>\n",
       "      <td>0</td>\n",
       "      <td>1</td>\n",
       "      <td>0</td>\n",
       "      <td>0</td>\n",
       "      <td>0</td>\n",
       "      <td>0</td>\n",
       "      <td>0</td>\n",
       "      <td>0</td>\n",
       "      <td>0</td>\n",
       "      <td>0</td>\n",
       "    </tr>\n",
       "    <tr>\n",
       "      <th>가전제품 및 정보통신장비 소매업</th>\n",
       "      <td>0</td>\n",
       "      <td>0</td>\n",
       "      <td>0</td>\n",
       "      <td>0</td>\n",
       "      <td>0</td>\n",
       "      <td>0</td>\n",
       "      <td>0</td>\n",
       "      <td>0</td>\n",
       "      <td>0</td>\n",
       "      <td>0</td>\n",
       "    </tr>\n",
       "    <tr>\n",
       "      <th>가정용 기기 제조업</th>\n",
       "      <td>0</td>\n",
       "      <td>0</td>\n",
       "      <td>0</td>\n",
       "      <td>0</td>\n",
       "      <td>0</td>\n",
       "      <td>0</td>\n",
       "      <td>0</td>\n",
       "      <td>0</td>\n",
       "      <td>0</td>\n",
       "      <td>0</td>\n",
       "    </tr>\n",
       "  </tbody>\n",
       "</table>\n",
       "</div>"
      ],
      "text/plain": [
       "Region             울산광역시  인천광역시  일본  전라남도  전라북도  제주특별자치도  충청남도  충청북도  케이맨 제도  \\\n",
       "Sector                                                                         \n",
       "1차 비철금속 제조업            0      0   0     0     0        0     1     0       0   \n",
       "1차 철강 제조업              0      4   0     1     1        0     4     0       0   \n",
       "가구 제조업                 0      1   0     0     0        0     0     0       0   \n",
       "가전제품 및 정보통신장비 소매업      0      0   0     0     0        0     0     0       0   \n",
       "가정용 기기 제조업             0      0   0     0     0        0     0     0       0   \n",
       "\n",
       "Region             홍콩  \n",
       "Sector                 \n",
       "1차 비철금속 제조업         0  \n",
       "1차 철강 제조업           0  \n",
       "가구 제조업              0  \n",
       "가전제품 및 정보통신장비 소매업   0  \n",
       "가정용 기기 제조업          0  "
      ]
     },
     "execution_count": 271,
     "metadata": {},
     "output_type": "execute_result"
    }
   ],
   "source": [
    "df_sr.iloc[:, -10:].head()"
   ]
  },
  {
   "cell_type": "code",
   "execution_count": 272,
   "metadata": {},
   "outputs": [
    {
     "data": {
      "text/html": [
       "<div>\n",
       "<style scoped>\n",
       "    .dataframe tbody tr th:only-of-type {\n",
       "        vertical-align: middle;\n",
       "    }\n",
       "\n",
       "    .dataframe tbody tr th {\n",
       "        vertical-align: top;\n",
       "    }\n",
       "\n",
       "    .dataframe thead th {\n",
       "        text-align: right;\n",
       "    }\n",
       "</style>\n",
       "<table border=\"1\" class=\"dataframe\">\n",
       "  <thead>\n",
       "    <tr style=\"text-align: right;\">\n",
       "      <th>Region</th>\n",
       "      <th>울산광역시</th>\n",
       "      <th>인천광역시</th>\n",
       "      <th>일본</th>\n",
       "      <th>전라남도</th>\n",
       "      <th>전라북도</th>\n",
       "      <th>제주특별자치도</th>\n",
       "      <th>충청남도</th>\n",
       "      <th>충청북도</th>\n",
       "      <th>케이맨 제도</th>\n",
       "      <th>홍콩</th>\n",
       "    </tr>\n",
       "    <tr>\n",
       "      <th>Sector</th>\n",
       "      <th></th>\n",
       "      <th></th>\n",
       "      <th></th>\n",
       "      <th></th>\n",
       "      <th></th>\n",
       "      <th></th>\n",
       "      <th></th>\n",
       "      <th></th>\n",
       "      <th></th>\n",
       "      <th></th>\n",
       "    </tr>\n",
       "  </thead>\n",
       "  <tbody>\n",
       "    <tr>\n",
       "      <th>1차 비철금속 제조업</th>\n",
       "      <td>0</td>\n",
       "      <td>0</td>\n",
       "      <td>0</td>\n",
       "      <td>0</td>\n",
       "      <td>0</td>\n",
       "      <td>0</td>\n",
       "      <td>1</td>\n",
       "      <td>0</td>\n",
       "      <td>0</td>\n",
       "      <td>0</td>\n",
       "    </tr>\n",
       "    <tr>\n",
       "      <th>1차 철강 제조업</th>\n",
       "      <td>0</td>\n",
       "      <td>4</td>\n",
       "      <td>0</td>\n",
       "      <td>1</td>\n",
       "      <td>1</td>\n",
       "      <td>0</td>\n",
       "      <td>4</td>\n",
       "      <td>0</td>\n",
       "      <td>0</td>\n",
       "      <td>0</td>\n",
       "    </tr>\n",
       "    <tr>\n",
       "      <th>가구 제조업</th>\n",
       "      <td>0</td>\n",
       "      <td>1</td>\n",
       "      <td>0</td>\n",
       "      <td>0</td>\n",
       "      <td>0</td>\n",
       "      <td>0</td>\n",
       "      <td>0</td>\n",
       "      <td>0</td>\n",
       "      <td>0</td>\n",
       "      <td>0</td>\n",
       "    </tr>\n",
       "    <tr>\n",
       "      <th>가전제품 및 정보통신장비 소매업</th>\n",
       "      <td>0</td>\n",
       "      <td>0</td>\n",
       "      <td>0</td>\n",
       "      <td>0</td>\n",
       "      <td>0</td>\n",
       "      <td>0</td>\n",
       "      <td>0</td>\n",
       "      <td>0</td>\n",
       "      <td>0</td>\n",
       "      <td>0</td>\n",
       "    </tr>\n",
       "    <tr>\n",
       "      <th>가정용 기기 제조업</th>\n",
       "      <td>0</td>\n",
       "      <td>0</td>\n",
       "      <td>0</td>\n",
       "      <td>0</td>\n",
       "      <td>0</td>\n",
       "      <td>0</td>\n",
       "      <td>0</td>\n",
       "      <td>0</td>\n",
       "      <td>0</td>\n",
       "      <td>0</td>\n",
       "    </tr>\n",
       "  </tbody>\n",
       "</table>\n",
       "</div>"
      ],
      "text/plain": [
       "Region             울산광역시  인천광역시  일본  전라남도  전라북도  제주특별자치도  충청남도  충청북도  케이맨 제도  \\\n",
       "Sector                                                                         \n",
       "1차 비철금속 제조업            0      0   0     0     0        0     1     0       0   \n",
       "1차 철강 제조업              0      4   0     1     1        0     4     0       0   \n",
       "가구 제조업                 0      1   0     0     0        0     0     0       0   \n",
       "가전제품 및 정보통신장비 소매업      0      0   0     0     0        0     0     0       0   \n",
       "가정용 기기 제조업             0      0   0     0     0        0     0     0       0   \n",
       "\n",
       "Region             홍콩  \n",
       "Sector                 \n",
       "1차 비철금속 제조업         0  \n",
       "1차 철강 제조업           0  \n",
       "가구 제조업              0  \n",
       "가전제품 및 정보통신장비 소매업   0  \n",
       "가정용 기기 제조업          0  "
      ]
     },
     "execution_count": 272,
     "metadata": {},
     "output_type": "execute_result"
    }
   ],
   "source": [
    "df_sr.iloc[:5, -10:]"
   ]
  },
  {
   "cell_type": "code",
   "execution_count": 88,
   "metadata": {},
   "outputs": [],
   "source": [
    "# df_sr.tail??"
   ]
  },
  {
   "cell_type": "code",
   "execution_count": null,
   "metadata": {},
   "outputs": [],
   "source": []
  },
  {
   "cell_type": "code",
   "execution_count": null,
   "metadata": {},
   "outputs": [],
   "source": []
  },
  {
   "cell_type": "code",
   "execution_count": null,
   "metadata": {},
   "outputs": [],
   "source": []
  },
  {
   "cell_type": "code",
   "execution_count": null,
   "metadata": {},
   "outputs": [],
   "source": []
  }
 ],
 "metadata": {
  "colab": {
   "collapsed_sections": [],
   "name": "1. FinanceDataReader를 통한 상장종목 전체 불러오기.ipynb",
   "provenance": [],
   "toc_visible": true
  },
  "kernelspec": {
   "display_name": "Python 3 (ipykernel)",
   "language": "python",
   "name": "python3"
  },
  "language_info": {
   "codemirror_mode": {
    "name": "ipython",
    "version": 3
   },
   "file_extension": ".py",
   "mimetype": "text/x-python",
   "name": "python",
   "nbconvert_exporter": "python",
   "pygments_lexer": "ipython3",
   "version": "3.9.7"
  },
  "toc": {
   "base_numbering": 1,
   "nav_menu": {},
   "number_sections": true,
   "sideBar": true,
   "skip_h1_title": false,
   "title_cell": "Table of Contents",
   "title_sidebar": "Contents",
   "toc_cell": false,
   "toc_position": {
    "height": "calc(100% - 180px)",
    "left": "10px",
    "top": "150px",
    "width": "178.988px"
   },
   "toc_section_display": true,
   "toc_window_display": true
  },
  "varInspector": {
   "cols": {
    "lenName": 16,
    "lenType": 16,
    "lenVar": 40
   },
   "kernels_config": {
    "python": {
     "delete_cmd_postfix": "",
     "delete_cmd_prefix": "del ",
     "library": "var_list.py",
     "varRefreshCmd": "print(var_dic_list())"
    },
    "r": {
     "delete_cmd_postfix": ") ",
     "delete_cmd_prefix": "rm(",
     "library": "var_list.r",
     "varRefreshCmd": "cat(var_dic_list()) "
    }
   },
   "types_to_exclude": [
    "module",
    "function",
    "builtin_function_or_method",
    "instance",
    "_Feature"
   ],
   "window_display": false
  }
 },
 "nbformat": 4,
 "nbformat_minor": 1
}
