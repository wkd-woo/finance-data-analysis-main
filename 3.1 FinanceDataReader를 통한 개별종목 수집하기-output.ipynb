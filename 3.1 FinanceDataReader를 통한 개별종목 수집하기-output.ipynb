{
 "cells": [
  {
   "cell_type": "markdown",
   "metadata": {
    "id": "JooJ7cGP5HMS"
   },
   "source": [
    "[![Open In Colab](https://colab.research.google.com/assets/colab-badge.svg)](https://colab.research.google.com/github/corazzon/finance-data-analysis/blob/main/3.1%20FinanceDataReader%EB%A5%BC%20%ED%86%B5%ED%95%9C%20%EA%B0%9C%EB%B3%84%EC%A2%85%EB%AA%A9%20%EC%88%98%EC%A7%91%ED%95%98%EA%B8%B0-output.ipynb)\n",
    "\n",
    "## 라이브러리 불러오기"
   ]
  },
  {
   "cell_type": "code",
   "execution_count": 1,
   "metadata": {
    "id": "0HuA8Gtr5HMT"
   },
   "outputs": [],
   "source": [
    "# 데이터 분석을 위해 pandas 불러오기\n",
    "import pandas as pd"
   ]
  },
  {
   "cell_type": "markdown",
   "metadata": {
    "id": "yx1gbnsI5HMQ"
   },
   "source": [
    "* [FinanceData/FinanceDataReader: Financial data reader](https://github.com/FinanceData/FinanceDataReader)\n",
    "* [FinanceDataReader 사용자 안내서 | FinanceData](https://financedata.github.io/posts/finance-data-reader-users-guide.html)"
   ]
  },
  {
   "cell_type": "code",
   "execution_count": 2,
   "metadata": {
    "id": "Szu-zewh5HMR"
   },
   "outputs": [],
   "source": [
    "# colab 을 사용한다면 런타임이 초기화 될때마다 다시 설치해 주어야 합니다.\n",
    "# 로컬 컴퓨터에 설치했다면 이전에 설치된 라이브러리를 사용해 주시면 됩니다.\n",
    "# !pip install -U finance-datareader"
   ]
  },
  {
   "cell_type": "code",
   "execution_count": 3,
   "metadata": {
    "id": "RmRqR4HT5HMT"
   },
   "outputs": [],
   "source": [
    "# FinanceDataReader 를 fdr 별칭으로 가져오기\n",
    "import FinanceDataReader as fdr"
   ]
  },
  {
   "cell_type": "markdown",
   "metadata": {
    "id": "VNyU_0nM7gDr"
   },
   "source": [
    "## 개별 종목의 일별 시세 수집\n",
    "* 종목코드로 수집이 가능합니다.\n",
    "* 종목명을 찾아서 일별 시세를 수집해 주는 함수를 만들어 볼 예정입니다."
   ]
  },
  {
   "cell_type": "code",
   "execution_count": 4,
   "metadata": {
    "id": "-MWybAcD5HMT"
   },
   "outputs": [
    {
     "data": {
      "text/html": [
       "<div>\n",
       "<style scoped>\n",
       "    .dataframe tbody tr th:only-of-type {\n",
       "        vertical-align: middle;\n",
       "    }\n",
       "\n",
       "    .dataframe tbody tr th {\n",
       "        vertical-align: top;\n",
       "    }\n",
       "\n",
       "    .dataframe thead th {\n",
       "        text-align: right;\n",
       "    }\n",
       "</style>\n",
       "<table border=\"1\" class=\"dataframe\">\n",
       "  <thead>\n",
       "    <tr style=\"text-align: right;\">\n",
       "      <th></th>\n",
       "      <th>Open</th>\n",
       "      <th>High</th>\n",
       "      <th>Low</th>\n",
       "      <th>Close</th>\n",
       "      <th>Volume</th>\n",
       "      <th>Change</th>\n",
       "    </tr>\n",
       "    <tr>\n",
       "      <th>Date</th>\n",
       "      <th></th>\n",
       "      <th></th>\n",
       "      <th></th>\n",
       "      <th></th>\n",
       "      <th></th>\n",
       "      <th></th>\n",
       "    </tr>\n",
       "  </thead>\n",
       "  <tbody>\n",
       "    <tr>\n",
       "      <th>2017-01-02</th>\n",
       "      <td>35980</td>\n",
       "      <td>36240</td>\n",
       "      <td>35880</td>\n",
       "      <td>36100</td>\n",
       "      <td>93012</td>\n",
       "      <td>0.001665</td>\n",
       "    </tr>\n",
       "    <tr>\n",
       "      <th>2017-01-03</th>\n",
       "      <td>36280</td>\n",
       "      <td>36620</td>\n",
       "      <td>36020</td>\n",
       "      <td>36480</td>\n",
       "      <td>147153</td>\n",
       "      <td>0.010526</td>\n",
       "    </tr>\n",
       "    <tr>\n",
       "      <th>2017-01-04</th>\n",
       "      <td>36500</td>\n",
       "      <td>36520</td>\n",
       "      <td>36100</td>\n",
       "      <td>36160</td>\n",
       "      <td>159435</td>\n",
       "      <td>-0.008772</td>\n",
       "    </tr>\n",
       "    <tr>\n",
       "      <th>2017-01-05</th>\n",
       "      <td>36060</td>\n",
       "      <td>36060</td>\n",
       "      <td>35540</td>\n",
       "      <td>35560</td>\n",
       "      <td>219349</td>\n",
       "      <td>-0.016593</td>\n",
       "    </tr>\n",
       "    <tr>\n",
       "      <th>2017-01-06</th>\n",
       "      <td>36180</td>\n",
       "      <td>36440</td>\n",
       "      <td>36040</td>\n",
       "      <td>36200</td>\n",
       "      <td>177619</td>\n",
       "      <td>0.017998</td>\n",
       "    </tr>\n",
       "  </tbody>\n",
       "</table>\n",
       "</div>"
      ],
      "text/plain": [
       "             Open   High    Low  Close  Volume    Change\n",
       "Date                                                    \n",
       "2017-01-02  35980  36240  35880  36100   93012  0.001665\n",
       "2017-01-03  36280  36620  36020  36480  147153  0.010526\n",
       "2017-01-04  36500  36520  36100  36160  159435 -0.008772\n",
       "2017-01-05  36060  36060  35540  35560  219349 -0.016593\n",
       "2017-01-06  36180  36440  36040  36200  177619  0.017998"
      ]
     },
     "execution_count": 4,
     "metadata": {},
     "output_type": "execute_result"
    }
   ],
   "source": [
    "# 삼성전자, 2017년~현재 일별 시세 받아오기\n",
    "# 삼성전자의 종목 번호 '005930'\n",
    "\n",
    "df = fdr.DataReader('005930', \"2017\", \"2021\")\n",
    "df.head()"
   ]
  },
  {
   "cell_type": "code",
   "execution_count": 5,
   "metadata": {},
   "outputs": [
    {
     "data": {
      "text/plain": [
       "<matplotlib.axes._subplots.AxesSubplot at 0x7fccde426b10>"
      ]
     },
     "execution_count": 5,
     "metadata": {},
     "output_type": "execute_result"
    },
    {
     "data": {
      "image/png": "[encoded data removed]",
      "text/plain": [
       "<Figure size 432x288 with 1 Axes>"
      ]
     },
     "metadata": {
      "needs_background": "light"
     },
     "output_type": "display_data"
    }
   ],
   "source": [
    "df[\"Close\"].plot()"
   ]
  },
  {
   "cell_type": "markdown",
   "metadata": {
    "id": "h7T4gW_W-FmZ"
   },
   "source": [
    "## 상장종목 목록 가져오기"
   ]
  },
  {
   "cell_type": "code",
   "execution_count": 9,
   "metadata": {
    "id": "gWgVQdSx5HMT"
   },
   "outputs": [
    {
     "data": {
      "text/plain": [
       "(2612, 10)"
      ]
     },
     "execution_count": 9,
     "metadata": {},
     "output_type": "execute_result"
    }
   ],
   "source": [
    "# 이전 강의에서 저장해 놓았던 csv 파일로 분석을 합니다.\n",
    "# colab 사용자의 경우 이미 csv 파일이 지워졌을 수 있기 때문에 파일이 없을 경우 아래 셀에서 다시 load하면 됩니다.\n",
    "df_krx = pd.read_csv(\"krx.csv\")\n",
    "df_krx.shape"
   ]
  },
  {
   "cell_type": "code",
   "execution_count": 8,
   "metadata": {
    "id": "muwUkDSF5HMT"
   },
   "outputs": [],
   "source": [
    "# 위 CSV 파일이 로드되지 않아 당황스러우신가요? 그럼 아래 주석을 풀고 다시 KRX 데이터를 받아오세요.\n",
    "# colab의 경우 일정 시간이 지나면 런타임이 초기화 되기 때문에 다시 로드하면 데이터를 가져올 수 있습니다.\n",
    "# df_krx = fdr.StockListing('KRX')"
   ]
  },
  {
   "cell_type": "markdown",
   "metadata": {
    "id": "hbBmLbpY7vKY"
   },
   "source": [
    "## 상장종목 목록 사용하기\n",
    "* 종목명과 심볼을 찾기 위해 상장종목 목록을 사용합니다."
   ]
  },
  {
   "cell_type": "code",
   "execution_count": 13,
   "metadata": {
    "id": "U0n_cZGA5HMT"
   },
   "outputs": [
    {
     "data": {
      "text/html": [
       "<div>\n",
       "<style scoped>\n",
       "    .dataframe tbody tr th:only-of-type {\n",
       "        vertical-align: middle;\n",
       "    }\n",
       "\n",
       "    .dataframe tbody tr th {\n",
       "        vertical-align: top;\n",
       "    }\n",
       "\n",
       "    .dataframe thead th {\n",
       "        text-align: right;\n",
       "    }\n",
       "</style>\n",
       "<table border=\"1\" class=\"dataframe\">\n",
       "  <thead>\n",
       "    <tr style=\"text-align: right;\">\n",
       "      <th></th>\n",
       "      <th>Symbol</th>\n",
       "      <th>Name</th>\n",
       "    </tr>\n",
       "  </thead>\n",
       "  <tbody>\n",
       "    <tr>\n",
       "      <th>0</th>\n",
       "      <td>060310</td>\n",
       "      <td>3S</td>\n",
       "    </tr>\n",
       "    <tr>\n",
       "      <th>1</th>\n",
       "      <td>095570</td>\n",
       "      <td>AJ네트웍스</td>\n",
       "    </tr>\n",
       "    <tr>\n",
       "      <th>2</th>\n",
       "      <td>006840</td>\n",
       "      <td>AK홀딩스</td>\n",
       "    </tr>\n",
       "    <tr>\n",
       "      <th>3</th>\n",
       "      <td>054620</td>\n",
       "      <td>APS홀딩스</td>\n",
       "    </tr>\n",
       "    <tr>\n",
       "      <th>4</th>\n",
       "      <td>265520</td>\n",
       "      <td>AP시스템</td>\n",
       "    </tr>\n",
       "  </tbody>\n",
       "</table>\n",
       "</div>"
      ],
      "text/plain": [
       "   Symbol    Name\n",
       "0  060310      3S\n",
       "1  095570  AJ네트웍스\n",
       "2  006840   AK홀딩스\n",
       "3  054620  APS홀딩스\n",
       "4  265520   AP시스템"
      ]
     },
     "execution_count": 13,
     "metadata": {},
     "output_type": "execute_result"
    }
   ],
   "source": [
    "# DataFrame 에 어떤 데이터가 들어있는 head()로 일부 데이터만 가져와 봅니다.\n",
    "df_krx[[\"Symbol\", \"Name\"]].head()"
   ]
  },
  {
   "cell_type": "markdown",
   "metadata": {},
   "source": [
    "<font color=\"red\">빅히트 사명이 하이브로 변경되었습니다. 하이브로 실습해 주세요.</font>"
   ]
  },
  {
   "cell_type": "code",
   "execution_count": 35,
   "metadata": {
    "id": "OJtBeoeo5HMT",
    "scrolled": true
   },
   "outputs": [
    {
     "data": {
      "text/plain": [
       "'352820'"
      ]
     },
     "execution_count": 35,
     "metadata": {},
     "output_type": "execute_result"
    }
   ],
   "source": [
    "# df_krx의 Name column 에서 '하이브'에 해당하는 row를 전부 가져오는데 Name column만 가져와\n",
    "# list 형태로 index 번호는 빼고 ['하이브'] 만 가져오게 되고 [0]을 통해 list에 있는 string만 가져오게 됩니다.\n",
    "# 하이브 (series) -> ['하이브'] (list) -> '하이브' (string)\n",
    "# item_name = \"하이브\"\n",
    "# df_krx.loc[df_krx[\"Name\"] == item_name, \"Symbol\"].tolist()[0]"
   ]
  },
  {
   "cell_type": "code",
   "execution_count": 36,
   "metadata": {
    "id": "2YfQlf9U5HMU"
   },
   "outputs": [],
   "source": [
    "# '히트'라는 이름을 가진 상장사가 있는지 확인해 보기\n",
    "# df_krx.loc[df_krx[\"Name\"] == \"히트\", \"Symbol\"].tolist()[0]"
   ]
  },
  {
   "cell_type": "markdown",
   "metadata": {
    "id": "vaM5_Hkd5HMU"
   },
   "source": [
    "## 종목명으로 종목 코드를 받아오는 함수 만들기"
   ]
  },
  {
   "cell_type": "code",
   "execution_count": 56,
   "metadata": {
    "id": "6EB27Rkx5HMU"
   },
   "outputs": [],
   "source": [
    "# 종목명으로 종목코드 받아오는 함수 만들기\n",
    "# df_krx의 Name column에서 같은 값이 있으면 \n",
    "# row의 Symbol column의 값을 list로 name_list에 저장하기\n",
    "# item_code_by_item_name 함수를 만듭니다.\n",
    "\n",
    "def item_code_by_item_name(item_name):\n",
    "    \"\"\"\n",
    "    종목명을 받아 종목코드를 찾아 반환하는 함수\n",
    "    \"\"\"\n",
    "    item_code_list = df_krx.loc[df_krx[\"Name\"] == item_name, \"Symbol\"].tolist()\n",
    "    if len(item_code_list) > 0:\n",
    "        item_code = item_code_list[0]\n",
    "        return item_code\n",
    "    else:\n",
    "        return False"
   ]
  },
  {
   "cell_type": "code",
   "execution_count": 57,
   "metadata": {},
   "outputs": [
    {
     "data": {
      "text/plain": [
       "'352820'"
      ]
     },
     "execution_count": 57,
     "metadata": {},
     "output_type": "execute_result"
    }
   ],
   "source": [
    "item_code_by_item_name(\"하이브\")"
   ]
  },
  {
   "cell_type": "code",
   "execution_count": 58,
   "metadata": {
    "id": "oMwl2Dzq5HMU"
   },
   "outputs": [
    {
     "data": {
      "text/plain": [
       "False"
      ]
     },
     "execution_count": 58,
     "metadata": {},
     "output_type": "execute_result"
    }
   ],
   "source": [
    "# 네이버로 등록된 상장사는 없습니다.\n",
    "# 잘못 입력된 텍스트에 대해 예외처리를 하는지 확인합니다.\n",
    "item_code_by_item_name(\"네이버\")"
   ]
  },
  {
   "cell_type": "code",
   "execution_count": 60,
   "metadata": {
    "id": "p8uKKoLUPwVK"
   },
   "outputs": [
    {
     "data": {
      "text/plain": [
       "'035420'"
      ]
     },
     "execution_count": 60,
     "metadata": {},
     "output_type": "execute_result"
    }
   ],
   "source": [
    "# 네이버는 NAVER로 등록되어 있습니다.\n",
    "item_code_by_item_name(\"NAVER\")"
   ]
  },
  {
   "cell_type": "code",
   "execution_count": 61,
   "metadata": {},
   "outputs": [
    {
     "data": {
      "text/plain": [
       "'005930'"
      ]
     },
     "execution_count": 61,
     "metadata": {},
     "output_type": "execute_result"
    }
   ],
   "source": [
    "# 삼성전자\n",
    "item_code_by_item_name(\"삼성전자\")"
   ]
  },
  {
   "cell_type": "code",
   "execution_count": 62,
   "metadata": {
    "id": "jMv5iz9a5HMU"
   },
   "outputs": [
    {
     "data": {
      "text/plain": [
       "'068270'"
      ]
     },
     "execution_count": 62,
     "metadata": {},
     "output_type": "execute_result"
    }
   ],
   "source": [
    "# 셀트리온과 카카오게임즈도 확인하여 봅니다.\n",
    "item_code_by_item_name(\"셀트리온\")"
   ]
  },
  {
   "cell_type": "code",
   "execution_count": 63,
   "metadata": {},
   "outputs": [
    {
     "data": {
      "text/plain": [
       "'293490'"
      ]
     },
     "execution_count": 63,
     "metadata": {},
     "output_type": "execute_result"
    }
   ],
   "source": [
    "item_code_by_item_name(\"카카오게임즈\")"
   ]
  },
  {
   "cell_type": "code",
   "execution_count": 66,
   "metadata": {},
   "outputs": [],
   "source": [
    "# fdr.DataReader(item_code_by_item_name(\"LG화학\"))"
   ]
  },
  {
   "cell_type": "markdown",
   "metadata": {
    "id": "Wwe4qoor5HMU"
   },
   "source": [
    "## 종목명으로 일별시세를 받아오는 함수 만들기"
   ]
  },
  {
   "cell_type": "code",
   "execution_count": 81,
   "metadata": {
    "id": "GRQLNGdv5HMU"
   },
   "outputs": [],
   "source": [
    "# item_code_by_item_name : 종목명으로 종목번호 가져오기\n",
    "# find_item_list : 종목번호로 해당연도 데이터 가져오기\n",
    "# find_item_list는 year 값이 없으면 기본으로 2020년 데이터를 선택\n",
    "\n",
    "def find_item_list(item_name, year=2020):\n",
    "    \"\"\"\n",
    "    종목명을 넘겨주면 일별시세를 반환하는 함수\n",
    "    내부에서 종목명으로 종목코드를 반환하는 함수(item_code_by_item_name)로\n",
    "    종목의 시세를 수집합니다.\n",
    "    \"\"\"\n",
    "    item_code = item_code_by_item_name(item_name)\n",
    "    if item_code:\n",
    "        df_day = fdr.DataReader(item_code, str(year))\n",
    "        return df_day\n",
    "    else:\n",
    "        return False"
   ]
  },
  {
   "cell_type": "code",
   "execution_count": 88,
   "metadata": {},
   "outputs": [
    {
     "data": {
      "text/html": [
       "<div>\n",
       "<style scoped>\n",
       "    .dataframe tbody tr th:only-of-type {\n",
       "        vertical-align: middle;\n",
       "    }\n",
       "\n",
       "    .dataframe tbody tr th {\n",
       "        vertical-align: top;\n",
       "    }\n",
       "\n",
       "    .dataframe thead th {\n",
       "        text-align: right;\n",
       "    }\n",
       "</style>\n",
       "<table border=\"1\" class=\"dataframe\">\n",
       "  <thead>\n",
       "    <tr style=\"text-align: right;\">\n",
       "      <th></th>\n",
       "      <th>Open</th>\n",
       "      <th>High</th>\n",
       "      <th>Low</th>\n",
       "      <th>Close</th>\n",
       "      <th>Volume</th>\n",
       "      <th>Change</th>\n",
       "    </tr>\n",
       "    <tr>\n",
       "      <th>Date</th>\n",
       "      <th></th>\n",
       "      <th></th>\n",
       "      <th></th>\n",
       "      <th></th>\n",
       "      <th></th>\n",
       "      <th></th>\n",
       "    </tr>\n",
       "  </thead>\n",
       "  <tbody>\n",
       "    <tr>\n",
       "      <th>2017-01-02</th>\n",
       "      <td>155821</td>\n",
       "      <td>157623</td>\n",
       "      <td>155220</td>\n",
       "      <td>155621</td>\n",
       "      <td>30777</td>\n",
       "      <td>0.002583</td>\n",
       "    </tr>\n",
       "    <tr>\n",
       "      <th>2017-01-03</th>\n",
       "      <td>155620</td>\n",
       "      <td>155620</td>\n",
       "      <td>153617</td>\n",
       "      <td>153618</td>\n",
       "      <td>51766</td>\n",
       "      <td>-0.012871</td>\n",
       "    </tr>\n",
       "    <tr>\n",
       "      <th>2017-01-04</th>\n",
       "      <td>155220</td>\n",
       "      <td>162230</td>\n",
       "      <td>154419</td>\n",
       "      <td>162230</td>\n",
       "      <td>120359</td>\n",
       "      <td>0.056061</td>\n",
       "    </tr>\n",
       "    <tr>\n",
       "      <th>2017-01-05</th>\n",
       "      <td>162230</td>\n",
       "      <td>162230</td>\n",
       "      <td>158424</td>\n",
       "      <td>158425</td>\n",
       "      <td>68724</td>\n",
       "      <td>-0.023454</td>\n",
       "    </tr>\n",
       "    <tr>\n",
       "      <th>2017-01-06</th>\n",
       "      <td>158424</td>\n",
       "      <td>160427</td>\n",
       "      <td>157423</td>\n",
       "      <td>160027</td>\n",
       "      <td>50269</td>\n",
       "      <td>0.010112</td>\n",
       "    </tr>\n",
       "    <tr>\n",
       "      <th>...</th>\n",
       "      <td>...</td>\n",
       "      <td>...</td>\n",
       "      <td>...</td>\n",
       "      <td>...</td>\n",
       "      <td>...</td>\n",
       "      <td>...</td>\n",
       "    </tr>\n",
       "    <tr>\n",
       "      <th>2020-12-28</th>\n",
       "      <td>282000</td>\n",
       "      <td>282500</td>\n",
       "      <td>280000</td>\n",
       "      <td>281000</td>\n",
       "      <td>537848</td>\n",
       "      <td>-0.003546</td>\n",
       "    </tr>\n",
       "    <tr>\n",
       "      <th>2020-12-29</th>\n",
       "      <td>281500</td>\n",
       "      <td>285000</td>\n",
       "      <td>280500</td>\n",
       "      <td>283000</td>\n",
       "      <td>506090</td>\n",
       "      <td>0.007117</td>\n",
       "    </tr>\n",
       "    <tr>\n",
       "      <th>2020-12-30</th>\n",
       "      <td>285000</td>\n",
       "      <td>293000</td>\n",
       "      <td>284000</td>\n",
       "      <td>292500</td>\n",
       "      <td>1190327</td>\n",
       "      <td>0.033569</td>\n",
       "    </tr>\n",
       "    <tr>\n",
       "      <th>2021-01-04</th>\n",
       "      <td>291500</td>\n",
       "      <td>294000</td>\n",
       "      <td>285500</td>\n",
       "      <td>293000</td>\n",
       "      <td>947178</td>\n",
       "      <td>0.001709</td>\n",
       "    </tr>\n",
       "    <tr>\n",
       "      <th>2021-01-05</th>\n",
       "      <td>291500</td>\n",
       "      <td>292000</td>\n",
       "      <td>286500</td>\n",
       "      <td>287500</td>\n",
       "      <td>657299</td>\n",
       "      <td>-0.018771</td>\n",
       "    </tr>\n",
       "  </tbody>\n",
       "</table>\n",
       "<p>983 rows × 6 columns</p>\n",
       "</div>"
      ],
      "text/plain": [
       "              Open    High     Low   Close   Volume    Change\n",
       "Date                                                         \n",
       "2017-01-02  155821  157623  155220  155621    30777  0.002583\n",
       "2017-01-03  155620  155620  153617  153618    51766 -0.012871\n",
       "2017-01-04  155220  162230  154419  162230   120359  0.056061\n",
       "2017-01-05  162230  162230  158424  158425    68724 -0.023454\n",
       "2017-01-06  158424  160427  157423  160027    50269  0.010112\n",
       "...            ...     ...     ...     ...      ...       ...\n",
       "2020-12-28  282000  282500  280000  281000   537848 -0.003546\n",
       "2020-12-29  281500  285000  280500  283000   506090  0.007117\n",
       "2020-12-30  285000  293000  284000  292500  1190327  0.033569\n",
       "2021-01-04  291500  294000  285500  293000   947178  0.001709\n",
       "2021-01-05  291500  292000  286500  287500   657299 -0.018771\n",
       "\n",
       "[983 rows x 6 columns]"
      ]
     },
     "execution_count": 88,
     "metadata": {},
     "output_type": "execute_result"
    }
   ],
   "source": [
    "find_item_list(\"NAVER\", 2017)"
   ]
  },
  {
   "cell_type": "markdown",
   "metadata": {
    "id": "6UCk0UYn9yXR"
   },
   "source": [
    "### 종목명으로 일별 시세를 잘 가져오는지 확인하기"
   ]
  },
  {
   "cell_type": "code",
   "execution_count": 89,
   "metadata": {
    "id": "fFnQ4fR75HMU"
   },
   "outputs": [
    {
     "data": {
      "text/html": [
       "<div>\n",
       "<style scoped>\n",
       "    .dataframe tbody tr th:only-of-type {\n",
       "        vertical-align: middle;\n",
       "    }\n",
       "\n",
       "    .dataframe tbody tr th {\n",
       "        vertical-align: top;\n",
       "    }\n",
       "\n",
       "    .dataframe thead th {\n",
       "        text-align: right;\n",
       "    }\n",
       "</style>\n",
       "<table border=\"1\" class=\"dataframe\">\n",
       "  <thead>\n",
       "    <tr style=\"text-align: right;\">\n",
       "      <th></th>\n",
       "      <th>Open</th>\n",
       "      <th>High</th>\n",
       "      <th>Low</th>\n",
       "      <th>Close</th>\n",
       "      <th>Volume</th>\n",
       "      <th>Change</th>\n",
       "    </tr>\n",
       "    <tr>\n",
       "      <th>Date</th>\n",
       "      <th></th>\n",
       "      <th></th>\n",
       "      <th></th>\n",
       "      <th></th>\n",
       "      <th></th>\n",
       "      <th></th>\n",
       "    </tr>\n",
       "  </thead>\n",
       "  <tbody>\n",
       "    <tr>\n",
       "      <th>2020-01-02</th>\n",
       "      <td>321000</td>\n",
       "      <td>321000</td>\n",
       "      <td>313500</td>\n",
       "      <td>314000</td>\n",
       "      <td>139496</td>\n",
       "      <td>-0.011024</td>\n",
       "    </tr>\n",
       "    <tr>\n",
       "      <th>2020-01-03</th>\n",
       "      <td>317000</td>\n",
       "      <td>318500</td>\n",
       "      <td>310500</td>\n",
       "      <td>311000</td>\n",
       "      <td>165030</td>\n",
       "      <td>-0.009554</td>\n",
       "    </tr>\n",
       "    <tr>\n",
       "      <th>2020-01-06</th>\n",
       "      <td>308000</td>\n",
       "      <td>311000</td>\n",
       "      <td>306500</td>\n",
       "      <td>307000</td>\n",
       "      <td>138154</td>\n",
       "      <td>-0.012862</td>\n",
       "    </tr>\n",
       "    <tr>\n",
       "      <th>2020-01-07</th>\n",
       "      <td>306000</td>\n",
       "      <td>313500</td>\n",
       "      <td>305000</td>\n",
       "      <td>311000</td>\n",
       "      <td>133788</td>\n",
       "      <td>0.013029</td>\n",
       "    </tr>\n",
       "    <tr>\n",
       "      <th>2020-01-08</th>\n",
       "      <td>306000</td>\n",
       "      <td>307000</td>\n",
       "      <td>301500</td>\n",
       "      <td>302000</td>\n",
       "      <td>225471</td>\n",
       "      <td>-0.028939</td>\n",
       "    </tr>\n",
       "    <tr>\n",
       "      <th>...</th>\n",
       "      <td>...</td>\n",
       "      <td>...</td>\n",
       "      <td>...</td>\n",
       "      <td>...</td>\n",
       "      <td>...</td>\n",
       "      <td>...</td>\n",
       "    </tr>\n",
       "    <tr>\n",
       "      <th>2020-12-28</th>\n",
       "      <td>818000</td>\n",
       "      <td>824000</td>\n",
       "      <td>807000</td>\n",
       "      <td>814000</td>\n",
       "      <td>264888</td>\n",
       "      <td>-0.004890</td>\n",
       "    </tr>\n",
       "    <tr>\n",
       "      <th>2020-12-29</th>\n",
       "      <td>817000</td>\n",
       "      <td>827000</td>\n",
       "      <td>805000</td>\n",
       "      <td>813000</td>\n",
       "      <td>392849</td>\n",
       "      <td>-0.001229</td>\n",
       "    </tr>\n",
       "    <tr>\n",
       "      <th>2020-12-30</th>\n",
       "      <td>813000</td>\n",
       "      <td>824000</td>\n",
       "      <td>805000</td>\n",
       "      <td>824000</td>\n",
       "      <td>339889</td>\n",
       "      <td>0.013530</td>\n",
       "    </tr>\n",
       "    <tr>\n",
       "      <th>2021-01-04</th>\n",
       "      <td>849000</td>\n",
       "      <td>900000</td>\n",
       "      <td>835000</td>\n",
       "      <td>889000</td>\n",
       "      <td>858451</td>\n",
       "      <td>0.078883</td>\n",
       "    </tr>\n",
       "    <tr>\n",
       "      <th>2021-01-05</th>\n",
       "      <td>891000</td>\n",
       "      <td>893000</td>\n",
       "      <td>875000</td>\n",
       "      <td>878000</td>\n",
       "      <td>276665</td>\n",
       "      <td>-0.012373</td>\n",
       "    </tr>\n",
       "  </tbody>\n",
       "</table>\n",
       "<p>250 rows × 6 columns</p>\n",
       "</div>"
      ],
      "text/plain": [
       "              Open    High     Low   Close  Volume    Change\n",
       "Date                                                        \n",
       "2020-01-02  321000  321000  313500  314000  139496 -0.011024\n",
       "2020-01-03  317000  318500  310500  311000  165030 -0.009554\n",
       "2020-01-06  308000  311000  306500  307000  138154 -0.012862\n",
       "2020-01-07  306000  313500  305000  311000  133788  0.013029\n",
       "2020-01-08  306000  307000  301500  302000  225471 -0.028939\n",
       "...            ...     ...     ...     ...     ...       ...\n",
       "2020-12-28  818000  824000  807000  814000  264888 -0.004890\n",
       "2020-12-29  817000  827000  805000  813000  392849 -0.001229\n",
       "2020-12-30  813000  824000  805000  824000  339889  0.013530\n",
       "2021-01-04  849000  900000  835000  889000  858451  0.078883\n",
       "2021-01-05  891000  893000  875000  878000  276665 -0.012373\n",
       "\n",
       "[250 rows x 6 columns]"
      ]
     },
     "execution_count": 89,
     "metadata": {},
     "output_type": "execute_result"
    }
   ],
   "source": [
    "# LG화학의 데이터를 가져옵니다.\n",
    "find_item_list(\"LG화학\")"
   ]
  },
  {
   "cell_type": "code",
   "execution_count": 91,
   "metadata": {
    "id": "r93FJRnk5HMU"
   },
   "outputs": [
    {
     "data": {
      "text/html": [
       "<div>\n",
       "<style scoped>\n",
       "    .dataframe tbody tr th:only-of-type {\n",
       "        vertical-align: middle;\n",
       "    }\n",
       "\n",
       "    .dataframe tbody tr th {\n",
       "        vertical-align: top;\n",
       "    }\n",
       "\n",
       "    .dataframe thead th {\n",
       "        text-align: right;\n",
       "    }\n",
       "</style>\n",
       "<table border=\"1\" class=\"dataframe\">\n",
       "  <thead>\n",
       "    <tr style=\"text-align: right;\">\n",
       "      <th></th>\n",
       "      <th>Open</th>\n",
       "      <th>High</th>\n",
       "      <th>Low</th>\n",
       "      <th>Close</th>\n",
       "      <th>Volume</th>\n",
       "      <th>Change</th>\n",
       "    </tr>\n",
       "    <tr>\n",
       "      <th>Date</th>\n",
       "      <th></th>\n",
       "      <th></th>\n",
       "      <th></th>\n",
       "      <th></th>\n",
       "      <th></th>\n",
       "      <th></th>\n",
       "    </tr>\n",
       "  </thead>\n",
       "  <tbody>\n",
       "    <tr>\n",
       "      <th>2020-10-15</th>\n",
       "      <td>270000</td>\n",
       "      <td>351000</td>\n",
       "      <td>253500</td>\n",
       "      <td>258000</td>\n",
       "      <td>6557212</td>\n",
       "      <td>NaN</td>\n",
       "    </tr>\n",
       "    <tr>\n",
       "      <th>2020-10-16</th>\n",
       "      <td>253000</td>\n",
       "      <td>253000</td>\n",
       "      <td>199000</td>\n",
       "      <td>200500</td>\n",
       "      <td>4504395</td>\n",
       "      <td>-0.222868</td>\n",
       "    </tr>\n",
       "    <tr>\n",
       "      <th>2020-10-19</th>\n",
       "      <td>198500</td>\n",
       "      <td>202500</td>\n",
       "      <td>187000</td>\n",
       "      <td>189000</td>\n",
       "      <td>1977996</td>\n",
       "      <td>-0.057357</td>\n",
       "    </tr>\n",
       "    <tr>\n",
       "      <th>2020-10-20</th>\n",
       "      <td>190000</td>\n",
       "      <td>193500</td>\n",
       "      <td>176000</td>\n",
       "      <td>182500</td>\n",
       "      <td>1811616</td>\n",
       "      <td>-0.034392</td>\n",
       "    </tr>\n",
       "    <tr>\n",
       "      <th>2020-10-21</th>\n",
       "      <td>180500</td>\n",
       "      <td>185500</td>\n",
       "      <td>177000</td>\n",
       "      <td>179000</td>\n",
       "      <td>1658643</td>\n",
       "      <td>-0.019178</td>\n",
       "    </tr>\n",
       "    <tr>\n",
       "      <th>2020-10-22</th>\n",
       "      <td>176500</td>\n",
       "      <td>185000</td>\n",
       "      <td>175500</td>\n",
       "      <td>180000</td>\n",
       "      <td>1193994</td>\n",
       "      <td>0.005587</td>\n",
       "    </tr>\n",
       "    <tr>\n",
       "      <th>2020-10-23</th>\n",
       "      <td>183000</td>\n",
       "      <td>184000</td>\n",
       "      <td>171500</td>\n",
       "      <td>172500</td>\n",
       "      <td>905547</td>\n",
       "      <td>-0.041667</td>\n",
       "    </tr>\n",
       "    <tr>\n",
       "      <th>2020-10-26</th>\n",
       "      <td>173000</td>\n",
       "      <td>173500</td>\n",
       "      <td>156000</td>\n",
       "      <td>156000</td>\n",
       "      <td>987951</td>\n",
       "      <td>-0.095652</td>\n",
       "    </tr>\n",
       "    <tr>\n",
       "      <th>2020-10-27</th>\n",
       "      <td>154500</td>\n",
       "      <td>166000</td>\n",
       "      <td>152500</td>\n",
       "      <td>162500</td>\n",
       "      <td>1118487</td>\n",
       "      <td>0.041667</td>\n",
       "    </tr>\n",
       "    <tr>\n",
       "      <th>2020-10-28</th>\n",
       "      <td>161500</td>\n",
       "      <td>163500</td>\n",
       "      <td>157500</td>\n",
       "      <td>158500</td>\n",
       "      <td>581195</td>\n",
       "      <td>-0.024615</td>\n",
       "    </tr>\n",
       "    <tr>\n",
       "      <th>2020-10-29</th>\n",
       "      <td>155500</td>\n",
       "      <td>161500</td>\n",
       "      <td>154500</td>\n",
       "      <td>157000</td>\n",
       "      <td>518248</td>\n",
       "      <td>-0.009464</td>\n",
       "    </tr>\n",
       "    <tr>\n",
       "      <th>2020-10-30</th>\n",
       "      <td>149000</td>\n",
       "      <td>151500</td>\n",
       "      <td>142000</td>\n",
       "      <td>142000</td>\n",
       "      <td>1142310</td>\n",
       "      <td>-0.095541</td>\n",
       "    </tr>\n",
       "    <tr>\n",
       "      <th>2020-11-02</th>\n",
       "      <td>142500</td>\n",
       "      <td>146500</td>\n",
       "      <td>141000</td>\n",
       "      <td>143500</td>\n",
       "      <td>412881</td>\n",
       "      <td>0.010563</td>\n",
       "    </tr>\n",
       "    <tr>\n",
       "      <th>2020-11-03</th>\n",
       "      <td>144500</td>\n",
       "      <td>152000</td>\n",
       "      <td>144500</td>\n",
       "      <td>152000</td>\n",
       "      <td>689435</td>\n",
       "      <td>0.059233</td>\n",
       "    </tr>\n",
       "    <tr>\n",
       "      <th>2020-11-04</th>\n",
       "      <td>153500</td>\n",
       "      <td>153500</td>\n",
       "      <td>147000</td>\n",
       "      <td>149000</td>\n",
       "      <td>329773</td>\n",
       "      <td>-0.019737</td>\n",
       "    </tr>\n",
       "    <tr>\n",
       "      <th>2020-11-05</th>\n",
       "      <td>150500</td>\n",
       "      <td>173000</td>\n",
       "      <td>150000</td>\n",
       "      <td>164000</td>\n",
       "      <td>1565701</td>\n",
       "      <td>0.100671</td>\n",
       "    </tr>\n",
       "    <tr>\n",
       "      <th>2020-11-06</th>\n",
       "      <td>164500</td>\n",
       "      <td>166000</td>\n",
       "      <td>159500</td>\n",
       "      <td>162000</td>\n",
       "      <td>413106</td>\n",
       "      <td>-0.012195</td>\n",
       "    </tr>\n",
       "    <tr>\n",
       "      <th>2020-11-09</th>\n",
       "      <td>164000</td>\n",
       "      <td>169500</td>\n",
       "      <td>161000</td>\n",
       "      <td>163000</td>\n",
       "      <td>429226</td>\n",
       "      <td>0.006173</td>\n",
       "    </tr>\n",
       "    <tr>\n",
       "      <th>2020-11-10</th>\n",
       "      <td>168500</td>\n",
       "      <td>171500</td>\n",
       "      <td>166500</td>\n",
       "      <td>168000</td>\n",
       "      <td>491183</td>\n",
       "      <td>0.030675</td>\n",
       "    </tr>\n",
       "    <tr>\n",
       "      <th>2020-11-11</th>\n",
       "      <td>170500</td>\n",
       "      <td>172000</td>\n",
       "      <td>163000</td>\n",
       "      <td>164000</td>\n",
       "      <td>295999</td>\n",
       "      <td>-0.023810</td>\n",
       "    </tr>\n",
       "    <tr>\n",
       "      <th>2020-11-12</th>\n",
       "      <td>164000</td>\n",
       "      <td>164000</td>\n",
       "      <td>156000</td>\n",
       "      <td>157500</td>\n",
       "      <td>326268</td>\n",
       "      <td>-0.039634</td>\n",
       "    </tr>\n",
       "    <tr>\n",
       "      <th>2020-11-13</th>\n",
       "      <td>156500</td>\n",
       "      <td>162500</td>\n",
       "      <td>156000</td>\n",
       "      <td>160000</td>\n",
       "      <td>224605</td>\n",
       "      <td>0.015873</td>\n",
       "    </tr>\n",
       "    <tr>\n",
       "      <th>2020-11-16</th>\n",
       "      <td>155500</td>\n",
       "      <td>172000</td>\n",
       "      <td>154500</td>\n",
       "      <td>171500</td>\n",
       "      <td>1162127</td>\n",
       "      <td>0.071875</td>\n",
       "    </tr>\n",
       "    <tr>\n",
       "      <th>2020-11-17</th>\n",
       "      <td>169000</td>\n",
       "      <td>183000</td>\n",
       "      <td>165500</td>\n",
       "      <td>179500</td>\n",
       "      <td>925185</td>\n",
       "      <td>0.046647</td>\n",
       "    </tr>\n",
       "    <tr>\n",
       "      <th>2020-11-18</th>\n",
       "      <td>181500</td>\n",
       "      <td>185500</td>\n",
       "      <td>178000</td>\n",
       "      <td>181500</td>\n",
       "      <td>418979</td>\n",
       "      <td>0.011142</td>\n",
       "    </tr>\n",
       "    <tr>\n",
       "      <th>2020-11-19</th>\n",
       "      <td>181500</td>\n",
       "      <td>182500</td>\n",
       "      <td>176000</td>\n",
       "      <td>180000</td>\n",
       "      <td>287615</td>\n",
       "      <td>-0.008264</td>\n",
       "    </tr>\n",
       "    <tr>\n",
       "      <th>2020-11-20</th>\n",
       "      <td>182000</td>\n",
       "      <td>193000</td>\n",
       "      <td>178000</td>\n",
       "      <td>184500</td>\n",
       "      <td>822190</td>\n",
       "      <td>0.025000</td>\n",
       "    </tr>\n",
       "    <tr>\n",
       "      <th>2020-11-23</th>\n",
       "      <td>185000</td>\n",
       "      <td>186000</td>\n",
       "      <td>178000</td>\n",
       "      <td>180000</td>\n",
       "      <td>404421</td>\n",
       "      <td>-0.024390</td>\n",
       "    </tr>\n",
       "    <tr>\n",
       "      <th>2020-11-24</th>\n",
       "      <td>181000</td>\n",
       "      <td>181500</td>\n",
       "      <td>174000</td>\n",
       "      <td>181000</td>\n",
       "      <td>387623</td>\n",
       "      <td>0.005556</td>\n",
       "    </tr>\n",
       "    <tr>\n",
       "      <th>2020-11-25</th>\n",
       "      <td>183500</td>\n",
       "      <td>184500</td>\n",
       "      <td>172500</td>\n",
       "      <td>174000</td>\n",
       "      <td>441052</td>\n",
       "      <td>-0.038674</td>\n",
       "    </tr>\n",
       "    <tr>\n",
       "      <th>2020-11-26</th>\n",
       "      <td>177000</td>\n",
       "      <td>181500</td>\n",
       "      <td>175000</td>\n",
       "      <td>176000</td>\n",
       "      <td>343663</td>\n",
       "      <td>0.011494</td>\n",
       "    </tr>\n",
       "    <tr>\n",
       "      <th>2020-11-27</th>\n",
       "      <td>178000</td>\n",
       "      <td>178500</td>\n",
       "      <td>175000</td>\n",
       "      <td>178000</td>\n",
       "      <td>128351</td>\n",
       "      <td>0.011364</td>\n",
       "    </tr>\n",
       "    <tr>\n",
       "      <th>2020-11-30</th>\n",
       "      <td>178000</td>\n",
       "      <td>181000</td>\n",
       "      <td>176500</td>\n",
       "      <td>179500</td>\n",
       "      <td>177706</td>\n",
       "      <td>0.008427</td>\n",
       "    </tr>\n",
       "    <tr>\n",
       "      <th>2020-12-01</th>\n",
       "      <td>182500</td>\n",
       "      <td>185000</td>\n",
       "      <td>179500</td>\n",
       "      <td>181000</td>\n",
       "      <td>328175</td>\n",
       "      <td>0.008357</td>\n",
       "    </tr>\n",
       "    <tr>\n",
       "      <th>2020-12-02</th>\n",
       "      <td>183000</td>\n",
       "      <td>183000</td>\n",
       "      <td>180000</td>\n",
       "      <td>182000</td>\n",
       "      <td>195743</td>\n",
       "      <td>0.005525</td>\n",
       "    </tr>\n",
       "    <tr>\n",
       "      <th>2020-12-03</th>\n",
       "      <td>183500</td>\n",
       "      <td>190500</td>\n",
       "      <td>182000</td>\n",
       "      <td>189500</td>\n",
       "      <td>666358</td>\n",
       "      <td>0.041209</td>\n",
       "    </tr>\n",
       "    <tr>\n",
       "      <th>2020-12-04</th>\n",
       "      <td>189000</td>\n",
       "      <td>189500</td>\n",
       "      <td>185000</td>\n",
       "      <td>187500</td>\n",
       "      <td>258344</td>\n",
       "      <td>-0.010554</td>\n",
       "    </tr>\n",
       "    <tr>\n",
       "      <th>2020-12-07</th>\n",
       "      <td>188500</td>\n",
       "      <td>188500</td>\n",
       "      <td>180000</td>\n",
       "      <td>180500</td>\n",
       "      <td>254368</td>\n",
       "      <td>-0.037333</td>\n",
       "    </tr>\n",
       "    <tr>\n",
       "      <th>2020-12-08</th>\n",
       "      <td>180000</td>\n",
       "      <td>183500</td>\n",
       "      <td>177000</td>\n",
       "      <td>182000</td>\n",
       "      <td>203373</td>\n",
       "      <td>0.008310</td>\n",
       "    </tr>\n",
       "    <tr>\n",
       "      <th>2020-12-09</th>\n",
       "      <td>183000</td>\n",
       "      <td>183000</td>\n",
       "      <td>180000</td>\n",
       "      <td>180000</td>\n",
       "      <td>156872</td>\n",
       "      <td>-0.010989</td>\n",
       "    </tr>\n",
       "    <tr>\n",
       "      <th>2020-12-10</th>\n",
       "      <td>179000</td>\n",
       "      <td>181500</td>\n",
       "      <td>177000</td>\n",
       "      <td>181500</td>\n",
       "      <td>388533</td>\n",
       "      <td>0.008333</td>\n",
       "    </tr>\n",
       "    <tr>\n",
       "      <th>2020-12-11</th>\n",
       "      <td>182000</td>\n",
       "      <td>182000</td>\n",
       "      <td>179000</td>\n",
       "      <td>180500</td>\n",
       "      <td>143946</td>\n",
       "      <td>-0.005510</td>\n",
       "    </tr>\n",
       "    <tr>\n",
       "      <th>2020-12-14</th>\n",
       "      <td>179500</td>\n",
       "      <td>179500</td>\n",
       "      <td>175000</td>\n",
       "      <td>175500</td>\n",
       "      <td>197662</td>\n",
       "      <td>-0.027701</td>\n",
       "    </tr>\n",
       "    <tr>\n",
       "      <th>2020-12-15</th>\n",
       "      <td>175500</td>\n",
       "      <td>175500</td>\n",
       "      <td>170500</td>\n",
       "      <td>172000</td>\n",
       "      <td>152204</td>\n",
       "      <td>-0.019943</td>\n",
       "    </tr>\n",
       "    <tr>\n",
       "      <th>2020-12-16</th>\n",
       "      <td>173000</td>\n",
       "      <td>174000</td>\n",
       "      <td>171000</td>\n",
       "      <td>173000</td>\n",
       "      <td>97010</td>\n",
       "      <td>0.005814</td>\n",
       "    </tr>\n",
       "    <tr>\n",
       "      <th>2020-12-17</th>\n",
       "      <td>169000</td>\n",
       "      <td>169000</td>\n",
       "      <td>160500</td>\n",
       "      <td>161500</td>\n",
       "      <td>1122966</td>\n",
       "      <td>-0.066474</td>\n",
       "    </tr>\n",
       "    <tr>\n",
       "      <th>2020-12-18</th>\n",
       "      <td>162500</td>\n",
       "      <td>164000</td>\n",
       "      <td>160500</td>\n",
       "      <td>162000</td>\n",
       "      <td>162232</td>\n",
       "      <td>0.003096</td>\n",
       "    </tr>\n",
       "    <tr>\n",
       "      <th>2020-12-21</th>\n",
       "      <td>162000</td>\n",
       "      <td>162000</td>\n",
       "      <td>157000</td>\n",
       "      <td>158500</td>\n",
       "      <td>161286</td>\n",
       "      <td>-0.021605</td>\n",
       "    </tr>\n",
       "    <tr>\n",
       "      <th>2020-12-22</th>\n",
       "      <td>157500</td>\n",
       "      <td>158500</td>\n",
       "      <td>154000</td>\n",
       "      <td>154500</td>\n",
       "      <td>166164</td>\n",
       "      <td>-0.025237</td>\n",
       "    </tr>\n",
       "    <tr>\n",
       "      <th>2020-12-23</th>\n",
       "      <td>154500</td>\n",
       "      <td>158000</td>\n",
       "      <td>152500</td>\n",
       "      <td>153000</td>\n",
       "      <td>149781</td>\n",
       "      <td>-0.009709</td>\n",
       "    </tr>\n",
       "    <tr>\n",
       "      <th>2020-12-24</th>\n",
       "      <td>153000</td>\n",
       "      <td>158500</td>\n",
       "      <td>151500</td>\n",
       "      <td>158000</td>\n",
       "      <td>132612</td>\n",
       "      <td>0.032680</td>\n",
       "    </tr>\n",
       "    <tr>\n",
       "      <th>2020-12-28</th>\n",
       "      <td>158500</td>\n",
       "      <td>159000</td>\n",
       "      <td>155000</td>\n",
       "      <td>156500</td>\n",
       "      <td>115532</td>\n",
       "      <td>-0.009494</td>\n",
       "    </tr>\n",
       "    <tr>\n",
       "      <th>2020-12-29</th>\n",
       "      <td>156500</td>\n",
       "      <td>160500</td>\n",
       "      <td>155000</td>\n",
       "      <td>158500</td>\n",
       "      <td>110675</td>\n",
       "      <td>0.012780</td>\n",
       "    </tr>\n",
       "    <tr>\n",
       "      <th>2020-12-30</th>\n",
       "      <td>158500</td>\n",
       "      <td>161000</td>\n",
       "      <td>157500</td>\n",
       "      <td>160000</td>\n",
       "      <td>117495</td>\n",
       "      <td>0.009464</td>\n",
       "    </tr>\n",
       "    <tr>\n",
       "      <th>2021-01-04</th>\n",
       "      <td>160000</td>\n",
       "      <td>160500</td>\n",
       "      <td>156000</td>\n",
       "      <td>158000</td>\n",
       "      <td>152926</td>\n",
       "      <td>-0.012500</td>\n",
       "    </tr>\n",
       "    <tr>\n",
       "      <th>2021-01-05</th>\n",
       "      <td>157000</td>\n",
       "      <td>157500</td>\n",
       "      <td>155500</td>\n",
       "      <td>156000</td>\n",
       "      <td>125137</td>\n",
       "      <td>-0.012658</td>\n",
       "    </tr>\n",
       "  </tbody>\n",
       "</table>\n",
       "</div>"
      ],
      "text/plain": [
       "              Open    High     Low   Close   Volume    Change\n",
       "Date                                                         \n",
       "2020-10-15  270000  351000  253500  258000  6557212       NaN\n",
       "2020-10-16  253000  253000  199000  200500  4504395 -0.222868\n",
       "2020-10-19  198500  202500  187000  189000  1977996 -0.057357\n",
       "2020-10-20  190000  193500  176000  182500  1811616 -0.034392\n",
       "2020-10-21  180500  185500  177000  179000  1658643 -0.019178\n",
       "2020-10-22  176500  185000  175500  180000  1193994  0.005587\n",
       "2020-10-23  183000  184000  171500  172500   905547 -0.041667\n",
       "2020-10-26  173000  173500  156000  156000   987951 -0.095652\n",
       "2020-10-27  154500  166000  152500  162500  1118487  0.041667\n",
       "2020-10-28  161500  163500  157500  158500   581195 -0.024615\n",
       "2020-10-29  155500  161500  154500  157000   518248 -0.009464\n",
       "2020-10-30  149000  151500  142000  142000  1142310 -0.095541\n",
       "2020-11-02  142500  146500  141000  143500   412881  0.010563\n",
       "2020-11-03  144500  152000  144500  152000   689435  0.059233\n",
       "2020-11-04  153500  153500  147000  149000   329773 -0.019737\n",
       "2020-11-05  150500  173000  150000  164000  1565701  0.100671\n",
       "2020-11-06  164500  166000  159500  162000   413106 -0.012195\n",
       "2020-11-09  164000  169500  161000  163000   429226  0.006173\n",
       "2020-11-10  168500  171500  166500  168000   491183  0.030675\n",
       "2020-11-11  170500  172000  163000  164000   295999 -0.023810\n",
       "2020-11-12  164000  164000  156000  157500   326268 -0.039634\n",
       "2020-11-13  156500  162500  156000  160000   224605  0.015873\n",
       "2020-11-16  155500  172000  154500  171500  1162127  0.071875\n",
       "2020-11-17  169000  183000  165500  179500   925185  0.046647\n",
       "2020-11-18  181500  185500  178000  181500   418979  0.011142\n",
       "2020-11-19  181500  182500  176000  180000   287615 -0.008264\n",
       "2020-11-20  182000  193000  178000  184500   822190  0.025000\n",
       "2020-11-23  185000  186000  178000  180000   404421 -0.024390\n",
       "2020-11-24  181000  181500  174000  181000   387623  0.005556\n",
       "2020-11-25  183500  184500  172500  174000   441052 -0.038674\n",
       "2020-11-26  177000  181500  175000  176000   343663  0.011494\n",
       "2020-11-27  178000  178500  175000  178000   128351  0.011364\n",
       "2020-11-30  178000  181000  176500  179500   177706  0.008427\n",
       "2020-12-01  182500  185000  179500  181000   328175  0.008357\n",
       "2020-12-02  183000  183000  180000  182000   195743  0.005525\n",
       "2020-12-03  183500  190500  182000  189500   666358  0.041209\n",
       "2020-12-04  189000  189500  185000  187500   258344 -0.010554\n",
       "2020-12-07  188500  188500  180000  180500   254368 -0.037333\n",
       "2020-12-08  180000  183500  177000  182000   203373  0.008310\n",
       "2020-12-09  183000  183000  180000  180000   156872 -0.010989\n",
       "2020-12-10  179000  181500  177000  181500   388533  0.008333\n",
       "2020-12-11  182000  182000  179000  180500   143946 -0.005510\n",
       "2020-12-14  179500  179500  175000  175500   197662 -0.027701\n",
       "2020-12-15  175500  175500  170500  172000   152204 -0.019943\n",
       "2020-12-16  173000  174000  171000  173000    97010  0.005814\n",
       "2020-12-17  169000  169000  160500  161500  1122966 -0.066474\n",
       "2020-12-18  162500  164000  160500  162000   162232  0.003096\n",
       "2020-12-21  162000  162000  157000  158500   161286 -0.021605\n",
       "2020-12-22  157500  158500  154000  154500   166164 -0.025237\n",
       "2020-12-23  154500  158000  152500  153000   149781 -0.009709\n",
       "2020-12-24  153000  158500  151500  158000   132612  0.032680\n",
       "2020-12-28  158500  159000  155000  156500   115532 -0.009494\n",
       "2020-12-29  156500  160500  155000  158500   110675  0.012780\n",
       "2020-12-30  158500  161000  157500  160000   117495  0.009464\n",
       "2021-01-04  160000  160500  156000  158000   152926 -0.012500\n",
       "2021-01-05  157000  157500  155500  156000   125137 -0.012658"
      ]
     },
     "execution_count": 91,
     "metadata": {},
     "output_type": "execute_result"
    }
   ],
   "source": [
    "# 빅히트의 데이터를 가져옵니다.\n",
    "# stock_daily 변수에 담습니다.\n",
    "stock_daily = find_item_list(\"빅히트\")\n",
    "stock_daily"
   ]
  },
  {
   "cell_type": "markdown",
   "metadata": {},
   "source": [
    "## 개별종목 시세 시각화\n",
    "### pandas 의 plot으로 시각화 하기"
   ]
  },
  {
   "cell_type": "code",
   "execution_count": 106,
   "metadata": {},
   "outputs": [
    {
     "data": {
      "text/plain": [
       "<matplotlib.axes._subplots.AxesSubplot at 0x7fcce1e0d090>"
      ]
     },
     "execution_count": 106,
     "metadata": {},
     "output_type": "execute_result"
    },
    {
     "data": {
      "image/png": "[encoded data removed]",
      "text/plain": [
       "<Figure size 432x288 with 1 Axes>"
      ]
     },
     "metadata": {
      "needs_background": "light"
     },
     "output_type": "display_data"
    }
   ],
   "source": [
    "# stock_daily 변수에 할당된 수집된 데이터의 종가 그래프를 그립니다.\n",
    "stock_daily[\"Close\"].plot()"
   ]
  },
  {
   "cell_type": "code",
   "execution_count": 108,
   "metadata": {},
   "outputs": [
    {
     "data": {
      "text/plain": [
       "<matplotlib.axes._subplots.AxesSubplot at 0x7fcce1e887d0>"
      ]
     },
     "execution_count": 108,
     "metadata": {},
     "output_type": "execute_result"
    },
    {
     "data": {
      "image/png": "[encoded data removed]",
      "text/plain": [
       "<Figure size 432x288 with 1 Axes>"
      ]
     },
     "metadata": {
      "needs_background": "light"
     },
     "output_type": "display_data"
    }
   ],
   "source": [
    "# 전체 데이터프레임을 plot() 으로 시각화 하면 수치 데이터 전체를 선그래프로 그립니다.\n",
    "stock_daily.plot()"
   ]
  },
  {
   "cell_type": "markdown",
   "metadata": {},
   "source": [
    "### 서브플롯 그리기"
   ]
  },
  {
   "cell_type": "code",
   "execution_count": 112,
   "metadata": {
    "id": "0TThx3Vq5HMU"
   },
   "outputs": [
    {
     "data": {
      "image/png": "[encoded data removed]",
      "text/plain": [
       "<Figure size 720x576 with 6 Axes>"
      ]
     },
     "metadata": {
      "needs_background": "light"
     },
     "output_type": "display_data"
    }
   ],
   "source": [
    "# 수집한 종목의 선그래프를 Pandas 로 그립니다.\n",
    "# 스케일이 다르기 때문에 subplots를 사용해 그려봅니다.\n",
    "g = stock_daily.plot(subplots=True, figsize=(10, 8))"
   ]
  },
  {
   "cell_type": "code",
   "execution_count": 119,
   "metadata": {},
   "outputs": [
    {
     "data": {
      "image/png": "[encoded data removed]",
      "text/plain": [
       "<Figure size 720x576 with 6 Axes>"
      ]
     },
     "metadata": {
      "needs_background": "light"
     },
     "output_type": "display_data"
    }
   ],
   "source": [
    "# 히스토그램 그리기\n",
    "h = stock_daily.hist(figsize=(10, 8), bins=20)"
   ]
  },
  {
   "cell_type": "markdown",
   "metadata": {},
   "source": [
    "### 2축 그래프 그리기"
   ]
  },
  {
   "cell_type": "code",
   "execution_count": 125,
   "metadata": {},
   "outputs": [
    {
     "data": {
      "text/plain": [
       "<matplotlib.axes._subplots.AxesSubplot at 0x7fcce17cc510>"
      ]
     },
     "execution_count": 125,
     "metadata": {},
     "output_type": "execute_result"
    },
    {
     "data": {
      "image/png": "[encoded data removed]",
      "text/plain": [
       "<Figure size 432x288 with 2 Axes>"
      ]
     },
     "metadata": {
      "needs_background": "light"
     },
     "output_type": "display_data"
    }
   ],
   "source": [
    "# secondary_y 옵션을 통한 종가와 거래량에 대한 2축 그래프 그리기\n",
    "stock_daily[[\"Close\", \"Volume\"]].plot(secondary_y=\"Volume\")"
   ]
  },
  {
   "cell_type": "markdown",
   "metadata": {},
   "source": [
    "### 과학적 기수법\n",
    "* 참고 : E notation\n",
    "[과학적 기수법 - 위키백과, 우리 모두의 백과사전](https://ko.wikipedia.org/wiki/%EA%B3%BC%ED%95%99%EC%A0%81_%EA%B8%B0%EC%88%98%EB%B2%95)\n",
    "\n",
    "과학적 기수법, 과학적 표기법(scientific notation, scientific form, standard index form, standard form)은 너무 크거나 너무 작은 숫자들을 십진법으로 편하게 작성하여 표현하는 방법이다. 과학자, 수학자, 공학자들이 공통적으로 사용하는데, 부분적인 이유는 특정한 산술을 단순화시켜 주기 때문이다. 과학 계산기에서는 \"SCI\" 디스플레이 모드라는 이름으로 알려져 있다."
   ]
  },
  {
   "cell_type": "code",
   "execution_count": 127,
   "metadata": {},
   "outputs": [
    {
     "data": {
      "text/plain": [
       "'1,000,000.0'"
      ]
     },
     "execution_count": 127,
     "metadata": {},
     "output_type": "execute_result"
    }
   ],
   "source": [
    "format(1e6, \",\")"
   ]
  },
  {
   "cell_type": "code",
   "execution_count": 129,
   "metadata": {},
   "outputs": [
    {
     "data": {
      "text/plain": [
       "'1,000,000'"
      ]
     },
     "execution_count": 129,
     "metadata": {},
     "output_type": "execute_result"
    }
   ],
   "source": [
    "format(10**6,\",\")"
   ]
  },
  {
   "cell_type": "code",
   "execution_count": 130,
   "metadata": {},
   "outputs": [
    {
     "data": {
      "text/html": [
       "<div>\n",
       "<style scoped>\n",
       "    .dataframe tbody tr th:only-of-type {\n",
       "        vertical-align: middle;\n",
       "    }\n",
       "\n",
       "    .dataframe tbody tr th {\n",
       "        vertical-align: top;\n",
       "    }\n",
       "\n",
       "    .dataframe thead th {\n",
       "        text-align: right;\n",
       "    }\n",
       "</style>\n",
       "<table border=\"1\" class=\"dataframe\">\n",
       "  <thead>\n",
       "    <tr style=\"text-align: right;\">\n",
       "      <th></th>\n",
       "      <th>Open</th>\n",
       "      <th>High</th>\n",
       "      <th>Low</th>\n",
       "      <th>Close</th>\n",
       "      <th>Volume</th>\n",
       "      <th>Change</th>\n",
       "    </tr>\n",
       "  </thead>\n",
       "  <tbody>\n",
       "    <tr>\n",
       "      <th>count</th>\n",
       "      <td>56.000000</td>\n",
       "      <td>56.000000</td>\n",
       "      <td>56.000000</td>\n",
       "      <td>56.000000</td>\n",
       "      <td>5.600000e+01</td>\n",
       "      <td>55.000000</td>\n",
       "    </tr>\n",
       "    <tr>\n",
       "      <th>mean</th>\n",
       "      <td>173276.785714</td>\n",
       "      <td>178107.142857</td>\n",
       "      <td>167866.071429</td>\n",
       "      <td>171205.357143</td>\n",
       "      <td>6.998942e+05</td>\n",
       "      <td>-0.007993</td>\n",
       "    </tr>\n",
       "    <tr>\n",
       "      <th>std</th>\n",
       "      <td>21667.722044</td>\n",
       "      <td>28720.552395</td>\n",
       "      <td>17344.763703</td>\n",
       "      <td>17475.899453</td>\n",
       "      <td>1.066315e+06</td>\n",
       "      <td>0.045925</td>\n",
       "    </tr>\n",
       "    <tr>\n",
       "      <th>min</th>\n",
       "      <td>142500.000000</td>\n",
       "      <td>146500.000000</td>\n",
       "      <td>141000.000000</td>\n",
       "      <td>142000.000000</td>\n",
       "      <td>9.701000e+04</td>\n",
       "      <td>-0.222868</td>\n",
       "    </tr>\n",
       "    <tr>\n",
       "      <th>25%</th>\n",
       "      <td>158250.000000</td>\n",
       "      <td>162375.000000</td>\n",
       "      <td>155875.000000</td>\n",
       "      <td>158500.000000</td>\n",
       "      <td>1.651810e+05</td>\n",
       "      <td>-0.024100</td>\n",
       "    </tr>\n",
       "    <tr>\n",
       "      <th>50%</th>\n",
       "      <td>173000.000000</td>\n",
       "      <td>174750.000000</td>\n",
       "      <td>168500.000000</td>\n",
       "      <td>172250.000000</td>\n",
       "      <td>3.656430e+05</td>\n",
       "      <td>-0.008264</td>\n",
       "    </tr>\n",
       "    <tr>\n",
       "      <th>75%</th>\n",
       "      <td>182000.000000</td>\n",
       "      <td>184125.000000</td>\n",
       "      <td>177000.000000</td>\n",
       "      <td>180500.000000</td>\n",
       "      <td>8.430292e+05</td>\n",
       "      <td>0.010853</td>\n",
       "    </tr>\n",
       "    <tr>\n",
       "      <th>max</th>\n",
       "      <td>270000.000000</td>\n",
       "      <td>351000.000000</td>\n",
       "      <td>253500.000000</td>\n",
       "      <td>258000.000000</td>\n",
       "      <td>6.557212e+06</td>\n",
       "      <td>0.100671</td>\n",
       "    </tr>\n",
       "  </tbody>\n",
       "</table>\n",
       "</div>"
      ],
      "text/plain": [
       "                Open           High            Low          Close  \\\n",
       "count      56.000000      56.000000      56.000000      56.000000   \n",
       "mean   173276.785714  178107.142857  167866.071429  171205.357143   \n",
       "std     21667.722044   28720.552395   17344.763703   17475.899453   \n",
       "min    142500.000000  146500.000000  141000.000000  142000.000000   \n",
       "25%    158250.000000  162375.000000  155875.000000  158500.000000   \n",
       "50%    173000.000000  174750.000000  168500.000000  172250.000000   \n",
       "75%    182000.000000  184125.000000  177000.000000  180500.000000   \n",
       "max    270000.000000  351000.000000  253500.000000  258000.000000   \n",
       "\n",
       "             Volume     Change  \n",
       "count  5.600000e+01  55.000000  \n",
       "mean   6.998942e+05  -0.007993  \n",
       "std    1.066315e+06   0.045925  \n",
       "min    9.701000e+04  -0.222868  \n",
       "25%    1.651810e+05  -0.024100  \n",
       "50%    3.656430e+05  -0.008264  \n",
       "75%    8.430292e+05   0.010853  \n",
       "max    6.557212e+06   0.100671  "
      ]
     },
     "execution_count": 130,
     "metadata": {},
     "output_type": "execute_result"
    }
   ],
   "source": [
    "stock_daily.describe()"
   ]
  },
  {
   "cell_type": "code",
   "execution_count": null,
   "metadata": {},
   "outputs": [],
   "source": []
  },
  {
   "cell_type": "code",
   "execution_count": null,
   "metadata": {},
   "outputs": [],
   "source": []
  },
  {
   "cell_type": "code",
   "execution_count": null,
   "metadata": {},
   "outputs": [],
   "source": []
  },
  {
   "cell_type": "code",
   "execution_count": null,
   "metadata": {},
   "outputs": [],
   "source": []
  },
  {
   "cell_type": "code",
   "execution_count": null,
   "metadata": {},
   "outputs": [],
   "source": []
  }
 ],
 "metadata": {
  "colab": {
   "collapsed_sections": [],
   "name": "2. FinanceDataReader를 통한 개별종목 수집하기.ipynb",
   "provenance": []
  },
  "kernelspec": {
   "display_name": "Python 3",
   "language": "python",
   "name": "python3"
  },
  "language_info": {
   "codemirror_mode": {
    "name": "ipython",
    "version": 3
   },
   "file_extension": ".py",
   "mimetype": "text/x-python",
   "name": "python",
   "nbconvert_exporter": "python",
   "pygments_lexer": "ipython3",
   "version": "3.7.6"
  },
  "toc": {
   "base_numbering": 1,
   "nav_menu": {},
   "number_sections": true,
   "sideBar": true,
   "skip_h1_title": false,
   "title_cell": "Table of Contents",
   "title_sidebar": "Contents",
   "toc_cell": false,
   "toc_position": {
    "height": "calc(100% - 180px)",
    "left": "10px",
    "top": "150px",
    "width": "256px"
   },
   "toc_section_display": true,
   "toc_window_display": true
  },
  "varInspector": {
   "cols": {
    "lenName": 16,
    "lenType": 16,
    "lenVar": 40
   },
   "kernels_config": {
    "python": {
     "delete_cmd_postfix": "",
     "delete_cmd_prefix": "del ",
     "library": "var_list.py",
     "varRefreshCmd": "print(var_dic_list())"
    },
    "r": {
     "delete_cmd_postfix": ") ",
     "delete_cmd_prefix": "rm(",
     "library": "var_list.r",
     "varRefreshCmd": "cat(var_dic_list()) "
    }
   },
   "types_to_exclude": [
    "module",
    "function",
    "builtin_function_or_method",
    "instance",
    "_Feature"
   ],
   "window_display": false
  }
 },
 "nbformat": 4,
 "nbformat_minor": 1
}
