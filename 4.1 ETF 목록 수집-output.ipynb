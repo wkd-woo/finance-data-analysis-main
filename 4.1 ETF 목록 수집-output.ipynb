{
 "cells": [
  {
   "cell_type": "markdown",
   "metadata": {
    "id": "b6ZRO3Ic0jYm"
   },
   "source": [
    "[![Open In Colab](https://colab.research.google.com/assets/colab-badge.svg)](https://colab.research.google.com/github/corazzon/finance-data-analysis/blob/main/4.1%20ETF%20%EB%AA%A9%EB%A1%9D%20%EC%88%98%EC%A7%91-output.ipynb)\n",
    "\n",
    "\n",
    "## ETF란?\n",
    "* ETF(상장지수펀드)는 기초지수의 성과를 추적하는 것이 목표인 인덱스펀드로, 거래소에 상장되어 있어서 개별주식과 마찬가지로 기존의 주식계좌를 통해 거래를 할 수 있습니다. 그 구성종목과 수량 등 자산구성내역(PDF)이 투명하게 공개되어 있고, 장중에는 실시간으로 순자산가치(NAV)가 제공되어 거래에 참고하실 수 있습니다. ETF는 1좌를 거래할 수 있는 최소한의 금액만으로 분산투자 효과를 누릴 수 있어 효율적인 투자수단이며, 펀드보다 운용보수가 낮고 주식에 적용되는 거래세도 붙지 않습니다. \n",
    "    * 출처 : [ETF : 네이버 금융](https://finance.naver.com/sise/etf.nhn)\n",
    "\n",
    "\n",
    "## 크롬 브라우저의 네트워크 정보를 통한 데이터 수집\n",
    "* json 데이터 수집과 파일저장 방법\n",
    "\n",
    "* [ETF : 네이버 금융](https://finance.naver.com/sise/etf.nhn)\n",
    "\n"
   ]
  },
  {
   "cell_type": "code",
   "execution_count": 1,
   "metadata": {
    "id": "RzS961AR0jYn"
   },
   "outputs": [],
   "source": [
    "# 라이브러리를 불러옵니다.\n",
    "# 데이터 분석을 위한 pandas, 수치계산을 위한 numpy, http 요청을 위한 requests를 받아옵니다.\n",
    "import pandas as pd\n",
    "import numpy as np\n",
    "import requests"
   ]
  },
  {
   "cell_type": "code",
   "execution_count": 2,
   "metadata": {
    "id": "tNPvs5c50jYn"
   },
   "outputs": [],
   "source": [
    "# 수집할 url을 가져옵니다.\n",
    "url = \"https://finance.naver.com/api/sise/etfItemList.nhn?etfType=0&targetColumn=market_sum&sortOrder=desc\""
   ]
  },
  {
   "cell_type": "markdown",
   "metadata": {},
   "source": [
    "## Pandas를 통한 요청"
   ]
  },
  {
   "cell_type": "code",
   "execution_count": 3,
   "metadata": {},
   "outputs": [],
   "source": [
    "# pd.read_html(url)"
   ]
  },
  {
   "cell_type": "markdown",
   "metadata": {},
   "source": [
    "## JSON \n",
    "\n",
    "<img src=\"https://upload.wikimedia.org/wikipedia/commons/thumb/c/c9/JSON_vector_logo.svg/300px-JSON_vector_logo.svg.png\" width=\"100\">\n",
    "\n",
    "JSON(제이슨, JavaScript Object Notation)은 속성-값 쌍( attribute–value pairs and array data types (or any other serializable value)) 또는 \"키-값 쌍\"으로 이루어진 데이터 오브젝트를 전달하기 위해 인간이 읽을 수 있는 텍스트를 사용하는 개방형 표준 포맷이다. 비동기 브라우저/서버 통신 (AJAX)을 위해, 넓게는 XML(AJAX가 사용)을 대체하는 주요 데이터 포맷이다. 특히, 인터넷에서 자료를 주고 받을 때 그 자료를 표현하는 방법으로 알려져 있다. 자료의 종류에 큰 제한은 없으며, 특히 컴퓨터 프로그램의 변수값을 표현하는 데 적합하다.\n",
    "본래는 자바스크립트 언어로부터 파생되어 자바스크립트의 구문 형식을 따르지만 언어 독립형 데이터 포맷이다. 즉, 프로그래밍 언어나 플랫폼에 독립적이므로, 구문 분석 및 JSON 데이터 생성을 위한 코드는 C, C++, C#, 자바, 자바스크립트, 펄, 파이썬 등 수많은 프로그래밍 언어에서 쉽게 이용할 수 있다.\n",
    "\n",
    "* 출처 : [JSON - 위키백과, 우리 모두의 백과사전](https://ko.wikipedia.org/wiki/JSON)"
   ]
  },
  {
   "cell_type": "markdown",
   "metadata": {},
   "source": [
    "## requests를 통한 HTTP 요청\n",
    "* [Requests: HTTP for Humans™ — Requests documentation](https://requests.readthedocs.io/en/master/)"
   ]
  },
  {
   "cell_type": "code",
   "execution_count": 4,
   "metadata": {
    "id": "Cuo_DDk80jYn"
   },
   "outputs": [
    {
     "data": {
      "text/plain": [
       "<Response [200]>"
      ]
     },
     "execution_count": 4,
     "metadata": {},
     "output_type": "execute_result"
    }
   ],
   "source": [
    "# requests 라이브러리를 통해 url을 받아옵니다.\n",
    "response = requests.get(url)\n",
    "response"
   ]
  },
  {
   "cell_type": "code",
   "execution_count": 5,
   "metadata": {},
   "outputs": [],
   "source": [
    "# response.json()"
   ]
  },
  {
   "cell_type": "markdown",
   "metadata": {},
   "source": [
    "### JSON 타입으로 데이터 받기"
   ]
  },
  {
   "cell_type": "code",
   "execution_count": 6,
   "metadata": {
    "id": "BhFy-du10jYn",
    "scrolled": false
   },
   "outputs": [],
   "source": [
    "# requests 의 응답을 json 타입으로 받습니다.\n",
    "etf_json = response.json()\n",
    "# etf_json[\"result\"]"
   ]
  },
  {
   "cell_type": "markdown",
   "metadata": {},
   "source": [
    "### JSON 에서 원하는 데이터 찾기"
   ]
  },
  {
   "cell_type": "code",
   "execution_count": 7,
   "metadata": {
    "id": "5KX_Txxm0jYn"
   },
   "outputs": [
    {
     "data": {
      "text/plain": [
       "469"
      ]
     },
     "execution_count": 7,
     "metadata": {},
     "output_type": "execute_result"
    }
   ],
   "source": [
    "# result > etfItemList 의 하위 구조로 목록을 찾고자 하는 데이터를 가져옵니다.\n",
    "etfItemList = etf_json[\"result\"]['etfItemList']\n",
    "len(etfItemList)"
   ]
  },
  {
   "cell_type": "markdown",
   "metadata": {},
   "source": [
    "## 데이터프레임 변환\n",
    "### JSON 데이터를 pandas 의 데이터프레임 형태로 만들기"
   ]
  },
  {
   "cell_type": "code",
   "execution_count": 8,
   "metadata": {
    "id": "JCGehw-a0jYn"
   },
   "outputs": [
    {
     "data": {
      "text/plain": [
       "(469, 12)"
      ]
     },
     "execution_count": 8,
     "metadata": {},
     "output_type": "execute_result"
    }
   ],
   "source": [
    "# 키-값 형태의 데이터를 데이터프레임으로 만듭니다.\n",
    "df = pd.DataFrame(etfItemList)\n",
    "df.shape"
   ]
  },
  {
   "cell_type": "markdown",
   "metadata": {},
   "source": [
    "### 데이터 확인"
   ]
  },
  {
   "cell_type": "code",
   "execution_count": 9,
   "metadata": {
    "id": "H3t5Uj8-0jYn"
   },
   "outputs": [
    {
     "data": {
      "text/html": [
       "<div>\n",
       "<style scoped>\n",
       "    .dataframe tbody tr th:only-of-type {\n",
       "        vertical-align: middle;\n",
       "    }\n",
       "\n",
       "    .dataframe tbody tr th {\n",
       "        vertical-align: top;\n",
       "    }\n",
       "\n",
       "    .dataframe thead th {\n",
       "        text-align: right;\n",
       "    }\n",
       "</style>\n",
       "<table border=\"1\" class=\"dataframe\">\n",
       "  <thead>\n",
       "    <tr style=\"text-align: right;\">\n",
       "      <th></th>\n",
       "      <th>itemcode</th>\n",
       "      <th>etfTabCode</th>\n",
       "      <th>itemname</th>\n",
       "      <th>nowVal</th>\n",
       "      <th>risefall</th>\n",
       "      <th>changeVal</th>\n",
       "      <th>changeRate</th>\n",
       "      <th>nav</th>\n",
       "      <th>threeMonthEarnRate</th>\n",
       "      <th>quant</th>\n",
       "      <th>amonut</th>\n",
       "      <th>marketSum</th>\n",
       "    </tr>\n",
       "  </thead>\n",
       "  <tbody>\n",
       "    <tr>\n",
       "      <th>0</th>\n",
       "      <td>069500</td>\n",
       "      <td>1</td>\n",
       "      <td>KODEX 200</td>\n",
       "      <td>42120</td>\n",
       "      <td>5</td>\n",
       "      <td>-740</td>\n",
       "      <td>-1.73</td>\n",
       "      <td>42224.0</td>\n",
       "      <td>37.7970</td>\n",
       "      <td>7789305</td>\n",
       "      <td>328548</td>\n",
       "      <td>59789</td>\n",
       "    </tr>\n",
       "    <tr>\n",
       "      <th>1</th>\n",
       "      <td>102110</td>\n",
       "      <td>1</td>\n",
       "      <td>TIGER 200</td>\n",
       "      <td>41960</td>\n",
       "      <td>5</td>\n",
       "      <td>-720</td>\n",
       "      <td>-1.69</td>\n",
       "      <td>42058.0</td>\n",
       "      <td>37.7449</td>\n",
       "      <td>980293</td>\n",
       "      <td>41177</td>\n",
       "      <td>31218</td>\n",
       "    </tr>\n",
       "    <tr>\n",
       "      <th>2</th>\n",
       "      <td>252670</td>\n",
       "      <td>3</td>\n",
       "      <td>KODEX 200선물인버스2X</td>\n",
       "      <td>2170</td>\n",
       "      <td>2</td>\n",
       "      <td>85</td>\n",
       "      <td>4.08</td>\n",
       "      <td>2169.0</td>\n",
       "      <td>-49.6377</td>\n",
       "      <td>547890146</td>\n",
       "      <td>1182937</td>\n",
       "      <td>23041</td>\n",
       "    </tr>\n",
       "    <tr>\n",
       "      <th>3</th>\n",
       "      <td>153130</td>\n",
       "      <td>6</td>\n",
       "      <td>KODEX 단기채권</td>\n",
       "      <td>102670</td>\n",
       "      <td>2</td>\n",
       "      <td>5</td>\n",
       "      <td>0.00</td>\n",
       "      <td>102670.0</td>\n",
       "      <td>0.1170</td>\n",
       "      <td>20126</td>\n",
       "      <td>2066</td>\n",
       "      <td>17651</td>\n",
       "    </tr>\n",
       "    <tr>\n",
       "      <th>4</th>\n",
       "      <td>102780</td>\n",
       "      <td>2</td>\n",
       "      <td>KODEX 삼성그룹</td>\n",
       "      <td>10595</td>\n",
       "      <td>5</td>\n",
       "      <td>-275</td>\n",
       "      <td>-2.53</td>\n",
       "      <td>10578.0</td>\n",
       "      <td>42.0915</td>\n",
       "      <td>787649</td>\n",
       "      <td>8360</td>\n",
       "      <td>16835</td>\n",
       "    </tr>\n",
       "  </tbody>\n",
       "</table>\n",
       "</div>"
      ],
      "text/plain": [
       "  itemcode  etfTabCode          itemname  nowVal risefall  changeVal  \\\n",
       "0   069500           1         KODEX 200   42120        5       -740   \n",
       "1   102110           1         TIGER 200   41960        5       -720   \n",
       "2   252670           3  KODEX 200선물인버스2X    2170        2         85   \n",
       "3   153130           6        KODEX 단기채권  102670        2          5   \n",
       "4   102780           2        KODEX 삼성그룹   10595        5       -275   \n",
       "\n",
       "   changeRate       nav  threeMonthEarnRate      quant   amonut  marketSum  \n",
       "0       -1.73   42224.0             37.7970    7789305   328548      59789  \n",
       "1       -1.69   42058.0             37.7449     980293    41177      31218  \n",
       "2        4.08    2169.0            -49.6377  547890146  1182937      23041  \n",
       "3        0.00  102670.0              0.1170      20126     2066      17651  \n",
       "4       -2.53   10578.0             42.0915     787649     8360      16835  "
      ]
     },
     "execution_count": 9,
     "metadata": {},
     "output_type": "execute_result"
    }
   ],
   "source": [
    "# 데이터 프레임으로 잘 만들어 졌는지 상단 데이터의 일부만 미리보기 합니다.\n",
    "df.head()"
   ]
  },
  {
   "cell_type": "code",
   "execution_count": 10,
   "metadata": {
    "id": "CrEXrnVy0jYn"
   },
   "outputs": [
    {
     "data": {
      "text/html": [
       "<div>\n",
       "<style scoped>\n",
       "    .dataframe tbody tr th:only-of-type {\n",
       "        vertical-align: middle;\n",
       "    }\n",
       "\n",
       "    .dataframe tbody tr th {\n",
       "        vertical-align: top;\n",
       "    }\n",
       "\n",
       "    .dataframe thead th {\n",
       "        text-align: right;\n",
       "    }\n",
       "</style>\n",
       "<table border=\"1\" class=\"dataframe\">\n",
       "  <thead>\n",
       "    <tr style=\"text-align: right;\">\n",
       "      <th></th>\n",
       "      <th>itemcode</th>\n",
       "      <th>etfTabCode</th>\n",
       "      <th>itemname</th>\n",
       "      <th>nowVal</th>\n",
       "      <th>risefall</th>\n",
       "      <th>changeVal</th>\n",
       "      <th>changeRate</th>\n",
       "      <th>nav</th>\n",
       "      <th>threeMonthEarnRate</th>\n",
       "      <th>quant</th>\n",
       "      <th>amonut</th>\n",
       "      <th>marketSum</th>\n",
       "    </tr>\n",
       "  </thead>\n",
       "  <tbody>\n",
       "    <tr>\n",
       "      <th>464</th>\n",
       "      <td>285010</td>\n",
       "      <td>2</td>\n",
       "      <td>KBSTAR 200중공업</td>\n",
       "      <td>8480</td>\n",
       "      <td>5</td>\n",
       "      <td>-320</td>\n",
       "      <td>-3.64</td>\n",
       "      <td>8530.0</td>\n",
       "      <td>21.5469</td>\n",
       "      <td>1266</td>\n",
       "      <td>10</td>\n",
       "      <td>22</td>\n",
       "    </tr>\n",
       "    <tr>\n",
       "      <th>465</th>\n",
       "      <td>334700</td>\n",
       "      <td>5</td>\n",
       "      <td>KBSTAR 팔라듐선물인버스(H)</td>\n",
       "      <td>5355</td>\n",
       "      <td>2</td>\n",
       "      <td>35</td>\n",
       "      <td>0.66</td>\n",
       "      <td>NaN</td>\n",
       "      <td>0.6622</td>\n",
       "      <td>533</td>\n",
       "      <td>2</td>\n",
       "      <td>21</td>\n",
       "    </tr>\n",
       "    <tr>\n",
       "      <th>466</th>\n",
       "      <td>267500</td>\n",
       "      <td>4</td>\n",
       "      <td>KBSTAR 미국장기국채선물인버스2X(합성 H)</td>\n",
       "      <td>5860</td>\n",
       "      <td>5</td>\n",
       "      <td>-55</td>\n",
       "      <td>-0.93</td>\n",
       "      <td>NaN</td>\n",
       "      <td>4.5977</td>\n",
       "      <td>1801</td>\n",
       "      <td>10</td>\n",
       "      <td>18</td>\n",
       "    </tr>\n",
       "    <tr>\n",
       "      <th>467</th>\n",
       "      <td>285020</td>\n",
       "      <td>2</td>\n",
       "      <td>KBSTAR 200철강소재</td>\n",
       "      <td>7060</td>\n",
       "      <td>5</td>\n",
       "      <td>-275</td>\n",
       "      <td>-3.75</td>\n",
       "      <td>7091.0</td>\n",
       "      <td>26.5746</td>\n",
       "      <td>21349</td>\n",
       "      <td>150</td>\n",
       "      <td>17</td>\n",
       "    </tr>\n",
       "    <tr>\n",
       "      <th>468</th>\n",
       "      <td>287320</td>\n",
       "      <td>2</td>\n",
       "      <td>KBSTAR 200산업재</td>\n",
       "      <td>10470</td>\n",
       "      <td>5</td>\n",
       "      <td>-215</td>\n",
       "      <td>-2.01</td>\n",
       "      <td>10468.0</td>\n",
       "      <td>33.8134</td>\n",
       "      <td>835</td>\n",
       "      <td>8</td>\n",
       "      <td>13</td>\n",
       "    </tr>\n",
       "  </tbody>\n",
       "</table>\n",
       "</div>"
      ],
      "text/plain": [
       "    itemcode  etfTabCode                    itemname  nowVal risefall  \\\n",
       "464   285010           2               KBSTAR 200중공업    8480        5   \n",
       "465   334700           5          KBSTAR 팔라듐선물인버스(H)    5355        2   \n",
       "466   267500           4  KBSTAR 미국장기국채선물인버스2X(합성 H)    5860        5   \n",
       "467   285020           2              KBSTAR 200철강소재    7060        5   \n",
       "468   287320           2               KBSTAR 200산업재   10470        5   \n",
       "\n",
       "     changeVal  changeRate      nav  threeMonthEarnRate  quant  amonut  \\\n",
       "464       -320       -3.64   8530.0             21.5469   1266      10   \n",
       "465         35        0.66      NaN              0.6622    533       2   \n",
       "466        -55       -0.93      NaN              4.5977   1801      10   \n",
       "467       -275       -3.75   7091.0             26.5746  21349     150   \n",
       "468       -215       -2.01  10468.0             33.8134    835       8   \n",
       "\n",
       "     marketSum  \n",
       "464         22  \n",
       "465         21  \n",
       "466         18  \n",
       "467         17  \n",
       "468         13  "
      ]
     },
     "execution_count": 10,
     "metadata": {},
     "output_type": "execute_result"
    }
   ],
   "source": [
    "# 데이터 프레임으로 잘 만들어 졌는지 하단 데이터의 일부만 미리보기 합니다.\n",
    "df.tail()"
   ]
  },
  {
   "cell_type": "markdown",
   "metadata": {},
   "source": [
    "## 파일 저장\n",
    "### 파일명 만들기"
   ]
  },
  {
   "cell_type": "code",
   "execution_count": 11,
   "metadata": {
    "id": "WZTFTe620jYn"
   },
   "outputs": [
    {
     "data": {
      "text/plain": [
       "'2021-01-28'"
      ]
     },
     "execution_count": 11,
     "metadata": {},
     "output_type": "execute_result"
    }
   ],
   "source": [
    "# 파이썬 표준라이브러리인 datetime을 불러옵니다.\n",
    "# 날짜를 만들어 저장하기 위해 오늘 날짜를 구합니다.\n",
    "import datetime\n",
    "\n",
    "today = datetime.datetime.today()\n",
    "today = today.strftime(\"%Y-%m-%d\")\n",
    "today"
   ]
  },
  {
   "cell_type": "code",
   "execution_count": 12,
   "metadata": {
    "id": "dWw88foz0jYn"
   },
   "outputs": [
    {
     "data": {
      "text/plain": [
       "'eft_2021-01-28_raw.csv'"
      ]
     },
     "execution_count": 12,
     "metadata": {},
     "output_type": "execute_result"
    }
   ],
   "source": [
    "# f-string 방식으로 파일명을 만들어 줍니다.\n",
    "# eft_날짜_raw.csv 형태로 만듭니다.\n",
    "file_name = f\"eft_{today}_raw.csv\"\n",
    "file_name"
   ]
  },
  {
   "cell_type": "markdown",
   "metadata": {},
   "source": [
    "### 파일로 저장하고 불러오기"
   ]
  },
  {
   "cell_type": "code",
   "execution_count": 13,
   "metadata": {
    "id": "L8WaFl6d0jYn"
   },
   "outputs": [],
   "source": [
    "# csv 형태로 저장합니다. index 가 저장되지 않도록 합니다.\n",
    "df.to_csv(file_name, index=False)"
   ]
  },
  {
   "cell_type": "code",
   "execution_count": 14,
   "metadata": {
    "id": "2Vi0tnZL0jYn"
   },
   "outputs": [
    {
     "data": {
      "text/html": [
       "<div>\n",
       "<style scoped>\n",
       "    .dataframe tbody tr th:only-of-type {\n",
       "        vertical-align: middle;\n",
       "    }\n",
       "\n",
       "    .dataframe tbody tr th {\n",
       "        vertical-align: top;\n",
       "    }\n",
       "\n",
       "    .dataframe thead th {\n",
       "        text-align: right;\n",
       "    }\n",
       "</style>\n",
       "<table border=\"1\" class=\"dataframe\">\n",
       "  <thead>\n",
       "    <tr style=\"text-align: right;\">\n",
       "      <th></th>\n",
       "      <th>itemcode</th>\n",
       "      <th>etfTabCode</th>\n",
       "      <th>itemname</th>\n",
       "      <th>nowVal</th>\n",
       "      <th>risefall</th>\n",
       "      <th>changeVal</th>\n",
       "      <th>changeRate</th>\n",
       "      <th>nav</th>\n",
       "      <th>threeMonthEarnRate</th>\n",
       "      <th>quant</th>\n",
       "      <th>amonut</th>\n",
       "      <th>marketSum</th>\n",
       "    </tr>\n",
       "  </thead>\n",
       "  <tbody>\n",
       "    <tr>\n",
       "      <th>0</th>\n",
       "      <td>069500</td>\n",
       "      <td>1</td>\n",
       "      <td>KODEX 200</td>\n",
       "      <td>42120</td>\n",
       "      <td>5</td>\n",
       "      <td>-740</td>\n",
       "      <td>-1.73</td>\n",
       "      <td>42224.0</td>\n",
       "      <td>37.7970</td>\n",
       "      <td>7789305</td>\n",
       "      <td>328548</td>\n",
       "      <td>59789</td>\n",
       "    </tr>\n",
       "    <tr>\n",
       "      <th>1</th>\n",
       "      <td>102110</td>\n",
       "      <td>1</td>\n",
       "      <td>TIGER 200</td>\n",
       "      <td>41960</td>\n",
       "      <td>5</td>\n",
       "      <td>-720</td>\n",
       "      <td>-1.69</td>\n",
       "      <td>42058.0</td>\n",
       "      <td>37.7449</td>\n",
       "      <td>980293</td>\n",
       "      <td>41177</td>\n",
       "      <td>31218</td>\n",
       "    </tr>\n",
       "    <tr>\n",
       "      <th>2</th>\n",
       "      <td>252670</td>\n",
       "      <td>3</td>\n",
       "      <td>KODEX 200선물인버스2X</td>\n",
       "      <td>2170</td>\n",
       "      <td>2</td>\n",
       "      <td>85</td>\n",
       "      <td>4.08</td>\n",
       "      <td>2169.0</td>\n",
       "      <td>-49.6377</td>\n",
       "      <td>547890146</td>\n",
       "      <td>1182937</td>\n",
       "      <td>23041</td>\n",
       "    </tr>\n",
       "    <tr>\n",
       "      <th>3</th>\n",
       "      <td>153130</td>\n",
       "      <td>6</td>\n",
       "      <td>KODEX 단기채권</td>\n",
       "      <td>102670</td>\n",
       "      <td>2</td>\n",
       "      <td>5</td>\n",
       "      <td>0.00</td>\n",
       "      <td>102670.0</td>\n",
       "      <td>0.1170</td>\n",
       "      <td>20126</td>\n",
       "      <td>2066</td>\n",
       "      <td>17651</td>\n",
       "    </tr>\n",
       "    <tr>\n",
       "      <th>4</th>\n",
       "      <td>102780</td>\n",
       "      <td>2</td>\n",
       "      <td>KODEX 삼성그룹</td>\n",
       "      <td>10595</td>\n",
       "      <td>5</td>\n",
       "      <td>-275</td>\n",
       "      <td>-2.53</td>\n",
       "      <td>10578.0</td>\n",
       "      <td>42.0915</td>\n",
       "      <td>787649</td>\n",
       "      <td>8360</td>\n",
       "      <td>16835</td>\n",
       "    </tr>\n",
       "    <tr>\n",
       "      <th>...</th>\n",
       "      <td>...</td>\n",
       "      <td>...</td>\n",
       "      <td>...</td>\n",
       "      <td>...</td>\n",
       "      <td>...</td>\n",
       "      <td>...</td>\n",
       "      <td>...</td>\n",
       "      <td>...</td>\n",
       "      <td>...</td>\n",
       "      <td>...</td>\n",
       "      <td>...</td>\n",
       "      <td>...</td>\n",
       "    </tr>\n",
       "    <tr>\n",
       "      <th>464</th>\n",
       "      <td>285010</td>\n",
       "      <td>2</td>\n",
       "      <td>KBSTAR 200중공업</td>\n",
       "      <td>8480</td>\n",
       "      <td>5</td>\n",
       "      <td>-320</td>\n",
       "      <td>-3.64</td>\n",
       "      <td>8530.0</td>\n",
       "      <td>21.5469</td>\n",
       "      <td>1266</td>\n",
       "      <td>10</td>\n",
       "      <td>22</td>\n",
       "    </tr>\n",
       "    <tr>\n",
       "      <th>465</th>\n",
       "      <td>334700</td>\n",
       "      <td>5</td>\n",
       "      <td>KBSTAR 팔라듐선물인버스(H)</td>\n",
       "      <td>5355</td>\n",
       "      <td>2</td>\n",
       "      <td>35</td>\n",
       "      <td>0.66</td>\n",
       "      <td>NaN</td>\n",
       "      <td>0.6622</td>\n",
       "      <td>533</td>\n",
       "      <td>2</td>\n",
       "      <td>21</td>\n",
       "    </tr>\n",
       "    <tr>\n",
       "      <th>466</th>\n",
       "      <td>267500</td>\n",
       "      <td>4</td>\n",
       "      <td>KBSTAR 미국장기국채선물인버스2X(합성 H)</td>\n",
       "      <td>5860</td>\n",
       "      <td>5</td>\n",
       "      <td>-55</td>\n",
       "      <td>-0.93</td>\n",
       "      <td>NaN</td>\n",
       "      <td>4.5977</td>\n",
       "      <td>1801</td>\n",
       "      <td>10</td>\n",
       "      <td>18</td>\n",
       "    </tr>\n",
       "    <tr>\n",
       "      <th>467</th>\n",
       "      <td>285020</td>\n",
       "      <td>2</td>\n",
       "      <td>KBSTAR 200철강소재</td>\n",
       "      <td>7060</td>\n",
       "      <td>5</td>\n",
       "      <td>-275</td>\n",
       "      <td>-3.75</td>\n",
       "      <td>7091.0</td>\n",
       "      <td>26.5746</td>\n",
       "      <td>21349</td>\n",
       "      <td>150</td>\n",
       "      <td>17</td>\n",
       "    </tr>\n",
       "    <tr>\n",
       "      <th>468</th>\n",
       "      <td>287320</td>\n",
       "      <td>2</td>\n",
       "      <td>KBSTAR 200산업재</td>\n",
       "      <td>10470</td>\n",
       "      <td>5</td>\n",
       "      <td>-215</td>\n",
       "      <td>-2.01</td>\n",
       "      <td>10468.0</td>\n",
       "      <td>33.8134</td>\n",
       "      <td>835</td>\n",
       "      <td>8</td>\n",
       "      <td>13</td>\n",
       "    </tr>\n",
       "  </tbody>\n",
       "</table>\n",
       "<p>469 rows × 12 columns</p>\n",
       "</div>"
      ],
      "text/plain": [
       "    itemcode  etfTabCode                    itemname  nowVal  risefall  \\\n",
       "0     069500           1                   KODEX 200   42120         5   \n",
       "1     102110           1                   TIGER 200   41960         5   \n",
       "2     252670           3            KODEX 200선물인버스2X    2170         2   \n",
       "3     153130           6                  KODEX 단기채권  102670         2   \n",
       "4     102780           2                  KODEX 삼성그룹   10595         5   \n",
       "..       ...         ...                         ...     ...       ...   \n",
       "464   285010           2               KBSTAR 200중공업    8480         5   \n",
       "465   334700           5          KBSTAR 팔라듐선물인버스(H)    5355         2   \n",
       "466   267500           4  KBSTAR 미국장기국채선물인버스2X(합성 H)    5860         5   \n",
       "467   285020           2              KBSTAR 200철강소재    7060         5   \n",
       "468   287320           2               KBSTAR 200산업재   10470         5   \n",
       "\n",
       "     changeVal  changeRate       nav  threeMonthEarnRate      quant   amonut  \\\n",
       "0         -740       -1.73   42224.0             37.7970    7789305   328548   \n",
       "1         -720       -1.69   42058.0             37.7449     980293    41177   \n",
       "2           85        4.08    2169.0            -49.6377  547890146  1182937   \n",
       "3            5        0.00  102670.0              0.1170      20126     2066   \n",
       "4         -275       -2.53   10578.0             42.0915     787649     8360   \n",
       "..         ...         ...       ...                 ...        ...      ...   \n",
       "464       -320       -3.64    8530.0             21.5469       1266       10   \n",
       "465         35        0.66       NaN              0.6622        533        2   \n",
       "466        -55       -0.93       NaN              4.5977       1801       10   \n",
       "467       -275       -3.75    7091.0             26.5746      21349      150   \n",
       "468       -215       -2.01   10468.0             33.8134        835        8   \n",
       "\n",
       "     marketSum  \n",
       "0        59789  \n",
       "1        31218  \n",
       "2        23041  \n",
       "3        17651  \n",
       "4        16835  \n",
       "..         ...  \n",
       "464         22  \n",
       "465         21  \n",
       "466         18  \n",
       "467         17  \n",
       "468         13  \n",
       "\n",
       "[469 rows x 12 columns]"
      ]
     },
     "execution_count": 14,
     "metadata": {},
     "output_type": "execute_result"
    }
   ],
   "source": [
    "# 저장된 csv 파일을 읽어옵니다.\n",
    "# itemcode 숫자 앞의 0 이 지워진다면 dtype={\"itemcode\": np.object} 로 타입을 지정해 주면 문자형태로 읽어옵니다.\n",
    "pd.read_csv(file_name, dtype={\"itemcode\": np.object})"
   ]
  },
  {
   "cell_type": "code",
   "execution_count": null,
   "metadata": {
    "id": "0VX-NE4e0jYn"
   },
   "outputs": [],
   "source": []
  },
  {
   "cell_type": "code",
   "execution_count": null,
   "metadata": {},
   "outputs": [],
   "source": []
  }
 ],
 "metadata": {
  "colab": {
   "collapsed_sections": [],
   "name": "7. naver_etf.ipynb",
   "provenance": [],
   "toc_visible": true
  },
  "kernelspec": {
   "display_name": "Python 3",
   "language": "python",
   "name": "python3"
  },
  "language_info": {
   "codemirror_mode": {
    "name": "ipython",
    "version": 3
   },
   "file_extension": ".py",
   "mimetype": "text/x-python",
   "name": "python",
   "nbconvert_exporter": "python",
   "pygments_lexer": "ipython3",
   "version": "3.7.6"
  },
  "toc": {
   "base_numbering": 1,
   "nav_menu": {},
   "number_sections": true,
   "sideBar": true,
   "skip_h1_title": false,
   "title_cell": "Table of Contents",
   "title_sidebar": "Contents",
   "toc_cell": false,
   "toc_position": {
    "height": "calc(100% - 180px)",
    "left": "10px",
    "top": "150px",
    "width": "204.8px"
   },
   "toc_section_display": true,
   "toc_window_display": true
  },
  "varInspector": {
   "cols": {
    "lenName": 16,
    "lenType": 16,
    "lenVar": 40
   },
   "kernels_config": {
    "python": {
     "delete_cmd_postfix": "",
     "delete_cmd_prefix": "del ",
     "library": "var_list.py",
     "varRefreshCmd": "print(var_dic_list())"
    },
    "r": {
     "delete_cmd_postfix": ") ",
     "delete_cmd_prefix": "rm(",
     "library": "var_list.r",
     "varRefreshCmd": "cat(var_dic_list()) "
    }
   },
   "types_to_exclude": [
    "module",
    "function",
    "builtin_function_or_method",
    "instance",
    "_Feature"
   ],
   "window_display": false
  }
 },
 "nbformat": 4,
 "nbformat_minor": 1
}
