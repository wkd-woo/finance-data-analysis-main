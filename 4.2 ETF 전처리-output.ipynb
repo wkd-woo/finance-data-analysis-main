{
 "cells": [
  {
   "cell_type": "markdown",
   "metadata": {
    "id": "t3V7lAmnBYko"
   },
   "source": [
    "[![Open In Colab](https://colab.research.google.com/assets/colab-badge.svg)](https://colab.research.google.com/github/corazzon/finance-data-analysis/blob/main/4.2%20ETF%20%EC%A0%84%EC%B2%98%EB%A6%AC-output.ipynb)\n",
    "\n",
    "\n",
    "* [ETF : 네이버 금융](https://finance.naver.com/sise/etf.nhn) 에서 수집한 데이터를 전처리 합니다.\n",
    "* keyword\n",
    "    * rename column\n",
    "    * .map(lambda x : x)\n",
    "    * text data\n",
    "        * str.contains()\n",
    "        * str.replace()\n",
    "        * str.split(\"구분자\", expand=True)\n",
    "        * str[:]\n",
    "\n",
    "## 데이터 로드와 요약"
   ]
  },
  {
   "cell_type": "code",
   "execution_count": 1,
   "metadata": {
    "id": "sUwAAMjsBYko"
   },
   "outputs": [],
   "source": [
    "# 데이터 분석을 위한 pandas, 수치계산을 위한 numpy라이브러리를 로드합니다.\n",
    "import pandas as pd\n",
    "import numpy as np"
   ]
  },
  {
   "cell_type": "code",
   "execution_count": 2,
   "metadata": {},
   "outputs": [
    {
     "data": {
      "text/plain": [
       "'eft_2021-01-20_raw.csv'"
      ]
     },
     "execution_count": 2,
     "metadata": {},
     "output_type": "execute_result"
    }
   ],
   "source": [
    "# 이전 실습에서 저장한 파일명을 file_name에 적어주세요.\n",
    "file_name = \"eft_2021-01-20_raw.csv\"\n",
    "file_name"
   ]
  },
  {
   "cell_type": "code",
   "execution_count": 3,
   "metadata": {
    "id": "cyivYjVFBYkp"
   },
   "outputs": [
    {
     "data": {
      "text/plain": [
       "(469, 12)"
      ]
     },
     "execution_count": 3,
     "metadata": {},
     "output_type": "execute_result"
    }
   ],
   "source": [
    "# 이전 수업에서 수집해서 저장해둔 csv 파일을 읽어옵니다.\n",
    "# itemcode 숫자 앞의 0 이 지워진다면 dtype={\"itemcode\": np.object} 로 타입을 지정해 주면 문자형태로 읽어옵니다.\n",
    "df = pd.read_csv(file_name, dtype={\"itemcode\":np.object})\n",
    "df.shape"
   ]
  },
  {
   "cell_type": "code",
   "execution_count": 4,
   "metadata": {
    "id": "VgCji4_wBYkp"
   },
   "outputs": [
    {
     "data": {
      "text/html": [
       "<div>\n",
       "<style scoped>\n",
       "    .dataframe tbody tr th:only-of-type {\n",
       "        vertical-align: middle;\n",
       "    }\n",
       "\n",
       "    .dataframe tbody tr th {\n",
       "        vertical-align: top;\n",
       "    }\n",
       "\n",
       "    .dataframe thead th {\n",
       "        text-align: right;\n",
       "    }\n",
       "</style>\n",
       "<table border=\"1\" class=\"dataframe\">\n",
       "  <thead>\n",
       "    <tr style=\"text-align: right;\">\n",
       "      <th></th>\n",
       "      <th>itemcode</th>\n",
       "      <th>etfTabCode</th>\n",
       "      <th>itemname</th>\n",
       "      <th>nowVal</th>\n",
       "      <th>risefall</th>\n",
       "      <th>changeVal</th>\n",
       "      <th>changeRate</th>\n",
       "      <th>nav</th>\n",
       "      <th>threeMonthEarnRate</th>\n",
       "      <th>quant</th>\n",
       "      <th>amonut</th>\n",
       "      <th>marketSum</th>\n",
       "    </tr>\n",
       "  </thead>\n",
       "  <tbody>\n",
       "    <tr>\n",
       "      <th>0</th>\n",
       "      <td>069500</td>\n",
       "      <td>1</td>\n",
       "      <td>KODEX 200</td>\n",
       "      <td>42900</td>\n",
       "      <td>2</td>\n",
       "      <td>245</td>\n",
       "      <td>0.57</td>\n",
       "      <td>43035.0</td>\n",
       "      <td>36.4960</td>\n",
       "      <td>8821471</td>\n",
       "      <td>377823</td>\n",
       "      <td>54998</td>\n",
       "    </tr>\n",
       "    <tr>\n",
       "      <th>1</th>\n",
       "      <td>102110</td>\n",
       "      <td>1</td>\n",
       "      <td>TIGER 200</td>\n",
       "      <td>42890</td>\n",
       "      <td>2</td>\n",
       "      <td>260</td>\n",
       "      <td>0.61</td>\n",
       "      <td>43020.0</td>\n",
       "      <td>36.5689</td>\n",
       "      <td>1128766</td>\n",
       "      <td>48252</td>\n",
       "      <td>28350</td>\n",
       "    </tr>\n",
       "    <tr>\n",
       "      <th>2</th>\n",
       "      <td>252670</td>\n",
       "      <td>3</td>\n",
       "      <td>KODEX 200선물인버스2X</td>\n",
       "      <td>2090</td>\n",
       "      <td>5</td>\n",
       "      <td>-25</td>\n",
       "      <td>-1.18</td>\n",
       "      <td>2092.0</td>\n",
       "      <td>-48.6651</td>\n",
       "      <td>392883693</td>\n",
       "      <td>823890</td>\n",
       "      <td>19602</td>\n",
       "    </tr>\n",
       "    <tr>\n",
       "      <th>3</th>\n",
       "      <td>153130</td>\n",
       "      <td>6</td>\n",
       "      <td>KODEX 단기채권</td>\n",
       "      <td>102665</td>\n",
       "      <td>2</td>\n",
       "      <td>5</td>\n",
       "      <td>0.00</td>\n",
       "      <td>102665.0</td>\n",
       "      <td>0.1365</td>\n",
       "      <td>17589</td>\n",
       "      <td>1805</td>\n",
       "      <td>18467</td>\n",
       "    </tr>\n",
       "    <tr>\n",
       "      <th>4</th>\n",
       "      <td>122630</td>\n",
       "      <td>3</td>\n",
       "      <td>KODEX 레버리지</td>\n",
       "      <td>27680</td>\n",
       "      <td>2</td>\n",
       "      <td>295</td>\n",
       "      <td>1.08</td>\n",
       "      <td>27870.0</td>\n",
       "      <td>83.6686</td>\n",
       "      <td>43815864</td>\n",
       "      <td>1209174</td>\n",
       "      <td>18380</td>\n",
       "    </tr>\n",
       "  </tbody>\n",
       "</table>\n",
       "</div>"
      ],
      "text/plain": [
       "  itemcode  etfTabCode          itemname  nowVal  risefall  changeVal  \\\n",
       "0   069500           1         KODEX 200   42900         2        245   \n",
       "1   102110           1         TIGER 200   42890         2        260   \n",
       "2   252670           3  KODEX 200선물인버스2X    2090         5        -25   \n",
       "3   153130           6        KODEX 단기채권  102665         2          5   \n",
       "4   122630           3        KODEX 레버리지   27680         2        295   \n",
       "\n",
       "   changeRate       nav  threeMonthEarnRate      quant   amonut  marketSum  \n",
       "0        0.57   43035.0             36.4960    8821471   377823      54998  \n",
       "1        0.61   43020.0             36.5689    1128766    48252      28350  \n",
       "2       -1.18    2092.0            -48.6651  392883693   823890      19602  \n",
       "3        0.00  102665.0              0.1365      17589     1805      18467  \n",
       "4        1.08   27870.0             83.6686   43815864  1209174      18380  "
      ]
     },
     "execution_count": 4,
     "metadata": {},
     "output_type": "execute_result"
    }
   ],
   "source": [
    "# 인덱스 번호 상단 5개의 데이터를 가져옵니다.\n",
    "# 데이터를 잘 읽어왔는지 확인합니다.\n",
    "df.head()"
   ]
  },
  {
   "cell_type": "code",
   "execution_count": 5,
   "metadata": {
    "id": "sFWU55-NBYkp"
   },
   "outputs": [
    {
     "data": {
      "text/html": [
       "<div>\n",
       "<style scoped>\n",
       "    .dataframe tbody tr th:only-of-type {\n",
       "        vertical-align: middle;\n",
       "    }\n",
       "\n",
       "    .dataframe tbody tr th {\n",
       "        vertical-align: top;\n",
       "    }\n",
       "\n",
       "    .dataframe thead th {\n",
       "        text-align: right;\n",
       "    }\n",
       "</style>\n",
       "<table border=\"1\" class=\"dataframe\">\n",
       "  <thead>\n",
       "    <tr style=\"text-align: right;\">\n",
       "      <th></th>\n",
       "      <th>itemcode</th>\n",
       "      <th>etfTabCode</th>\n",
       "      <th>itemname</th>\n",
       "      <th>nowVal</th>\n",
       "      <th>risefall</th>\n",
       "      <th>changeVal</th>\n",
       "      <th>changeRate</th>\n",
       "      <th>nav</th>\n",
       "      <th>threeMonthEarnRate</th>\n",
       "      <th>quant</th>\n",
       "      <th>amonut</th>\n",
       "      <th>marketSum</th>\n",
       "    </tr>\n",
       "  </thead>\n",
       "  <tbody>\n",
       "    <tr>\n",
       "      <th>464</th>\n",
       "      <td>285010</td>\n",
       "      <td>2</td>\n",
       "      <td>KBSTAR 200중공업</td>\n",
       "      <td>8960</td>\n",
       "      <td>5</td>\n",
       "      <td>-50</td>\n",
       "      <td>-0.55</td>\n",
       "      <td>8975.0</td>\n",
       "      <td>22.8357</td>\n",
       "      <td>607</td>\n",
       "      <td>5</td>\n",
       "      <td>23</td>\n",
       "    </tr>\n",
       "    <tr>\n",
       "      <th>465</th>\n",
       "      <td>287310</td>\n",
       "      <td>2</td>\n",
       "      <td>KBSTAR 200경기소비재</td>\n",
       "      <td>12570</td>\n",
       "      <td>2</td>\n",
       "      <td>120</td>\n",
       "      <td>0.96</td>\n",
       "      <td>12572.0</td>\n",
       "      <td>44.5153</td>\n",
       "      <td>12435</td>\n",
       "      <td>159</td>\n",
       "      <td>23</td>\n",
       "    </tr>\n",
       "    <tr>\n",
       "      <th>466</th>\n",
       "      <td>334700</td>\n",
       "      <td>5</td>\n",
       "      <td>KBSTAR 팔라듐선물인버스(H)</td>\n",
       "      <td>5200</td>\n",
       "      <td>3</td>\n",
       "      <td>0</td>\n",
       "      <td>0.00</td>\n",
       "      <td>NaN</td>\n",
       "      <td>-2.6218</td>\n",
       "      <td>1234</td>\n",
       "      <td>6</td>\n",
       "      <td>21</td>\n",
       "    </tr>\n",
       "    <tr>\n",
       "      <th>467</th>\n",
       "      <td>267500</td>\n",
       "      <td>4</td>\n",
       "      <td>KBSTAR 미국장기국채선물인버스2X(합성 H)</td>\n",
       "      <td>5990</td>\n",
       "      <td>5</td>\n",
       "      <td>-110</td>\n",
       "      <td>-1.80</td>\n",
       "      <td>NaN</td>\n",
       "      <td>9.2211</td>\n",
       "      <td>1838</td>\n",
       "      <td>11</td>\n",
       "      <td>18</td>\n",
       "    </tr>\n",
       "    <tr>\n",
       "      <th>468</th>\n",
       "      <td>285020</td>\n",
       "      <td>2</td>\n",
       "      <td>KBSTAR 200철강소재</td>\n",
       "      <td>7470</td>\n",
       "      <td>5</td>\n",
       "      <td>-10</td>\n",
       "      <td>-0.13</td>\n",
       "      <td>7502.0</td>\n",
       "      <td>29.7484</td>\n",
       "      <td>20919</td>\n",
       "      <td>154</td>\n",
       "      <td>18</td>\n",
       "    </tr>\n",
       "  </tbody>\n",
       "</table>\n",
       "</div>"
      ],
      "text/plain": [
       "    itemcode  etfTabCode                    itemname  nowVal  risefall  \\\n",
       "464   285010           2               KBSTAR 200중공업    8960         5   \n",
       "465   287310           2             KBSTAR 200경기소비재   12570         2   \n",
       "466   334700           5          KBSTAR 팔라듐선물인버스(H)    5200         3   \n",
       "467   267500           4  KBSTAR 미국장기국채선물인버스2X(합성 H)    5990         5   \n",
       "468   285020           2              KBSTAR 200철강소재    7470         5   \n",
       "\n",
       "     changeVal  changeRate      nav  threeMonthEarnRate  quant  amonut  \\\n",
       "464        -50       -0.55   8975.0             22.8357    607       5   \n",
       "465        120        0.96  12572.0             44.5153  12435     159   \n",
       "466          0        0.00      NaN             -2.6218   1234       6   \n",
       "467       -110       -1.80      NaN              9.2211   1838      11   \n",
       "468        -10       -0.13   7502.0             29.7484  20919     154   \n",
       "\n",
       "     marketSum  \n",
       "464         23  \n",
       "465         23  \n",
       "466         21  \n",
       "467         18  \n",
       "468         18  "
      ]
     },
     "execution_count": 5,
     "metadata": {},
     "output_type": "execute_result"
    }
   ],
   "source": [
    "# 인덱스 하단의 5개 데이터를 가져옵니다.\n",
    "# 데이터를 잘 읽어왔는지 확인합니다.\n",
    "df.tail()"
   ]
  },
  {
   "cell_type": "code",
   "execution_count": 6,
   "metadata": {
    "id": "LxSJgh3rBYkq",
    "scrolled": true
   },
   "outputs": [
    {
     "name": "stdout",
     "output_type": "stream",
     "text": [
      "<class 'pandas.core.frame.DataFrame'>\n",
      "RangeIndex: 469 entries, 0 to 468\n",
      "Data columns (total 12 columns):\n",
      " #   Column              Non-Null Count  Dtype  \n",
      "---  ------              --------------  -----  \n",
      " 0   itemcode            469 non-null    object \n",
      " 1   etfTabCode          469 non-null    int64  \n",
      " 2   itemname            469 non-null    object \n",
      " 3   nowVal              469 non-null    int64  \n",
      " 4   risefall            469 non-null    int64  \n",
      " 5   changeVal           469 non-null    int64  \n",
      " 6   changeRate          469 non-null    float64\n",
      " 7   nav                 341 non-null    float64\n",
      " 8   threeMonthEarnRate  448 non-null    float64\n",
      " 9   quant               469 non-null    int64  \n",
      " 10  amonut              469 non-null    int64  \n",
      " 11  marketSum           469 non-null    int64  \n",
      "dtypes: float64(3), int64(7), object(2)\n",
      "memory usage: 44.1+ KB\n"
     ]
    }
   ],
   "source": [
    "# info를 통해서 각 column들의 데이터타입과 결측치, 메모리 사용량 등을 볼 수 있습니다.\n",
    "df.info()"
   ]
  },
  {
   "cell_type": "markdown",
   "metadata": {},
   "source": [
    "* 웹사이트의 ETF 정보와 비교하며 어떤 컬럼이 어떤 값인지 확인합니다. \n",
    "* https://finance.naver.com/sise/etf.nhn "
   ]
  },
  {
   "cell_type": "code",
   "execution_count": 7,
   "metadata": {
    "id": "cdS2JB71BYkq"
   },
   "outputs": [
    {
     "data": {
      "text/html": [
       "<div>\n",
       "<style scoped>\n",
       "    .dataframe tbody tr th:only-of-type {\n",
       "        vertical-align: middle;\n",
       "    }\n",
       "\n",
       "    .dataframe tbody tr th {\n",
       "        vertical-align: top;\n",
       "    }\n",
       "\n",
       "    .dataframe thead th {\n",
       "        text-align: right;\n",
       "    }\n",
       "</style>\n",
       "<table border=\"1\" class=\"dataframe\">\n",
       "  <thead>\n",
       "    <tr style=\"text-align: right;\">\n",
       "      <th></th>\n",
       "      <th>itemcode</th>\n",
       "      <th>etfTabCode</th>\n",
       "      <th>itemname</th>\n",
       "      <th>nowVal</th>\n",
       "      <th>risefall</th>\n",
       "      <th>changeVal</th>\n",
       "      <th>changeRate</th>\n",
       "      <th>nav</th>\n",
       "      <th>threeMonthEarnRate</th>\n",
       "      <th>quant</th>\n",
       "      <th>amonut</th>\n",
       "      <th>marketSum</th>\n",
       "    </tr>\n",
       "  </thead>\n",
       "  <tbody>\n",
       "    <tr>\n",
       "      <th>2</th>\n",
       "      <td>252670</td>\n",
       "      <td>3</td>\n",
       "      <td>KODEX 200선물인버스2X</td>\n",
       "      <td>2090</td>\n",
       "      <td>5</td>\n",
       "      <td>-25</td>\n",
       "      <td>-1.18</td>\n",
       "      <td>2092.0</td>\n",
       "      <td>-48.6651</td>\n",
       "      <td>392883693</td>\n",
       "      <td>823890</td>\n",
       "      <td>19602</td>\n",
       "    </tr>\n",
       "    <tr>\n",
       "      <th>12</th>\n",
       "      <td>114800</td>\n",
       "      <td>3</td>\n",
       "      <td>KODEX 인버스</td>\n",
       "      <td>3895</td>\n",
       "      <td>5</td>\n",
       "      <td>-25</td>\n",
       "      <td>-0.64</td>\n",
       "      <td>3899.0</td>\n",
       "      <td>-27.8749</td>\n",
       "      <td>116287736</td>\n",
       "      <td>454129</td>\n",
       "      <td>11116</td>\n",
       "    </tr>\n",
       "    <tr>\n",
       "      <th>27</th>\n",
       "      <td>251340</td>\n",
       "      <td>3</td>\n",
       "      <td>KODEX 코스닥150선물인버스</td>\n",
       "      <td>4450</td>\n",
       "      <td>5</td>\n",
       "      <td>-120</td>\n",
       "      <td>-2.63</td>\n",
       "      <td>4453.0</td>\n",
       "      <td>-17.7318</td>\n",
       "      <td>57146428</td>\n",
       "      <td>255688</td>\n",
       "      <td>4428</td>\n",
       "    </tr>\n",
       "    <tr>\n",
       "      <th>4</th>\n",
       "      <td>122630</td>\n",
       "      <td>3</td>\n",
       "      <td>KODEX 레버리지</td>\n",
       "      <td>27680</td>\n",
       "      <td>2</td>\n",
       "      <td>295</td>\n",
       "      <td>1.08</td>\n",
       "      <td>27870.0</td>\n",
       "      <td>83.6686</td>\n",
       "      <td>43815864</td>\n",
       "      <td>1209174</td>\n",
       "      <td>18380</td>\n",
       "    </tr>\n",
       "    <tr>\n",
       "      <th>11</th>\n",
       "      <td>233740</td>\n",
       "      <td>1</td>\n",
       "      <td>KODEX 코스닥150 레버리지</td>\n",
       "      <td>16350</td>\n",
       "      <td>2</td>\n",
       "      <td>780</td>\n",
       "      <td>5.01</td>\n",
       "      <td>16505.0</td>\n",
       "      <td>36.6988</td>\n",
       "      <td>23687675</td>\n",
       "      <td>385344</td>\n",
       "      <td>11936</td>\n",
       "    </tr>\n",
       "    <tr>\n",
       "      <th>0</th>\n",
       "      <td>069500</td>\n",
       "      <td>1</td>\n",
       "      <td>KODEX 200</td>\n",
       "      <td>42900</td>\n",
       "      <td>2</td>\n",
       "      <td>245</td>\n",
       "      <td>0.57</td>\n",
       "      <td>43035.0</td>\n",
       "      <td>36.4960</td>\n",
       "      <td>8821471</td>\n",
       "      <td>377823</td>\n",
       "      <td>54998</td>\n",
       "    </tr>\n",
       "    <tr>\n",
       "      <th>73</th>\n",
       "      <td>252710</td>\n",
       "      <td>3</td>\n",
       "      <td>TIGER 200선물인버스2X</td>\n",
       "      <td>2165</td>\n",
       "      <td>5</td>\n",
       "      <td>-30</td>\n",
       "      <td>-1.37</td>\n",
       "      <td>2165.0</td>\n",
       "      <td>-48.4137</td>\n",
       "      <td>5911844</td>\n",
       "      <td>12798</td>\n",
       "      <td>1141</td>\n",
       "    </tr>\n",
       "    <tr>\n",
       "      <th>31</th>\n",
       "      <td>229200</td>\n",
       "      <td>1</td>\n",
       "      <td>KODEX 코스닥 150</td>\n",
       "      <td>15095</td>\n",
       "      <td>2</td>\n",
       "      <td>335</td>\n",
       "      <td>2.27</td>\n",
       "      <td>15210.0</td>\n",
       "      <td>17.8443</td>\n",
       "      <td>4813373</td>\n",
       "      <td>72605</td>\n",
       "      <td>4008</td>\n",
       "    </tr>\n",
       "    <tr>\n",
       "      <th>59</th>\n",
       "      <td>204480</td>\n",
       "      <td>4</td>\n",
       "      <td>TIGER 차이나CSI300레버리지(합성)</td>\n",
       "      <td>35385</td>\n",
       "      <td>2</td>\n",
       "      <td>480</td>\n",
       "      <td>1.38</td>\n",
       "      <td>NaN</td>\n",
       "      <td>33.2760</td>\n",
       "      <td>3945684</td>\n",
       "      <td>138533</td>\n",
       "      <td>1557</td>\n",
       "    </tr>\n",
       "    <tr>\n",
       "      <th>13</th>\n",
       "      <td>305720</td>\n",
       "      <td>2</td>\n",
       "      <td>KODEX 2차전지산업</td>\n",
       "      <td>19520</td>\n",
       "      <td>2</td>\n",
       "      <td>170</td>\n",
       "      <td>0.88</td>\n",
       "      <td>19608.0</td>\n",
       "      <td>69.5137</td>\n",
       "      <td>3823908</td>\n",
       "      <td>74398</td>\n",
       "      <td>9018</td>\n",
       "    </tr>\n",
       "  </tbody>\n",
       "</table>\n",
       "</div>"
      ],
      "text/plain": [
       "   itemcode  etfTabCode                 itemname  nowVal  risefall  changeVal  \\\n",
       "2    252670           3         KODEX 200선물인버스2X    2090         5        -25   \n",
       "12   114800           3                KODEX 인버스    3895         5        -25   \n",
       "27   251340           3        KODEX 코스닥150선물인버스    4450         5       -120   \n",
       "4    122630           3               KODEX 레버리지   27680         2        295   \n",
       "11   233740           1        KODEX 코스닥150 레버리지   16350         2        780   \n",
       "0    069500           1                KODEX 200   42900         2        245   \n",
       "73   252710           3         TIGER 200선물인버스2X    2165         5        -30   \n",
       "31   229200           1            KODEX 코스닥 150   15095         2        335   \n",
       "59   204480           4  TIGER 차이나CSI300레버리지(합성)   35385         2        480   \n",
       "13   305720           2             KODEX 2차전지산업   19520         2        170   \n",
       "\n",
       "    changeRate      nav  threeMonthEarnRate      quant   amonut  marketSum  \n",
       "2        -1.18   2092.0            -48.6651  392883693   823890      19602  \n",
       "12       -0.64   3899.0            -27.8749  116287736   454129      11116  \n",
       "27       -2.63   4453.0            -17.7318   57146428   255688       4428  \n",
       "4         1.08  27870.0             83.6686   43815864  1209174      18380  \n",
       "11        5.01  16505.0             36.6988   23687675   385344      11936  \n",
       "0         0.57  43035.0             36.4960    8821471   377823      54998  \n",
       "73       -1.37   2165.0            -48.4137    5911844    12798       1141  \n",
       "31        2.27  15210.0             17.8443    4813373    72605       4008  \n",
       "59        1.38      NaN             33.2760    3945684   138533       1557  \n",
       "13        0.88  19608.0             69.5137    3823908    74398       9018  "
      ]
     },
     "execution_count": 7,
     "metadata": {},
     "output_type": "execute_result"
    }
   ],
   "source": [
    "# https://finance.naver.com/sise/etf.nhn 에서 값을 비교해보면 quant는 거래량임을 알 수 있습니다.\n",
    "# 거래량(quant) 기준으로 내림차순으로 정렬하여 상위 10개의 데이터를 봅니다.\n",
    "df.sort_values(\"quant\", ascending=False).head(10)"
   ]
  },
  {
   "cell_type": "code",
   "execution_count": 8,
   "metadata": {
    "id": "_65UmaWzBYkq"
   },
   "outputs": [
    {
     "data": {
      "text/plain": [
       "1     64\n",
       "2    174\n",
       "3     31\n",
       "4     97\n",
       "5     14\n",
       "6     55\n",
       "7     34\n",
       "Name: etfTabCode, dtype: int64"
      ]
     },
     "execution_count": 8,
     "metadata": {},
     "output_type": "execute_result"
    }
   ],
   "source": [
    "# etfTabCode column의 데이터 구성을 살펴봅니다.\n",
    "# 추후 알게되겠지만 etfTabCode는 해당 사이트에서 \n",
    "# 전체(0), 국내 시장지수(1), 국내 업종/테마(2), 국내 파생(3) ~\n",
    "# 해외 주식(4), 원자재(5), 채권(6), 기타(7)로 자료가 구분되어 있습니다.\n",
    "df[\"etfTabCode\"].value_counts().sort_index()"
   ]
  },
  {
   "cell_type": "code",
   "execution_count": 9,
   "metadata": {
    "id": "k61c2Hr1BYkq"
   },
   "outputs": [
    {
     "data": {
      "text/html": [
       "<div>\n",
       "<style scoped>\n",
       "    .dataframe tbody tr th:only-of-type {\n",
       "        vertical-align: middle;\n",
       "    }\n",
       "\n",
       "    .dataframe tbody tr th {\n",
       "        vertical-align: top;\n",
       "    }\n",
       "\n",
       "    .dataframe thead th {\n",
       "        text-align: right;\n",
       "    }\n",
       "</style>\n",
       "<table border=\"1\" class=\"dataframe\">\n",
       "  <thead>\n",
       "    <tr style=\"text-align: right;\">\n",
       "      <th></th>\n",
       "      <th>itemcode</th>\n",
       "      <th>etfTabCode</th>\n",
       "      <th>itemname</th>\n",
       "      <th>nowVal</th>\n",
       "      <th>risefall</th>\n",
       "      <th>changeVal</th>\n",
       "      <th>changeRate</th>\n",
       "      <th>nav</th>\n",
       "      <th>threeMonthEarnRate</th>\n",
       "      <th>quant</th>\n",
       "      <th>amonut</th>\n",
       "      <th>marketSum</th>\n",
       "    </tr>\n",
       "  </thead>\n",
       "  <tbody>\n",
       "    <tr>\n",
       "      <th>0</th>\n",
       "      <td>069500</td>\n",
       "      <td>1</td>\n",
       "      <td>KODEX 200</td>\n",
       "      <td>42900</td>\n",
       "      <td>2</td>\n",
       "      <td>245</td>\n",
       "      <td>0.57</td>\n",
       "      <td>43035.0</td>\n",
       "      <td>36.4960</td>\n",
       "      <td>8821471</td>\n",
       "      <td>377823</td>\n",
       "      <td>54998</td>\n",
       "    </tr>\n",
       "    <tr>\n",
       "      <th>1</th>\n",
       "      <td>102110</td>\n",
       "      <td>1</td>\n",
       "      <td>TIGER 200</td>\n",
       "      <td>42890</td>\n",
       "      <td>2</td>\n",
       "      <td>260</td>\n",
       "      <td>0.61</td>\n",
       "      <td>43020.0</td>\n",
       "      <td>36.5689</td>\n",
       "      <td>1128766</td>\n",
       "      <td>48252</td>\n",
       "      <td>28350</td>\n",
       "    </tr>\n",
       "    <tr>\n",
       "      <th>5</th>\n",
       "      <td>278540</td>\n",
       "      <td>1</td>\n",
       "      <td>KODEX MSCI Korea TR</td>\n",
       "      <td>13935</td>\n",
       "      <td>2</td>\n",
       "      <td>115</td>\n",
       "      <td>0.83</td>\n",
       "      <td>13927.0</td>\n",
       "      <td>37.9930</td>\n",
       "      <td>327730</td>\n",
       "      <td>4575</td>\n",
       "      <td>17391</td>\n",
       "    </tr>\n",
       "    <tr>\n",
       "      <th>7</th>\n",
       "      <td>278530</td>\n",
       "      <td>1</td>\n",
       "      <td>KODEX 200TR</td>\n",
       "      <td>13810</td>\n",
       "      <td>2</td>\n",
       "      <td>90</td>\n",
       "      <td>0.66</td>\n",
       "      <td>13839.0</td>\n",
       "      <td>36.7214</td>\n",
       "      <td>304394</td>\n",
       "      <td>4202</td>\n",
       "      <td>16468</td>\n",
       "    </tr>\n",
       "    <tr>\n",
       "      <th>8</th>\n",
       "      <td>310970</td>\n",
       "      <td>1</td>\n",
       "      <td>TIGER MSCI Korea TR</td>\n",
       "      <td>17500</td>\n",
       "      <td>2</td>\n",
       "      <td>150</td>\n",
       "      <td>0.86</td>\n",
       "      <td>17485.0</td>\n",
       "      <td>37.8625</td>\n",
       "      <td>275342</td>\n",
       "      <td>4787</td>\n",
       "      <td>16415</td>\n",
       "    </tr>\n",
       "    <tr>\n",
       "      <th>...</th>\n",
       "      <td>...</td>\n",
       "      <td>...</td>\n",
       "      <td>...</td>\n",
       "      <td>...</td>\n",
       "      <td>...</td>\n",
       "      <td>...</td>\n",
       "      <td>...</td>\n",
       "      <td>...</td>\n",
       "      <td>...</td>\n",
       "      <td>...</td>\n",
       "      <td>...</td>\n",
       "      <td>...</td>\n",
       "    </tr>\n",
       "    <tr>\n",
       "      <th>391</th>\n",
       "      <td>295820</td>\n",
       "      <td>1</td>\n",
       "      <td>ARIRANG 200동일가중</td>\n",
       "      <td>10720</td>\n",
       "      <td>2</td>\n",
       "      <td>10</td>\n",
       "      <td>0.09</td>\n",
       "      <td>10801.0</td>\n",
       "      <td>25.1899</td>\n",
       "      <td>54</td>\n",
       "      <td>0</td>\n",
       "      <td>64</td>\n",
       "    </tr>\n",
       "    <tr>\n",
       "      <th>397</th>\n",
       "      <td>226980</td>\n",
       "      <td>1</td>\n",
       "      <td>KODEX 200 중소형</td>\n",
       "      <td>12410</td>\n",
       "      <td>2</td>\n",
       "      <td>180</td>\n",
       "      <td>1.47</td>\n",
       "      <td>12446.0</td>\n",
       "      <td>29.2128</td>\n",
       "      <td>4655</td>\n",
       "      <td>57</td>\n",
       "      <td>62</td>\n",
       "    </tr>\n",
       "    <tr>\n",
       "      <th>427</th>\n",
       "      <td>275750</td>\n",
       "      <td>1</td>\n",
       "      <td>KBSTAR 코스닥150선물인버스</td>\n",
       "      <td>4695</td>\n",
       "      <td>5</td>\n",
       "      <td>-100</td>\n",
       "      <td>-2.09</td>\n",
       "      <td>4682.0</td>\n",
       "      <td>-17.8939</td>\n",
       "      <td>60144</td>\n",
       "      <td>282</td>\n",
       "      <td>49</td>\n",
       "    </tr>\n",
       "    <tr>\n",
       "      <th>433</th>\n",
       "      <td>291610</td>\n",
       "      <td>1</td>\n",
       "      <td>KOSEF 코스닥150선물</td>\n",
       "      <td>9775</td>\n",
       "      <td>2</td>\n",
       "      <td>240</td>\n",
       "      <td>2.52</td>\n",
       "      <td>9778.0</td>\n",
       "      <td>18.8902</td>\n",
       "      <td>239</td>\n",
       "      <td>2</td>\n",
       "      <td>47</td>\n",
       "    </tr>\n",
       "    <tr>\n",
       "      <th>455</th>\n",
       "      <td>301400</td>\n",
       "      <td>1</td>\n",
       "      <td>ARIRANG 코스닥150</td>\n",
       "      <td>14935</td>\n",
       "      <td>2</td>\n",
       "      <td>300</td>\n",
       "      <td>2.05</td>\n",
       "      <td>15064.0</td>\n",
       "      <td>17.8341</td>\n",
       "      <td>1270</td>\n",
       "      <td>18</td>\n",
       "      <td>37</td>\n",
       "    </tr>\n",
       "  </tbody>\n",
       "</table>\n",
       "<p>64 rows × 12 columns</p>\n",
       "</div>"
      ],
      "text/plain": [
       "    itemcode  etfTabCode             itemname  nowVal  risefall  changeVal  \\\n",
       "0     069500           1            KODEX 200   42900         2        245   \n",
       "1     102110           1            TIGER 200   42890         2        260   \n",
       "5     278540           1  KODEX MSCI Korea TR   13935         2        115   \n",
       "7     278530           1          KODEX 200TR   13810         2         90   \n",
       "8     310970           1  TIGER MSCI Korea TR   17500         2        150   \n",
       "..       ...         ...                  ...     ...       ...        ...   \n",
       "391   295820           1      ARIRANG 200동일가중   10720         2         10   \n",
       "397   226980           1        KODEX 200 중소형   12410         2        180   \n",
       "427   275750           1   KBSTAR 코스닥150선물인버스    4695         5       -100   \n",
       "433   291610           1       KOSEF 코스닥150선물    9775         2        240   \n",
       "455   301400           1       ARIRANG 코스닥150   14935         2        300   \n",
       "\n",
       "     changeRate      nav  threeMonthEarnRate    quant  amonut  marketSum  \n",
       "0          0.57  43035.0             36.4960  8821471  377823      54998  \n",
       "1          0.61  43020.0             36.5689  1128766   48252      28350  \n",
       "5          0.83  13927.0             37.9930   327730    4575      17391  \n",
       "7          0.66  13839.0             36.7214   304394    4202      16468  \n",
       "8          0.86  17485.0             37.8625   275342    4787      16415  \n",
       "..          ...      ...                 ...      ...     ...        ...  \n",
       "391        0.09  10801.0             25.1899       54       0         64  \n",
       "397        1.47  12446.0             29.2128     4655      57         62  \n",
       "427       -2.09   4682.0            -17.8939    60144     282         49  \n",
       "433        2.52   9778.0             18.8902      239       2         47  \n",
       "455        2.05  15064.0             17.8341     1270      18         37  \n",
       "\n",
       "[64 rows x 12 columns]"
      ]
     },
     "execution_count": 9,
     "metadata": {},
     "output_type": "execute_result"
    }
   ],
   "source": [
    "# pandas 의 boolean Indexing을 사용해서\n",
    "# 국내 시장지수(etfTabCode == 1)의 데이터들만 확인하여 봅니다.\n",
    "# 조건문의 결과가 Index와  True, False 로 나오기 때문에 boolean Indexing 이라 부릅니다.\n",
    "df[df[\"etfTabCode\"] == 1]"
   ]
  },
  {
   "cell_type": "markdown",
   "metadata": {
    "id": "SAp8CMEYNw8H"
   },
   "source": [
    "## 데이터 전처리\n",
    "### etfTabName 만들기"
   ]
  },
  {
   "cell_type": "code",
   "execution_count": 10,
   "metadata": {
    "id": "8YTSMwXgBYkq"
   },
   "outputs": [
    {
     "data": {
      "text/plain": [
       "'전체\\n국내 시장지수\\n국내 업종/테마\\n국내 파생\\n해외 주식\\n원자재\\n채권\\n기타'"
      ]
     },
     "execution_count": 10,
     "metadata": {},
     "output_type": "execute_result"
    }
   ],
   "source": [
    "# etf name을 구분하기 위한 list를 만듭니다.\n",
    "# \"\"\" 를 이용해 \\n을 포함하는 string을 만들고 split으로 나누어서 list를 간편히 만들수 있습니다.\n",
    "eftcode = \"\"\"전체\n",
    "국내 시장지수\n",
    "국내 업종/테마\n",
    "국내 파생\n",
    "해외 주식\n",
    "원자재\n",
    "채권\n",
    "기타\"\"\"\n",
    "eftcode"
   ]
  },
  {
   "cell_type": "code",
   "execution_count": 11,
   "metadata": {
    "id": "H7AFA9ftBYkq"
   },
   "outputs": [
    {
     "data": {
      "text/plain": [
       "['전체', '국내 시장지수', '국내 업종/테마', '국내 파생', '해외 주식', '원자재', '채권', '기타']"
      ]
     },
     "execution_count": 11,
     "metadata": {},
     "output_type": "execute_result"
    }
   ],
   "source": [
    "# split으로 나누어 list형 데이터를 만듭니다.\n",
    "etf_tab_name = eftcode.split(\"\\n\")\n",
    "etf_tab_name"
   ]
  },
  {
   "cell_type": "code",
   "execution_count": 12,
   "metadata": {},
   "outputs": [
    {
     "data": {
      "text/plain": [
       "'국내 업종/테마'"
      ]
     },
     "execution_count": 12,
     "metadata": {},
     "output_type": "execute_result"
    }
   ],
   "source": [
    "def find_eft_tab_name(no):\n",
    "    return etf_tab_name[no]\n",
    "\n",
    "find_eft_tab_name(2)"
   ]
  },
  {
   "cell_type": "code",
   "execution_count": 13,
   "metadata": {
    "id": "LrmLD2j0BYkq"
   },
   "outputs": [],
   "source": [
    "# etfTabName 이름이 직관적이지 않기 때문에 한글로 변경해 줍니다.\n",
    "# map과 lambda 함수를 이용하여 eftTabCode column들의 각 cell의 내용에 따라\n",
    "# etf_tab_name list의 원소값에 따라 이름을 만들어 주고 etfTabName 이라는 새로운 컬럼을 생성합니다.\n",
    "# 즉 etfTabCode 숫자 -> list의 원소 인덱스로 한글 이름을 매핑해 줍니다. -> etfTabName에 한글로 저장\n",
    "df[\"etfTabName\"] = df[\"etfTabCode\"].map(lambda x : etf_tab_name[x])"
   ]
  },
  {
   "cell_type": "code",
   "execution_count": 14,
   "metadata": {
    "id": "ked6jOdgBYkq"
   },
   "outputs": [
    {
     "data": {
      "text/html": [
       "<div>\n",
       "<style scoped>\n",
       "    .dataframe tbody tr th:only-of-type {\n",
       "        vertical-align: middle;\n",
       "    }\n",
       "\n",
       "    .dataframe tbody tr th {\n",
       "        vertical-align: top;\n",
       "    }\n",
       "\n",
       "    .dataframe thead th {\n",
       "        text-align: right;\n",
       "    }\n",
       "</style>\n",
       "<table border=\"1\" class=\"dataframe\">\n",
       "  <thead>\n",
       "    <tr style=\"text-align: right;\">\n",
       "      <th></th>\n",
       "      <th>itemname</th>\n",
       "      <th>etfTabName</th>\n",
       "    </tr>\n",
       "  </thead>\n",
       "  <tbody>\n",
       "    <tr>\n",
       "      <th>2</th>\n",
       "      <td>KODEX 200선물인버스2X</td>\n",
       "      <td>국내 파생</td>\n",
       "    </tr>\n",
       "    <tr>\n",
       "      <th>4</th>\n",
       "      <td>KODEX 레버리지</td>\n",
       "      <td>국내 파생</td>\n",
       "    </tr>\n",
       "    <tr>\n",
       "      <th>12</th>\n",
       "      <td>KODEX 인버스</td>\n",
       "      <td>국내 파생</td>\n",
       "    </tr>\n",
       "    <tr>\n",
       "      <th>27</th>\n",
       "      <td>KODEX 코스닥150선물인버스</td>\n",
       "      <td>국내 파생</td>\n",
       "    </tr>\n",
       "    <tr>\n",
       "      <th>70</th>\n",
       "      <td>TIGER 200선물레버리지</td>\n",
       "      <td>국내 파생</td>\n",
       "    </tr>\n",
       "  </tbody>\n",
       "</table>\n",
       "</div>"
      ],
      "text/plain": [
       "             itemname etfTabName\n",
       "2    KODEX 200선물인버스2X      국내 파생\n",
       "4          KODEX 레버리지      국내 파생\n",
       "12          KODEX 인버스      국내 파생\n",
       "27  KODEX 코스닥150선물인버스      국내 파생\n",
       "70    TIGER 200선물레버리지      국내 파생"
      ]
     },
     "execution_count": 14,
     "metadata": {},
     "output_type": "execute_result"
    }
   ],
   "source": [
    "# etfTabName column이 제대로 만들어졌는지 확인합니다.\n",
    "df.loc[df[\"etfTabCode\"] == 3, [\"itemname\", \"etfTabName\"]].head()"
   ]
  },
  {
   "cell_type": "markdown",
   "metadata": {},
   "source": [
    "* map : \n",
    "    * Series에서만 사용가능\n",
    "    * [Essential basic functionality — pandas documentation](https://pandas.pydata.org/docs/user_guide/basics.html?#applying-elementwise-functions)\n",
    "\n",
    "* apply :\n",
    "    * Series와 DataFrame 둘 다 사용가능\n",
    "    * [Essential basic functionality — pandas documentation](https://pandas.pydata.org/docs/user_guide/basics.html?#row-or-column-wise-function-application)"
   ]
  },
  {
   "cell_type": "markdown",
   "metadata": {},
   "source": [
    "### 컬럼명 변경하기"
   ]
  },
  {
   "cell_type": "code",
   "execution_count": 15,
   "metadata": {},
   "outputs": [
    {
     "data": {
      "text/plain": [
       "'종목명\\n현재가\\n전일비\\n등락률\\nNAV\\n3개월수익률\\n거래량\\n거래대금(백만)\\n시가총액(억)'"
      ]
     },
     "execution_count": 15,
     "metadata": {},
     "output_type": "execute_result"
    }
   ],
   "source": [
    "\"\"\"종목명\n",
    "현재가\n",
    "전일비\n",
    "등락률\n",
    "NAV\n",
    "3개월수익률\n",
    "거래량\n",
    "거래대금(백만)\n",
    "시가총액(억)\"\"\""
   ]
  },
  {
   "cell_type": "code",
   "execution_count": 16,
   "metadata": {
    "id": "hmI_1aqBBYkq"
   },
   "outputs": [
    {
     "data": {
      "text/plain": [
       "['itemcode',\n",
       " 'etfTabCode',\n",
       " 'itemname',\n",
       " 'nowVal',\n",
       " 'risefall',\n",
       " 'changeVal',\n",
       " 'changeRate',\n",
       " 'nav',\n",
       " 'threeMonthEarnRate',\n",
       " 'quant',\n",
       " 'amonut',\n",
       " 'marketSum',\n",
       " 'etfTabName']"
      ]
     },
     "execution_count": 16,
     "metadata": {},
     "output_type": "execute_result"
    }
   ],
   "source": [
    "# DataFrame df의 column 이름을 list로 만들어서 cols 라는 변수에 담습니다.\n",
    "cols = df.columns.tolist()\n",
    "cols"
   ]
  },
  {
   "cell_type": "code",
   "execution_count": 17,
   "metadata": {
    "id": "1TF4kMp1BYkq"
   },
   "outputs": [],
   "source": [
    "# 영어로 되어있는 column 이름을 한글로 바꾸기 위한 list를 만듭니다.\n",
    "# 빠진 column이 있는지 리스트와 길이를 확인합니다.\n",
    "col_name = \"\"\"종목코드\n",
    "탭코드\n",
    "종목명\n",
    "현재가\n",
    "등락구분\n",
    "전일비\n",
    "등락률\n",
    "순자산가치(NAV)\n",
    "3개월수익률\n",
    "거래량\n",
    "거래대금(백만)\n",
    "시가총액(억)\n",
    "유형\"\"\"\n",
    "col_name = col_name.split(\"\\n\")"
   ]
  },
  {
   "cell_type": "code",
   "execution_count": 18,
   "metadata": {
    "id": "3N22l3f6BYkr"
   },
   "outputs": [
    {
     "data": {
      "text/plain": [
       "{'itemcode': '종목코드',\n",
       " 'etfTabCode': '탭코드',\n",
       " 'itemname': '종목명',\n",
       " 'nowVal': '현재가',\n",
       " 'risefall': '등락구분',\n",
       " 'changeVal': '전일비',\n",
       " 'changeRate': '등락률',\n",
       " 'nav': '순자산가치(NAV)',\n",
       " 'threeMonthEarnRate': '3개월수익률',\n",
       " 'quant': '거래량',\n",
       " 'amonut': '거래대금(백만)',\n",
       " 'marketSum': '시가총액(억)',\n",
       " 'etfTabName': '유형'}"
      ]
     },
     "execution_count": 18,
     "metadata": {},
     "output_type": "execute_result"
    }
   ],
   "source": [
    "# 컬럼 영문명과 한글명을 딕셔너리 형태로 만들어 비교해 볼 수도 있습니다.\n",
    "# 하지만 좀 더 간단하게 여기에서는 리스트 값을 그대로 컬럼에 넣어주는 방법을 사용할거에요.\n",
    "# 딕셔너리로 키-값 쌍을 만들어 컬럼의 키와 값이 잘 매치되었는지 확인해 봅니다.\n",
    "dict(zip(cols, col_name))"
   ]
  },
  {
   "cell_type": "code",
   "execution_count": 19,
   "metadata": {
    "id": "ieQ9S3L-BYkr"
   },
   "outputs": [
    {
     "data": {
      "text/plain": [
       "Index(['종목코드', '탭코드', '종목명', '현재가', '등락구분', '전일비', '등락률', '순자산가치(NAV)',\n",
       "       '3개월수익률', '거래량', '거래대금(백만)', '시가총액(억)', '유형'],\n",
       "      dtype='object')"
      ]
     },
     "execution_count": 19,
     "metadata": {},
     "output_type": "execute_result"
    }
   ],
   "source": [
    "# 기존의 데이터프레임 컬럼명에 위에서 만든 컬럼명을 할당연산자로 대입해 주면 컬럼명이 변경됩니다.\n",
    "# 컬럼 변경 후 한글로 컬럼명이 잘 변경되었는지 확인해 봅니다.\n",
    "df.columns = col_name\n",
    "df.columns"
   ]
  },
  {
   "cell_type": "markdown",
   "metadata": {},
   "source": [
    "### 파생변수 만들기\n",
    "* 브랜드, 인버스, 레버리지, 환헤지H 변수 만들기\n",
    "* [Working with text data — pandas documentation](https://pandas.pydata.org/docs/user_guide/text.html)"
   ]
  },
  {
   "cell_type": "code",
   "execution_count": 20,
   "metadata": {},
   "outputs": [
    {
     "data": {
      "text/plain": [
       "'KODEX'"
      ]
     },
     "execution_count": 20,
     "metadata": {},
     "output_type": "execute_result"
    }
   ],
   "source": [
    "\"KODEX 200\".split()[0]"
   ]
  },
  {
   "cell_type": "code",
   "execution_count": 21,
   "metadata": {
    "id": "F-8P7v-3BYkr",
    "scrolled": true
   },
   "outputs": [
    {
     "data": {
      "text/html": [
       "<div>\n",
       "<style scoped>\n",
       "    .dataframe tbody tr th:only-of-type {\n",
       "        vertical-align: middle;\n",
       "    }\n",
       "\n",
       "    .dataframe tbody tr th {\n",
       "        vertical-align: top;\n",
       "    }\n",
       "\n",
       "    .dataframe thead th {\n",
       "        text-align: right;\n",
       "    }\n",
       "</style>\n",
       "<table border=\"1\" class=\"dataframe\">\n",
       "  <thead>\n",
       "    <tr style=\"text-align: right;\">\n",
       "      <th></th>\n",
       "      <th>브랜드</th>\n",
       "      <th>종목명</th>\n",
       "    </tr>\n",
       "  </thead>\n",
       "  <tbody>\n",
       "    <tr>\n",
       "      <th>0</th>\n",
       "      <td>KODEX</td>\n",
       "      <td>KODEX 200</td>\n",
       "    </tr>\n",
       "    <tr>\n",
       "      <th>1</th>\n",
       "      <td>TIGER</td>\n",
       "      <td>TIGER 200</td>\n",
       "    </tr>\n",
       "    <tr>\n",
       "      <th>2</th>\n",
       "      <td>KODEX</td>\n",
       "      <td>KODEX 200선물인버스2X</td>\n",
       "    </tr>\n",
       "    <tr>\n",
       "      <th>3</th>\n",
       "      <td>KODEX</td>\n",
       "      <td>KODEX 단기채권</td>\n",
       "    </tr>\n",
       "    <tr>\n",
       "      <th>4</th>\n",
       "      <td>KODEX</td>\n",
       "      <td>KODEX 레버리지</td>\n",
       "    </tr>\n",
       "  </tbody>\n",
       "</table>\n",
       "</div>"
      ],
      "text/plain": [
       "     브랜드               종목명\n",
       "0  KODEX         KODEX 200\n",
       "1  TIGER         TIGER 200\n",
       "2  KODEX  KODEX 200선물인버스2X\n",
       "3  KODEX        KODEX 단기채권\n",
       "4  KODEX        KODEX 레버리지"
      ]
     },
     "execution_count": 21,
     "metadata": {},
     "output_type": "execute_result"
    }
   ],
   "source": [
    "# 종목명 column의 데이터를 space(\" \")를 이용해 나누고 제일 앞부분[0]을 새로운 column을 만들어 저장하고 확인합니다.\n",
    "# expand = True 옵션을 사용하면 문자열을 나눈 값을 인덱스 순서대로 가져와서 사용할 수 있습니다.\n",
    "# df[\"브랜드\"]\n",
    "df[\"브랜드\"] = df[\"종목명\"].str.split(\" \", expand=True)[0]\n",
    "df[[\"브랜드\", \"종목명\"]].head()"
   ]
  },
  {
   "cell_type": "markdown",
   "metadata": {
    "id": "d0YQdJoABYkr"
   },
   "source": [
    "* 종목명 column의 내용중이 '인버스'라는 단어가 있으면 새로운 column '인버스'에 True 값이 들어가게 됩니다.\n",
    "* contains는 bool type을 반환하기 때문에 새로운 column에는 True나 False가 들어가게 됩니다.\n",
    "* 마찬가지로 '레버리지'와 '환헤지H'에 대해서도 동일하게 만들어 줍니다. \n",
    "* H라는 단어가 종목명에 들어갈 수도 있기 때문에 H뒤에 닫는 소괄호\")\"까지 확인합니다.\n",
    "* 소괄호는 정규표현식에서 의미를 가지는 문자이기 때문에 문자 그대로 읽어오기 위해서는 \"\\\"로 전처리가 필요합니다."
   ]
  },
  {
   "cell_type": "code",
   "execution_count": 22,
   "metadata": {
    "id": "d0YQdJoABYkr"
   },
   "outputs": [
    {
     "data": {
      "text/plain": [
       "False    90.618337\n",
       "True      9.381663\n",
       "Name: 인버스, dtype: float64"
      ]
     },
     "execution_count": 22,
     "metadata": {},
     "output_type": "execute_result"
    }
   ],
   "source": [
    "# 인버스ETF는 지수가 하락하면 오히려 수익률이 오르도록 설계된 상품입니다.\n",
    "df[\"인버스\"] = df[\"종목명\"].str.contains(\"인버스\")\n",
    "df[\"인버스\"].value_counts(normalize=True) * 100"
   ]
  },
  {
   "cell_type": "markdown",
   "metadata": {},
   "source": [
    "레버리지(leverage)는 타인의 자본을 지렛대처럼 이용하여 자기 자본의 이익률을 높이는 것이다. 고정비용이 있을 때 매출액의 변화가 기업의 손익에 미치는 영향을 분석하는 데에 쓰인다. 이는 고정영업비용과 고정재무비용의 부담정도에 따라 기업에게 귀속되는 최종적인 주당이익에 어떤 영향을 미치는지 분석할 수 있게 한다.\n",
    "\n",
    "* 출처 : [레버리지 - 위키백과, 우리 모두의 백과사전](https://ko.wikipedia.org/wiki/%EB%A0%88%EB%B2%84%EB%A6%AC%EC%A7%80)"
   ]
  },
  {
   "cell_type": "code",
   "execution_count": 23,
   "metadata": {
    "id": "d0YQdJoABYkr"
   },
   "outputs": [
    {
     "data": {
      "text/plain": [
       "False    92.750533\n",
       "True      7.249467\n",
       "Name: 레버리지, dtype: float64"
      ]
     },
     "execution_count": 23,
     "metadata": {},
     "output_type": "execute_result"
    }
   ],
   "source": [
    "df[\"레버리지\"] = df[\"종목명\"].str.contains(\"레버리지\")\n",
    "df[\"레버리지\"].value_counts(normalize=True) * 100"
   ]
  },
  {
   "cell_type": "markdown",
   "metadata": {},
   "source": [
    "헤지(hedge)란 환율, 금리 또는 다른 자산에 대한 투자등을 통해 보유하고 있는 위험자산의 가격변동을 제거하는 것을 말한다. 즉, 확정되지 않은 자산을 확정된 자산으로 편입하는 과정이라 할 수 있으며, 주로 선물 옵션과 같은 파생상품을 이용한다. 이를 통해 체계적 위험을 제거할 수 있다.\n",
    "\n",
    "부(wealth)를 결정하는 변수값의 변화와 관계없이 항상 일정한 부를 유지하게 하는 헤지를 완전헤지라고 하고, 그렇지 못한 것을 불완전헤지라고 한다.\n",
    "* 출처 : [헤지 - 위키백과, 우리 모두의 백과사전](https://ko.wikipedia.org/wiki/%ED%97%A4%EC%A7%80)"
   ]
  },
  {
   "cell_type": "code",
   "execution_count": 24,
   "metadata": {
    "id": "d0YQdJoABYkr"
   },
   "outputs": [
    {
     "data": {
      "text/html": [
       "<div>\n",
       "<style scoped>\n",
       "    .dataframe tbody tr th:only-of-type {\n",
       "        vertical-align: middle;\n",
       "    }\n",
       "\n",
       "    .dataframe tbody tr th {\n",
       "        vertical-align: top;\n",
       "    }\n",
       "\n",
       "    .dataframe thead th {\n",
       "        text-align: right;\n",
       "    }\n",
       "</style>\n",
       "<table border=\"1\" class=\"dataframe\">\n",
       "  <thead>\n",
       "    <tr style=\"text-align: right;\">\n",
       "      <th></th>\n",
       "      <th>종목명</th>\n",
       "      <th>환헤지H</th>\n",
       "    </tr>\n",
       "  </thead>\n",
       "  <tbody>\n",
       "    <tr>\n",
       "      <th>30</th>\n",
       "      <td>KODEX WTI원유선물(H)</td>\n",
       "      <td>True</td>\n",
       "    </tr>\n",
       "    <tr>\n",
       "      <th>38</th>\n",
       "      <td>KODEX 미국FANG플러스(H)</td>\n",
       "      <td>True</td>\n",
       "    </tr>\n",
       "    <tr>\n",
       "      <th>40</th>\n",
       "      <td>KODEX 골드선물(H)</td>\n",
       "      <td>True</td>\n",
       "    </tr>\n",
       "    <tr>\n",
       "      <th>44</th>\n",
       "      <td>TIGER 글로벌4차산업혁신기술(합성 H)</td>\n",
       "      <td>True</td>\n",
       "    </tr>\n",
       "    <tr>\n",
       "      <th>61</th>\n",
       "      <td>KODEX 은선물(H)</td>\n",
       "      <td>True</td>\n",
       "    </tr>\n",
       "  </tbody>\n",
       "</table>\n",
       "</div>"
      ],
      "text/plain": [
       "                        종목명  환헤지H\n",
       "30         KODEX WTI원유선물(H)  True\n",
       "38       KODEX 미국FANG플러스(H)  True\n",
       "40            KODEX 골드선물(H)  True\n",
       "44  TIGER 글로벌4차산업혁신기술(합성 H)  True\n",
       "61             KODEX 은선물(H)  True"
      ]
     },
     "execution_count": 24,
     "metadata": {},
     "output_type": "execute_result"
    }
   ],
   "source": [
    "# (H)의 의미는 환율변동 위험을 막기 위해 Hedge를 한다는 뜻이다.\n",
    "df[\"환헤지H\"] = df[\"종목명\"].str.endswith(\"H)\")\n",
    "df.loc[df[\"환헤지H\"] == True, [\"종목명\", \"환헤지H\"]].head()"
   ]
  },
  {
   "cell_type": "markdown",
   "metadata": {},
   "source": [
    "### 전처리가 잘 되었는지 확인하기"
   ]
  },
  {
   "cell_type": "code",
   "execution_count": 25,
   "metadata": {},
   "outputs": [
    {
     "data": {
      "text/plain": [
       "2    340\n",
       "5    108\n",
       "3     21\n",
       "Name: 등락구분, dtype: int64"
      ]
     },
     "execution_count": 25,
     "metadata": {},
     "output_type": "execute_result"
    }
   ],
   "source": [
    "# 등락구분에 있는 값의 빈도수를 세어봅니다.\n",
    "df[\"등락구분\"].value_counts()"
   ]
  },
  {
   "cell_type": "code",
   "execution_count": 26,
   "metadata": {
    "id": "MCaYBOfYBYkr"
   },
   "outputs": [
    {
     "name": "stdout",
     "output_type": "stream",
     "text": [
      "<class 'pandas.core.frame.DataFrame'>\n",
      "RangeIndex: 469 entries, 0 to 468\n",
      "Data columns (total 17 columns):\n",
      " #   Column      Non-Null Count  Dtype  \n",
      "---  ------      --------------  -----  \n",
      " 0   종목코드        469 non-null    object \n",
      " 1   탭코드         469 non-null    int64  \n",
      " 2   종목명         469 non-null    object \n",
      " 3   현재가         469 non-null    int64  \n",
      " 4   등락구분        469 non-null    int64  \n",
      " 5   전일비         469 non-null    int64  \n",
      " 6   등락률         469 non-null    float64\n",
      " 7   순자산가치(NAV)  341 non-null    float64\n",
      " 8   3개월수익률      448 non-null    float64\n",
      " 9   거래량         469 non-null    int64  \n",
      " 10  거래대금(백만)    469 non-null    int64  \n",
      " 11  시가총액(억)     469 non-null    int64  \n",
      " 12  유형          469 non-null    object \n",
      " 13  브랜드         469 non-null    object \n",
      " 14  인버스         469 non-null    bool   \n",
      " 15  레버리지        469 non-null    bool   \n",
      " 16  환헤지H        469 non-null    bool   \n",
      "dtypes: bool(3), float64(3), int64(7), object(4)\n",
      "memory usage: 52.8+ KB\n"
     ]
    }
   ],
   "source": [
    "# 전체적으로 데이터 전처리가 끝났다면 info를 통해 데이터 요약정보 보기\n",
    "df.info()"
   ]
  },
  {
   "cell_type": "markdown",
   "metadata": {},
   "source": [
    "## 파일로 저장하기"
   ]
  },
  {
   "cell_type": "code",
   "execution_count": 27,
   "metadata": {},
   "outputs": [
    {
     "data": {
      "text/plain": [
       "'eft_2021-01-20.csv'"
      ]
     },
     "execution_count": 27,
     "metadata": {},
     "output_type": "execute_result"
    }
   ],
   "source": [
    "# 기존에 불러왔던 파일명에서 _raw를 제거하고 새로운 파일명으로 저장합니다.\n",
    "save_file_name = file_name.replace(\"_raw\", \"\")\n",
    "save_file_name"
   ]
  },
  {
   "cell_type": "code",
   "execution_count": 28,
   "metadata": {
    "id": "WTKYc0eBBYkt"
   },
   "outputs": [],
   "source": [
    "# pandas의 to_csv로 파일을 저장합니다.\n",
    "# index=False로 인덱스값은 저장하지 않습니다.\n",
    "df.to_csv(save_file_name, index=False)"
   ]
  },
  {
   "cell_type": "code",
   "execution_count": 29,
   "metadata": {},
   "outputs": [
    {
     "data": {
      "text/html": [
       "<div>\n",
       "<style scoped>\n",
       "    .dataframe tbody tr th:only-of-type {\n",
       "        vertical-align: middle;\n",
       "    }\n",
       "\n",
       "    .dataframe tbody tr th {\n",
       "        vertical-align: top;\n",
       "    }\n",
       "\n",
       "    .dataframe thead th {\n",
       "        text-align: right;\n",
       "    }\n",
       "</style>\n",
       "<table border=\"1\" class=\"dataframe\">\n",
       "  <thead>\n",
       "    <tr style=\"text-align: right;\">\n",
       "      <th></th>\n",
       "      <th>종목코드</th>\n",
       "      <th>탭코드</th>\n",
       "      <th>종목명</th>\n",
       "      <th>현재가</th>\n",
       "      <th>등락구분</th>\n",
       "      <th>전일비</th>\n",
       "      <th>등락률</th>\n",
       "      <th>순자산가치(NAV)</th>\n",
       "      <th>3개월수익률</th>\n",
       "      <th>거래량</th>\n",
       "      <th>거래대금(백만)</th>\n",
       "      <th>시가총액(억)</th>\n",
       "      <th>유형</th>\n",
       "      <th>브랜드</th>\n",
       "      <th>인버스</th>\n",
       "      <th>레버리지</th>\n",
       "      <th>환헤지H</th>\n",
       "    </tr>\n",
       "  </thead>\n",
       "  <tbody>\n",
       "    <tr>\n",
       "      <th>0</th>\n",
       "      <td>69500</td>\n",
       "      <td>1</td>\n",
       "      <td>KODEX 200</td>\n",
       "      <td>42900</td>\n",
       "      <td>2</td>\n",
       "      <td>245</td>\n",
       "      <td>0.57</td>\n",
       "      <td>43035.0</td>\n",
       "      <td>36.4960</td>\n",
       "      <td>8821471</td>\n",
       "      <td>377823</td>\n",
       "      <td>54998</td>\n",
       "      <td>국내 시장지수</td>\n",
       "      <td>KODEX</td>\n",
       "      <td>False</td>\n",
       "      <td>False</td>\n",
       "      <td>False</td>\n",
       "    </tr>\n",
       "    <tr>\n",
       "      <th>1</th>\n",
       "      <td>102110</td>\n",
       "      <td>1</td>\n",
       "      <td>TIGER 200</td>\n",
       "      <td>42890</td>\n",
       "      <td>2</td>\n",
       "      <td>260</td>\n",
       "      <td>0.61</td>\n",
       "      <td>43020.0</td>\n",
       "      <td>36.5689</td>\n",
       "      <td>1128766</td>\n",
       "      <td>48252</td>\n",
       "      <td>28350</td>\n",
       "      <td>국내 시장지수</td>\n",
       "      <td>TIGER</td>\n",
       "      <td>False</td>\n",
       "      <td>False</td>\n",
       "      <td>False</td>\n",
       "    </tr>\n",
       "    <tr>\n",
       "      <th>2</th>\n",
       "      <td>252670</td>\n",
       "      <td>3</td>\n",
       "      <td>KODEX 200선물인버스2X</td>\n",
       "      <td>2090</td>\n",
       "      <td>5</td>\n",
       "      <td>-25</td>\n",
       "      <td>-1.18</td>\n",
       "      <td>2092.0</td>\n",
       "      <td>-48.6651</td>\n",
       "      <td>392883693</td>\n",
       "      <td>823890</td>\n",
       "      <td>19602</td>\n",
       "      <td>국내 파생</td>\n",
       "      <td>KODEX</td>\n",
       "      <td>True</td>\n",
       "      <td>False</td>\n",
       "      <td>False</td>\n",
       "    </tr>\n",
       "    <tr>\n",
       "      <th>3</th>\n",
       "      <td>153130</td>\n",
       "      <td>6</td>\n",
       "      <td>KODEX 단기채권</td>\n",
       "      <td>102665</td>\n",
       "      <td>2</td>\n",
       "      <td>5</td>\n",
       "      <td>0.00</td>\n",
       "      <td>102665.0</td>\n",
       "      <td>0.1365</td>\n",
       "      <td>17589</td>\n",
       "      <td>1805</td>\n",
       "      <td>18467</td>\n",
       "      <td>채권</td>\n",
       "      <td>KODEX</td>\n",
       "      <td>False</td>\n",
       "      <td>False</td>\n",
       "      <td>False</td>\n",
       "    </tr>\n",
       "    <tr>\n",
       "      <th>4</th>\n",
       "      <td>122630</td>\n",
       "      <td>3</td>\n",
       "      <td>KODEX 레버리지</td>\n",
       "      <td>27680</td>\n",
       "      <td>2</td>\n",
       "      <td>295</td>\n",
       "      <td>1.08</td>\n",
       "      <td>27870.0</td>\n",
       "      <td>83.6686</td>\n",
       "      <td>43815864</td>\n",
       "      <td>1209174</td>\n",
       "      <td>18380</td>\n",
       "      <td>국내 파생</td>\n",
       "      <td>KODEX</td>\n",
       "      <td>False</td>\n",
       "      <td>True</td>\n",
       "      <td>False</td>\n",
       "    </tr>\n",
       "    <tr>\n",
       "      <th>...</th>\n",
       "      <td>...</td>\n",
       "      <td>...</td>\n",
       "      <td>...</td>\n",
       "      <td>...</td>\n",
       "      <td>...</td>\n",
       "      <td>...</td>\n",
       "      <td>...</td>\n",
       "      <td>...</td>\n",
       "      <td>...</td>\n",
       "      <td>...</td>\n",
       "      <td>...</td>\n",
       "      <td>...</td>\n",
       "      <td>...</td>\n",
       "      <td>...</td>\n",
       "      <td>...</td>\n",
       "      <td>...</td>\n",
       "      <td>...</td>\n",
       "    </tr>\n",
       "    <tr>\n",
       "      <th>464</th>\n",
       "      <td>285010</td>\n",
       "      <td>2</td>\n",
       "      <td>KBSTAR 200중공업</td>\n",
       "      <td>8960</td>\n",
       "      <td>5</td>\n",
       "      <td>-50</td>\n",
       "      <td>-0.55</td>\n",
       "      <td>8975.0</td>\n",
       "      <td>22.8357</td>\n",
       "      <td>607</td>\n",
       "      <td>5</td>\n",
       "      <td>23</td>\n",
       "      <td>국내 업종/테마</td>\n",
       "      <td>KBSTAR</td>\n",
       "      <td>False</td>\n",
       "      <td>False</td>\n",
       "      <td>False</td>\n",
       "    </tr>\n",
       "    <tr>\n",
       "      <th>465</th>\n",
       "      <td>287310</td>\n",
       "      <td>2</td>\n",
       "      <td>KBSTAR 200경기소비재</td>\n",
       "      <td>12570</td>\n",
       "      <td>2</td>\n",
       "      <td>120</td>\n",
       "      <td>0.96</td>\n",
       "      <td>12572.0</td>\n",
       "      <td>44.5153</td>\n",
       "      <td>12435</td>\n",
       "      <td>159</td>\n",
       "      <td>23</td>\n",
       "      <td>국내 업종/테마</td>\n",
       "      <td>KBSTAR</td>\n",
       "      <td>False</td>\n",
       "      <td>False</td>\n",
       "      <td>False</td>\n",
       "    </tr>\n",
       "    <tr>\n",
       "      <th>466</th>\n",
       "      <td>334700</td>\n",
       "      <td>5</td>\n",
       "      <td>KBSTAR 팔라듐선물인버스(H)</td>\n",
       "      <td>5200</td>\n",
       "      <td>3</td>\n",
       "      <td>0</td>\n",
       "      <td>0.00</td>\n",
       "      <td>NaN</td>\n",
       "      <td>-2.6218</td>\n",
       "      <td>1234</td>\n",
       "      <td>6</td>\n",
       "      <td>21</td>\n",
       "      <td>원자재</td>\n",
       "      <td>KBSTAR</td>\n",
       "      <td>True</td>\n",
       "      <td>False</td>\n",
       "      <td>True</td>\n",
       "    </tr>\n",
       "    <tr>\n",
       "      <th>467</th>\n",
       "      <td>267500</td>\n",
       "      <td>4</td>\n",
       "      <td>KBSTAR 미국장기국채선물인버스2X(합성 H)</td>\n",
       "      <td>5990</td>\n",
       "      <td>5</td>\n",
       "      <td>-110</td>\n",
       "      <td>-1.80</td>\n",
       "      <td>NaN</td>\n",
       "      <td>9.2211</td>\n",
       "      <td>1838</td>\n",
       "      <td>11</td>\n",
       "      <td>18</td>\n",
       "      <td>해외 주식</td>\n",
       "      <td>KBSTAR</td>\n",
       "      <td>True</td>\n",
       "      <td>False</td>\n",
       "      <td>True</td>\n",
       "    </tr>\n",
       "    <tr>\n",
       "      <th>468</th>\n",
       "      <td>285020</td>\n",
       "      <td>2</td>\n",
       "      <td>KBSTAR 200철강소재</td>\n",
       "      <td>7470</td>\n",
       "      <td>5</td>\n",
       "      <td>-10</td>\n",
       "      <td>-0.13</td>\n",
       "      <td>7502.0</td>\n",
       "      <td>29.7484</td>\n",
       "      <td>20919</td>\n",
       "      <td>154</td>\n",
       "      <td>18</td>\n",
       "      <td>국내 업종/테마</td>\n",
       "      <td>KBSTAR</td>\n",
       "      <td>False</td>\n",
       "      <td>False</td>\n",
       "      <td>False</td>\n",
       "    </tr>\n",
       "  </tbody>\n",
       "</table>\n",
       "<p>469 rows × 17 columns</p>\n",
       "</div>"
      ],
      "text/plain": [
       "       종목코드  탭코드                         종목명     현재가  등락구분  전일비   등락률  \\\n",
       "0     69500    1                   KODEX 200   42900     2  245  0.57   \n",
       "1    102110    1                   TIGER 200   42890     2  260  0.61   \n",
       "2    252670    3            KODEX 200선물인버스2X    2090     5  -25 -1.18   \n",
       "3    153130    6                  KODEX 단기채권  102665     2    5  0.00   \n",
       "4    122630    3                  KODEX 레버리지   27680     2  295  1.08   \n",
       "..      ...  ...                         ...     ...   ...  ...   ...   \n",
       "464  285010    2               KBSTAR 200중공업    8960     5  -50 -0.55   \n",
       "465  287310    2             KBSTAR 200경기소비재   12570     2  120  0.96   \n",
       "466  334700    5          KBSTAR 팔라듐선물인버스(H)    5200     3    0  0.00   \n",
       "467  267500    4  KBSTAR 미국장기국채선물인버스2X(합성 H)    5990     5 -110 -1.80   \n",
       "468  285020    2              KBSTAR 200철강소재    7470     5  -10 -0.13   \n",
       "\n",
       "     순자산가치(NAV)   3개월수익률        거래량  거래대금(백만)  시가총액(억)        유형     브랜드  \\\n",
       "0       43035.0  36.4960    8821471    377823    54998   국내 시장지수   KODEX   \n",
       "1       43020.0  36.5689    1128766     48252    28350   국내 시장지수   TIGER   \n",
       "2        2092.0 -48.6651  392883693    823890    19602     국내 파생   KODEX   \n",
       "3      102665.0   0.1365      17589      1805    18467        채권   KODEX   \n",
       "4       27870.0  83.6686   43815864   1209174    18380     국내 파생   KODEX   \n",
       "..          ...      ...        ...       ...      ...       ...     ...   \n",
       "464      8975.0  22.8357        607         5       23  국내 업종/테마  KBSTAR   \n",
       "465     12572.0  44.5153      12435       159       23  국내 업종/테마  KBSTAR   \n",
       "466         NaN  -2.6218       1234         6       21       원자재  KBSTAR   \n",
       "467         NaN   9.2211       1838        11       18     해외 주식  KBSTAR   \n",
       "468      7502.0  29.7484      20919       154       18  국내 업종/테마  KBSTAR   \n",
       "\n",
       "       인버스   레버리지   환헤지H  \n",
       "0    False  False  False  \n",
       "1    False  False  False  \n",
       "2     True  False  False  \n",
       "3    False  False  False  \n",
       "4    False   True  False  \n",
       "..     ...    ...    ...  \n",
       "464  False  False  False  \n",
       "465  False  False  False  \n",
       "466   True  False   True  \n",
       "467   True  False   True  \n",
       "468  False  False  False  \n",
       "\n",
       "[469 rows x 17 columns]"
      ]
     },
     "execution_count": 29,
     "metadata": {},
     "output_type": "execute_result"
    }
   ],
   "source": [
    "# 저장한 파일을 읽어와서 제대로 저장되었는지 확인합니다.\n",
    "# 또, 종목코드는 그냥 읽어오면 숫자 맨 앞의 0이 생략될 수 있으니 object 타입으로 불러옵니다.\n",
    "pd.read_csv(save_file_name)"
   ]
  },
  {
   "cell_type": "code",
   "execution_count": null,
   "metadata": {},
   "outputs": [],
   "source": []
  }
 ],
 "metadata": {
  "colab": {
   "collapsed_sections": [],
   "name": "8. naver-etf-eda.ipynb",
   "provenance": [],
   "toc_visible": true
  },
  "kernelspec": {
   "display_name": "Python 3",
   "language": "python",
   "name": "python3"
  },
  "language_info": {
   "codemirror_mode": {
    "name": "ipython",
    "version": 3
   },
   "file_extension": ".py",
   "mimetype": "text/x-python",
   "name": "python",
   "nbconvert_exporter": "python",
   "pygments_lexer": "ipython3",
   "version": "3.7.6"
  },
  "toc": {
   "base_numbering": 1,
   "nav_menu": {},
   "number_sections": true,
   "sideBar": true,
   "skip_h1_title": false,
   "title_cell": "Table of Contents",
   "title_sidebar": "Contents",
   "toc_cell": false,
   "toc_position": {
    "height": "calc(100% - 180px)",
    "left": "10px",
    "top": "150px",
    "width": "202px"
   },
   "toc_section_display": true,
   "toc_window_display": true
  },
  "varInspector": {
   "cols": {
    "lenName": 16,
    "lenType": 16,
    "lenVar": 40
   },
   "kernels_config": {
    "python": {
     "delete_cmd_postfix": "",
     "delete_cmd_prefix": "del ",
     "library": "var_list.py",
     "varRefreshCmd": "print(var_dic_list())"
    },
    "r": {
     "delete_cmd_postfix": ") ",
     "delete_cmd_prefix": "rm(",
     "library": "var_list.r",
     "varRefreshCmd": "cat(var_dic_list()) "
    }
   },
   "types_to_exclude": [
    "module",
    "function",
    "builtin_function_or_method",
    "instance",
    "_Feature"
   ],
   "window_display": false
  }
 },
 "nbformat": 4,
 "nbformat_minor": 1
}
